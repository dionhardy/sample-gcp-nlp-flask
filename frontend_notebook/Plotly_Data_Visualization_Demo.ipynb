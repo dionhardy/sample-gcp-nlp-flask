{
 "cells": [
  {
   "cell_type": "markdown",
   "id": "62b7257d",
   "metadata": {},
   "source": [
    "# Data Visualization with Plotly Demo\n",
    "\n",
    "## Introduction to Jupyter Notebook\n",
    "Jupyter Notebooks are a staple in any data scientist's toolkit. It is a free, open source, interactive data science environment that can function as both an IDE and a visualisation tool. A Jupyter Notebook is a single document where you can run code, display the output and add equations and explainations. Each notebook is a `.ipynb` file, which is a text file that describes the content of the notebook in JSON format.\n",
    "\n",
    "Each Jupter Notebook contains a kernal that can be thought of as a \"computational engine\" that executes the code within the notebook. Notebooks are made up of a number of cells. For example, this piece of text you are reading resides in the first cell of this notebook. They can be markdown cells that display text in-place or code cells. When a code cell is run, the output is displayed below the cell. The order in which cells are run matters! Cells containing functions or variables have to be run before those same functions or variables can be called from a subsequent cell. \n",
    "\n",
    "How to use a Jupyter Notebook:\n",
    "- To run a cell, either click the arrow to the left of the cell or press `ctrl + Enter` after selecting the cell. When a cell is run, a number will appear in square brackets (e.g. [1]) telling you the order in which each cell is run.\n",
    "- To interrupt a cell while it is running, press the button with the black square in the toolbar at the top\n",
    "- To restart the kernal, right-click `kernel` and choose from the list of restart options available\n",
    "\n",
    "\n",
    "## Introduction to Plotly\n",
    "\n",
    "Pandas is an open source library providing data structure and data analysis tools for the Python language. Plotly is another open source that allows you to put together high quality graphs to faciliate the visualisation of the data. Plotly Dash (written on top of Plotly.js and React.js) allows one to quickly build data apps that are rendered in the browser. \n",
    "\n",
    "This notebook contains examples of how each of these libraries can be leveraged to analyse and visualise data. For more information, please check out the official documentation listed below.\n",
    "\n",
    "#### Further Documentation\n",
    "https://pandas.pydata.org/docs/ \\\n",
    "https://plot.ly/python/ \\\n",
    "https://dash.plotly.com/introduction "
   ]
  },
  {
   "cell_type": "markdown",
   "id": "e3e9b749",
   "metadata": {},
   "source": [
    "## Setting Up\n",
    "\n",
    "You can install the libraries using pip or conda. \n",
    "\n",
    "**N.B.** you may have to restart the kernel after installing these packages for your first run."
   ]
  },
  {
   "cell_type": "code",
   "execution_count": 1,
   "id": "a6ccdd82",
   "metadata": {},
   "outputs": [
     ]
    }
   ],
   "source": [
    "#!/bin/env python\n",
    "\n",
    "# install packages\n",
    "!pip install --user pandas\n",
    "!pip install --user numpy\n",
    "!pip install --user matplotlib\n",
    "!pip install --user plotly\n",
    "!pip install --user jupyter-dash"
   ]
  },
  {
   "cell_type": "markdown",
   "id": "575d5f13",
   "metadata": {},
   "source": [
    "Having installed the libraries, you can import them as follows."
   ]
  },
  {
   "cell_type": "code",
   "execution_count": 2,
   "id": "16a4f920",
   "metadata": {},
   "outputs": [],
   "source": [
    "# import libraries\n",
    "%matplotlib inline\n",
    "\n",
    "import requests\n",
    "import json\n",
    "import pandas as pd\n",
    "import numpy as np\n",
    "import matplotlib.pyplot as plt\n",
    "import plotly.express as px\n",
    "import plotly.graph_objects as go\n",
    "from plotly.subplots import make_subplots\n",
    "from jupyter_dash import JupyterDash\n",
    "from dash import dcc\n",
    "from dash import html\n",
    "from dash.dependencies import Input, Output, State\n",
    "\n",
    "# Set display row/column to show all data\n",
    "pd.set_option('display.max_rows', None)\n",
    "pd.set_option('display.max_columns', None)"
   ]
  },
  {
   "cell_type": "markdown",
   "id": "2c8adbeb",
   "metadata": {},
   "source": [
    "## Access Data From Endpoint\n",
    "\n",
    "#### Further Documentation\n",
    "https://docs.python-requests.org/en/master/\n",
    "\n",
    "**N.B.** the url used in this example is from the demo project we have set up. Please replace it with your own url."
   ]
  },
  {
   "cell_type": "code",
   "execution_count": 3,
   "id": "f3c61d47",
   "metadata": {},
   "outputs": [
    {
      ]
     },
     "execution_count": 3,
     "metadata": {},
     "output_type": "execute_result"
    }
   ],
   "source": [
    "# define endpoint url\n",
    "url = \"https://gee-team-test1.ew.r.appspot.com/api/text\"\n",
    "\n",
    "# use requests library to send HTTP requests\n",
    "# in this example, GET sentiment analysis data\n",
    "data = json.loads(requests.get(url).text)\n",
    "\n",
    "# examine data\n",
    "data"
   ]
  },
  {
   "cell_type": "markdown",
   "id": "15e94864",
   "metadata": {},
   "source": [
    "## Data Visualisation\n",
    "\n",
    "Plotly is a commonly-used data visualisation library. The following examples will show you how to create different graphs from the sample data.\n",
    "\n",
    "We can first read the sample data into a dataframe. The sample data is taken from the UK Met Office and shows the maximum and minimum temperature, the rainfall and the number of hours of sunlight for each month in 2018."
   ]
  },
  {
   "cell_type": "code",
   "execution_count": 4,
   "id": "5f2c7515",
   "metadata": {},
   "outputs": [
    {
      ],
      "text/plain": [
       "    Year  Month  Tmax  Tmin  Rain    Sun\n",
       "0   2018      1   9.7   3.8  58.0   46.5\n",
       "1   2018      2   6.7   0.6  29.0   92.0\n",
       "2   2018      3   9.8   3.0  81.2   70.3\n",
       "3   2018      4  15.5   7.9  65.2  113.4\n",
       "4   2018      5  20.8   9.8  58.4  248.3\n",
       "5   2018      6  24.2  13.1   0.4  234.5\n",
       "6   2018      7  28.3  16.4  14.8  272.5\n",
       "7   2018      8  24.5  14.5  48.2  182.1\n",
       "8   2018      9  20.9  11.0  29.4  195.0\n",
       "9   2018     10  16.5   8.5  61.0  137.0\n",
       "10  2018     11  12.2   5.8  73.8   72.9\n",
       "11  2018     12  10.7   5.2  60.6   40.3"
      ]
     },
     "execution_count": 4,
     "metadata": {},
     "output_type": "execute_result"
    }
   ],
   "source": [
    "# read sample csv data into dataframe\n",
    "weather = pd.read_csv('SampleData_Weather.csv')\n",
    "weather"
   ]
  },
  {
   "cell_type": "markdown",
   "id": "8cca14ef",
   "metadata": {},
   "source": [
    "To gain more insight into a particular column, you can use the *describe()* method on the dataframe column name."
   ]
  },
  {
   "cell_type": "code",
   "execution_count": 5,
   "id": "58d48ab3",
   "metadata": {},
   "outputs": [
    {
     "name": "stdout",
     "output_type": "stream",
     "text": [
      "count    12.000000\n",
      "mean     48.333333\n",
      "std      24.630555\n",
      "min       0.400000\n",
      "25%      29.300000\n",
      "50%      58.200000\n",
      "75%      62.050000\n",
      "max      81.200000\n",
      "Name: Rain, dtype: float64\n"
     ]
    }
   ],
   "source": [
    "# describe the monthly rainfall\n",
    "rain_data = weather.Rain.describe()\n",
    "print(rain_data)"
   ]
  },
  {
   "cell_type": "markdown",
   "id": "190b793c",
   "metadata": {},
   "source": [
    "#### 1D Line Graph"
   ]
  },
  {
   "cell_type": "code",
   "execution_count": 6,
   "id": "5eee88bf",
   "metadata": {},
   "outputs": [
    {
      ]
     },
     "metadata": {},
     "output_type": "display_data"
    },
    {
     "data": {
      "application/vnd.plotly.v1+json": {
       "config": {
        "plotlyServerURL": "https://plot.ly"
       },
       "data": [
        {
         "hovertemplate": "Month=%{x}<br>Tmax=%{y}<extra></extra>",
         "legendgroup": "",
         "line": {
          "color": "#636efa",
          "dash": "solid"
         },
         "marker": {
          "symbol": "circle"
         },
         "mode": "lines",
         "name": "",
         "orientation": "v",
         "showlegend": false,
         "type": "scatter",
         "x": [
          1,
          2,
          3,
          4,
          5,
          6,
          7,
          8,
          9,
          10,
          11,
          12
         ],
         "xaxis": "x",
         "y": [
          9.7,
          6.7,
          9.8,
          15.5,
          20.8,
          24.2,
          28.3,
          24.5,
          20.9,
          16.5,
          12.2,
          10.7
         ],
         "yaxis": "y"
        }
       ],
       "layout": {
        "autosize": true,
        "legend": {
         "tracegroupgap": 0
        },
        "margin": {
         "t": 60
        },
        "template": {
         "data": {
          "bar": [
           {
            "error_x": {
             "color": "#2a3f5f"
            },
            "error_y": {
             "color": "#2a3f5f"
            },
            "marker": {
             "line": {
              "color": "#E5ECF6",
              "width": 0.5
             },
             "pattern": {
              "fillmode": "overlay",
              "size": 10,
              "solidity": 0.2
             }
            },
            "type": "bar"
           }
          ],
          "barpolar": [
           {
            "marker": {
             "line": {
              "color": "#E5ECF6",
              "width": 0.5
             },
             "pattern": {
              "fillmode": "overlay",
              "size": 10,
              "solidity": 0.2
             }
            },
            "type": "barpolar"
           }
          ],
          "carpet": [
           {
            "aaxis": {
             "endlinecolor": "#2a3f5f",
             "gridcolor": "white",
             "linecolor": "white",
             "minorgridcolor": "white",
             "startlinecolor": "#2a3f5f"
            },
            "baxis": {
             "endlinecolor": "#2a3f5f",
             "gridcolor": "white",
             "linecolor": "white",
             "minorgridcolor": "white",
             "startlinecolor": "#2a3f5f"
            },
            "type": "carpet"
           }
          ],
          "choropleth": [
           {
            "colorbar": {
             "outlinewidth": 0,
             "ticks": ""
            },
            "type": "choropleth"
           }
          ],
          "contour": [
           {
            "colorbar": {
             "outlinewidth": 0,
             "ticks": ""
            },
            "colorscale": [
             [
              0,
              "#0d0887"
             ],
             [
              0.1111111111111111,
              "#46039f"
             ],
             [
              0.2222222222222222,
              "#7201a8"
             ],
             [
              0.3333333333333333,
              "#9c179e"
             ],
             [
              0.4444444444444444,
              "#bd3786"
             ],
             [
              0.5555555555555556,
              "#d8576b"
             ],
             [
              0.6666666666666666,
              "#ed7953"
             ],
             [
              0.7777777777777778,
              "#fb9f3a"
             ],
             [
              0.8888888888888888,
              "#fdca26"
             ],
             [
              1,
              "#f0f921"
             ]
            ],
            "type": "contour"
           }
          ],
          "contourcarpet": [
           {
            "colorbar": {
             "outlinewidth": 0,
             "ticks": ""
            },
            "type": "contourcarpet"
           }
          ],
          "heatmap": [
           {
            "colorbar": {
             "outlinewidth": 0,
             "ticks": ""
            },
            "colorscale": [
             [
              0,
              "#0d0887"
             ],
             [
              0.1111111111111111,
              "#46039f"
             ],
             [
              0.2222222222222222,
              "#7201a8"
             ],
             [
              0.3333333333333333,
              "#9c179e"
             ],
             [
              0.4444444444444444,
              "#bd3786"
             ],
             [
              0.5555555555555556,
              "#d8576b"
             ],
             [
              0.6666666666666666,
              "#ed7953"
             ],
             [
              0.7777777777777778,
              "#fb9f3a"
             ],
             [
              0.8888888888888888,
              "#fdca26"
             ],
             [
              1,
              "#f0f921"
             ]
            ],
            "type": "heatmap"
           }
          ],
          "heatmapgl": [
           {
            "colorbar": {
             "outlinewidth": 0,
             "ticks": ""
            },
            "colorscale": [
             [
              0,
              "#0d0887"
             ],
             [
              0.1111111111111111,
              "#46039f"
             ],
             [
              0.2222222222222222,
              "#7201a8"
             ],
             [
              0.3333333333333333,
              "#9c179e"
             ],
             [
              0.4444444444444444,
              "#bd3786"
             ],
             [
              0.5555555555555556,
              "#d8576b"
             ],
             [
              0.6666666666666666,
              "#ed7953"
             ],
             [
              0.7777777777777778,
              "#fb9f3a"
             ],
             [
              0.8888888888888888,
              "#fdca26"
             ],
             [
              1,
              "#f0f921"
             ]
            ],
            "type": "heatmapgl"
           }
          ],
          "histogram": [
           {
            "marker": {
             "pattern": {
              "fillmode": "overlay",
              "size": 10,
              "solidity": 0.2
             }
            },
            "type": "histogram"
           }
          ],
          "histogram2d": [
           {
            "colorbar": {
             "outlinewidth": 0,
             "ticks": ""
            },
            "colorscale": [
             [
              0,
              "#0d0887"
             ],
             [
              0.1111111111111111,
              "#46039f"
             ],
             [
              0.2222222222222222,
              "#7201a8"
             ],
             [
              0.3333333333333333,
              "#9c179e"
             ],
             [
              0.4444444444444444,
              "#bd3786"
             ],
             [
              0.5555555555555556,
              "#d8576b"
             ],
             [
              0.6666666666666666,
              "#ed7953"
             ],
             [
              0.7777777777777778,
              "#fb9f3a"
             ],
             [
              0.8888888888888888,
              "#fdca26"
             ],
             [
              1,
              "#f0f921"
             ]
            ],
            "type": "histogram2d"
           }
          ],
          "histogram2dcontour": [
           {
            "colorbar": {
             "outlinewidth": 0,
             "ticks": ""
            },
            "colorscale": [
             [
              0,
              "#0d0887"
             ],
             [
              0.1111111111111111,
              "#46039f"
             ],
             [
              0.2222222222222222,
              "#7201a8"
             ],
             [
              0.3333333333333333,
              "#9c179e"
             ],
             [
              0.4444444444444444,
              "#bd3786"
             ],
             [
              0.5555555555555556,
              "#d8576b"
             ],
             [
              0.6666666666666666,
              "#ed7953"
             ],
             [
              0.7777777777777778,
              "#fb9f3a"
             ],
             [
              0.8888888888888888,
              "#fdca26"
             ],
             [
              1,
              "#f0f921"
             ]
            ],
            "type": "histogram2dcontour"
           }
          ],
          "mesh3d": [
           {
            "colorbar": {
             "outlinewidth": 0,
             "ticks": ""
            },
            "type": "mesh3d"
           }
          ],
          "parcoords": [
           {
            "line": {
             "colorbar": {
              "outlinewidth": 0,
              "ticks": ""
             }
            },
            "type": "parcoords"
           }
          ],
          "pie": [
           {
            "automargin": true,
            "type": "pie"
           }
          ],
          "scatter": [
           {
            "marker": {
             "colorbar": {
              "outlinewidth": 0,
              "ticks": ""
             }
            },
            "type": "scatter"
           }
          ],
          "scatter3d": [
           {
            "line": {
             "colorbar": {
              "outlinewidth": 0,
              "ticks": ""
             }
            },
            "marker": {
             "colorbar": {
              "outlinewidth": 0,
              "ticks": ""
             }
            },
            "type": "scatter3d"
           }
          ],
          "scattercarpet": [
           {
            "marker": {
             "colorbar": {
              "outlinewidth": 0,
              "ticks": ""
             }
            },
            "type": "scattercarpet"
           }
          ],
          "scattergeo": [
           {
            "marker": {
             "colorbar": {
              "outlinewidth": 0,
              "ticks": ""
             }
            },
            "type": "scattergeo"
           }
          ],
          "scattergl": [
           {
            "marker": {
             "colorbar": {
              "outlinewidth": 0,
              "ticks": ""
             }
            },
            "type": "scattergl"
           }
          ],
          "scattermapbox": [
           {
            "marker": {
             "colorbar": {
              "outlinewidth": 0,
              "ticks": ""
             }
            },
            "type": "scattermapbox"
           }
          ],
          "scatterpolar": [
           {
            "marker": {
             "colorbar": {
              "outlinewidth": 0,
              "ticks": ""
             }
            },
            "type": "scatterpolar"
           }
          ],
          "scatterpolargl": [
           {
            "marker": {
             "colorbar": {
              "outlinewidth": 0,
              "ticks": ""
             }
            },
            "type": "scatterpolargl"
           }
          ],
          "scatterternary": [
           {
            "marker": {
             "colorbar": {
              "outlinewidth": 0,
              "ticks": ""
             }
            },
            "type": "scatterternary"
           }
          ],
          "surface": [
           {
            "colorbar": {
             "outlinewidth": 0,
             "ticks": ""
            },
            "colorscale": [
             [
              0,
              "#0d0887"
             ],
             [
              0.1111111111111111,
              "#46039f"
             ],
             [
              0.2222222222222222,
              "#7201a8"
             ],
             [
              0.3333333333333333,
              "#9c179e"
             ],
             [
              0.4444444444444444,
              "#bd3786"
             ],
             [
              0.5555555555555556,
              "#d8576b"
             ],
             [
              0.6666666666666666,
              "#ed7953"
             ],
             [
              0.7777777777777778,
              "#fb9f3a"
             ],
             [
              0.8888888888888888,
              "#fdca26"
             ],
             [
              1,
              "#f0f921"
             ]
            ],
            "type": "surface"
           }
          ],
          "table": [
           {
            "cells": {
             "fill": {
              "color": "#EBF0F8"
             },
             "line": {
              "color": "white"
             }
            },
            "header": {
             "fill": {
              "color": "#C8D4E3"
             },
             "line": {
              "color": "white"
             }
            },
            "type": "table"
           }
          ]
         },
         "layout": {
          "annotationdefaults": {
           "arrowcolor": "#2a3f5f",
           "arrowhead": 0,
           "arrowwidth": 1
          },
          "autotypenumbers": "strict",
          "coloraxis": {
           "colorbar": {
            "outlinewidth": 0,
            "ticks": ""
           }
          },
          "colorscale": {
           "diverging": [
            [
             0,
             "#8e0152"
            ],
            [
             0.1,
             "#c51b7d"
            ],
            [
             0.2,
             "#de77ae"
            ],
            [
             0.3,
             "#f1b6da"
            ],
            [
             0.4,
             "#fde0ef"
            ],
            [
             0.5,
             "#f7f7f7"
            ],
            [
             0.6,
             "#e6f5d0"
            ],
            [
             0.7,
             "#b8e186"
            ],
            [
             0.8,
             "#7fbc41"
            ],
            [
             0.9,
             "#4d9221"
            ],
            [
             1,
             "#276419"
            ]
           ],
           "sequential": [
            [
             0,
             "#0d0887"
            ],
            [
             0.1111111111111111,
             "#46039f"
            ],
            [
             0.2222222222222222,
             "#7201a8"
            ],
            [
             0.3333333333333333,
             "#9c179e"
            ],
            [
             0.4444444444444444,
             "#bd3786"
            ],
            [
             0.5555555555555556,
             "#d8576b"
            ],
            [
             0.6666666666666666,
             "#ed7953"
            ],
            [
             0.7777777777777778,
             "#fb9f3a"
            ],
            [
             0.8888888888888888,
             "#fdca26"
            ],
            [
             1,
             "#f0f921"
            ]
           ],
           "sequentialminus": [
            [
             0,
             "#0d0887"
            ],
            [
             0.1111111111111111,
             "#46039f"
            ],
            [
             0.2222222222222222,
             "#7201a8"
            ],
            [
             0.3333333333333333,
             "#9c179e"
            ],
            [
             0.4444444444444444,
             "#bd3786"
            ],
            [
             0.5555555555555556,
             "#d8576b"
            ],
            [
             0.6666666666666666,
             "#ed7953"
            ],
            [
             0.7777777777777778,
             "#fb9f3a"
            ],
            [
             0.8888888888888888,
             "#fdca26"
            ],
            [
             1,
             "#f0f921"
            ]
           ]
          },
          "colorway": [
           "#636efa",
           "#EF553B",
           "#00cc96",
           "#ab63fa",
           "#FFA15A",
           "#19d3f3",
           "#FF6692",
           "#B6E880",
           "#FF97FF",
           "#FECB52"
          ],
          "font": {
           "color": "#2a3f5f"
          },
          "geo": {
           "bgcolor": "white",
           "lakecolor": "white",
           "landcolor": "#E5ECF6",
           "showlakes": true,
           "showland": true,
           "subunitcolor": "white"
          },
          "hoverlabel": {
           "align": "left"
          },
          "hovermode": "closest",
          "mapbox": {
           "style": "light"
          },
          "paper_bgcolor": "white",
          "plot_bgcolor": "#E5ECF6",
          "polar": {
           "angularaxis": {
            "gridcolor": "white",
            "linecolor": "white",
            "ticks": ""
           },
           "bgcolor": "#E5ECF6",
           "radialaxis": {
            "gridcolor": "white",
            "linecolor": "white",
            "ticks": ""
           }
          },
          "scene": {
           "xaxis": {
            "backgroundcolor": "#E5ECF6",
            "gridcolor": "white",
            "gridwidth": 2,
            "linecolor": "white",
            "showbackground": true,
            "ticks": "",
            "zerolinecolor": "white"
           },
           "yaxis": {
            "backgroundcolor": "#E5ECF6",
            "gridcolor": "white",
            "gridwidth": 2,
            "linecolor": "white",
            "showbackground": true,
            "ticks": "",
            "zerolinecolor": "white"
           },
           "zaxis": {
            "backgroundcolor": "#E5ECF6",
            "gridcolor": "white",
            "gridwidth": 2,
            "linecolor": "white",
            "showbackground": true,
            "ticks": "",
            "zerolinecolor": "white"
           }
          },
          "shapedefaults": {
           "line": {
            "color": "#2a3f5f"
           }
          },
          "ternary": {
           "aaxis": {
            "gridcolor": "white",
            "linecolor": "white",
            "ticks": ""
           },
           "baxis": {
            "gridcolor": "white",
            "linecolor": "white",
            "ticks": ""
           },
           "bgcolor": "#E5ECF6",
           "caxis": {
            "gridcolor": "white",
            "linecolor": "white",
            "ticks": ""
           }
          },
          "title": {
           "x": 0.05
          },
          "xaxis": {
           "automargin": true,
           "gridcolor": "white",
           "linecolor": "white",
           "ticks": "",
           "title": {
            "standoff": 15
           },
           "zerolinecolor": "white",
           "zerolinewidth": 2
          },
          "yaxis": {
           "automargin": true,
           "gridcolor": "white",
           "linecolor": "white",
           "ticks": "",
           "title": {
            "standoff": 15
           },
           "zerolinecolor": "white",
           "zerolinewidth": 2
          }
         }
        },
        "xaxis": {
         "anchor": "y",
         "autorange": true,
         "domain": [
          0,
          1
         ],
         "range": [
          1,
          12
         ],
         "title": {
          "text": "Month"
         },
         "type": "linear"
        },
        "yaxis": {
         "anchor": "x",
         "autorange": true,
         "domain": [
          0,
          1
         ],
         "range": [
          5.5,
          29.5
         ],
         "title": {
          "text": "Tmax"
         },
         "type": "linear"
        }
       }
      },
      "image/png": "iVBORw0KGgoAAAANSUhEUgAABA4AAAHCCAYAAABvzIsoAAAgAElEQVR4Xuy9ebAV13no+3Vv5nkGMYgZMSMxHkBoACTLEhKSHN+byq1K3etMN666FZfj+DmuSv5w6jl6SuLnXN84tuXp2XE8yJI1WyNinkECTSAJEINAIA7zDLv3q9WLzTkczuHs7q/37unXVZQE9Ld6rd+3Dnvv3/7WWk6pVCoJFwQgAAEIQAACEIAABCAAAQhAAAIQaIaAgzhgXkAAAhCAAAQgAAEIQAACEIAABCDQEgHEAXMDAhCAAAQgAAEIQAACEIAABCAAgRYJIA6YHBCAAAQgAAEIQAACEIAABCAAAQggDpgDEIAABCAAAQhAAAIQgAAEIAABCAQnQMVBcGZEQAACEIAABCAAAQhAAAIQgAAEckMAcZCbVDNQCEAAAhCAAAQgAAEIQAACEIBAcAKIg+DMiIAABCAAAQhAAAIQgAAEIAABCOSGAOIgN6lmoBCAAAQgAAEIQAACEIAABCAAgeAEEAfBmREBAQhAAAIQgAAEIAABCEAAAhDIDQHEQW5SzUAhAAEIQAACEIAABCAAAQhAAALBCSAOgjMjAgIQgAAEIAABCEAAAhCAAAQgkBsCiIPcpJqBQgACEIAABCAAAQhAAAIQgAAEghNAHARnRgQEIAABCEAAAhCAAAQgAAEIQCA3BBAHuUk1A4UABCAAAQhAAAIQgAAEIAABCAQngDgIzowICEAAAhCAAAQgAAEIQAACEIBAbgggDnKTagYKAQhAAAIQgAAEIAABCEAAAhAITgBxEJwZERCAAAQgAAEIQAACEIAABCAAgdwQQBzkJtUMFAIQgAAEIAABCEAAAhCAAAQgEJwA4iA4MyIgAAEIQAACEIAABCAAAQhAAAK5IYA4yE2qGSgEIAABCEAAAhCAAAQgAAEIQCA4AcRBcGZEQAACEIAABCAAAQhAAAIQgAAEckMAcZCbVDNQCEAAAhCAAAQgAAEIQAACEIBAcAKIg+DMiIAABCAAAQhAAAIQgAAEIAABCOSGAOIgN6lmoBCAAAQgAAEIQAACEIAABCAAgeAEEAfBmREBAQhAAAIQgAAEIAABCEAAAhDIDQHEQW5SzUAhAAEIQAACEIAABCAAAQhAAALBCSAOgjMjAgIQgAAEIAABCEAAAhCAAAQgkBsCiIPcpJqBQgACEIAABCAAAQhAAAIQgAAEghNAHARnRgQEIAABCEAAAhCAAAQgAAEIQCA3BBAHuUk1A4UABCAAAQhAAAIQgAAEIAABCAQngDgIzowICEAAAhCAAAQgAAEIQAACEIBAbgggDnKTagYKAQhAAAIQgAAEIAABCEAAAhAITgBxEJwZERCAAAQgAAEIQAACEIAABCAAgdwQQBzkJtUMFAIQgAAEIAABCEAAAhCAAAQgEJwA4iA4MyIgAAEIQAACEIAABCAAAQhAAAK5IYA4yE2qGSgEIAABCEAAAhCAAAQgAAEIQCA4AcRBcGZEQAACEIAABCAAAQhAAAIQgAAEckMAcZCbVDNQCEAAAhCAAAQgAAEIQAACEIBAcAKIg+DMiIAABCAAAQhAAAIQgAAEIAABCOSGAOIgN6lmoBCAAAQgAAEIQAACEIAABCAAgeAEEAfBmREBAQhAAAIQgAAEIAABCEAAAhDIDQHEQW5SzUAhAAEIQAACEIAABCAAAQhAAALBCSAOgjMjAgIQgAAEIAABCEAAAhCAAAQgkBsCiIPcpJqBQgACEIAABCAAAQhAAAIQgAAEghNAHARnRgQEIAABCEAAAhCAAAQgAAEIQCA3BBAHuUk1A4UABCAAAQhAAAIQgAAEIAABCAQngDgIzowICEAAAhCAAAQgAAEIQAACEIBAbgggDnKTagYKAQhAAAIQgAAEIAABCEAAAhAITgBxEJwZERCAAAQgAAEIQAACEIAABCAAgdwQQBzkJtUMFAIQgAAEIAABCEAAAhCAAAQgEJwA4iA4MyIgAAEIQAACEIAABCAAAQhAAAK5IYA4yE2qGSgEIAABCEAAAhCAAAQgAAEIQCA4AcRBcGZEQAACEIAABCAAAQhAAAIQgAAEckMAcZCbVDNQCEAAAhCAAAQgAAEIQAACEIBAcAKIg+DMiIAABCAAAQhAAAIQgAAEIAABCOSGAOIgN6lmoBCAAAQgAAEIQAACEIAABCAAgeAEEAfBmREBAQhAAAIQgAAEIAABCEAAAhDIDQHEQW5SzUAhAAEIQAACEIAABCAAAQhAAALBCSAOgjMjAgIQgAAEIAABCEAAAhCAAAQgkBsCiANlqvfXn1W2kN/wXl3byZnzRTl3oZhfCIw8FgKOIzKgZ0c5cISf31gSkPOHdu7QRtoUHDl++mLOSTD8OAj06d5eTpy+KBcueXE8nmfmmID5d69X1/Zy6Ni5HFNg6HESGNi7Y5yPT/2zEQfKFCIOwgNEHIRnR6SOAOJAx49oHQHEgY4f0ToCiAMdP6LDE0AchGdHZDQEEAc6jogDHT9BHIQHiDgIz45IHQHEgY4f0ToCiAMdP6J1BBAHOn5EhyeAOAjPjshoCCAOdBwRBzp+iAMFP8SBAh6hKgKIAxU+gpUEEAdKgISrCCAOVPgIVhBAHCjgERoJAcSBDiPiQMcPcaDghzhQwCNURQBxoMJHsJIA4kAJkHAVAcSBCh/BCgKIAwU8QiMhgDjQYUQc6PghDhT8EAcKeISqCCAOVPgIVhJAHCgBEq4igDhQ4SNYQQBxoIBHaCQEEAc6jIgDHT/EgYIf4kABj1AVAcSBCh/BSgKIAyVAwlUEEAcqfAQrCCAOFPAIjYQA4kCHEXGg44c4UPBDHCjgEaoigDhQ4SNYSQBxoARIuIoA4kCFj2AFAcSBAh6hkRBAHOgwIg50/BAHCn6IAwU8QlUEEAcqfAQrCSAOlAAJVxFAHKjwEawggDhQwCM0EgKIAx1GxIGOH+JAwQ9xoIBHqIoA4kCFj2AlAcSBEiDhKgKIAxU+ghUEEAcKeIRGQgBxoMOIONDxQxwo+CEOFPAIVRFAHKjwEawkgDhQAiRcRQBxoMJHsIIA4kABj9BICCAOdBgRBzp+iAMFP8SBAh6hKgKIAxU+gpUEEAdKgISrCCAOVPgIVhBAHCjgERoJAcSBDiPiQMcPcaDghzhQwCNURQBxoMJHsJIA4kAJkHAVAcSBCh/BCgKIAwU8QiMhgDjQYUQc6PghDhT8EAcKeISqCCAOVPgIVhJAHCgBEq4igDhQ4SNYQQBxoIBHaCQEEAc6jIgDHT/EgYIf4kABj1AVAcSBCh/BSgKIAx3AdRtc8Yois+s8XUM5jUYc5DTxCRg24iABSch5FxAHugmAONDxQxwo+CEOFPAIVRFAHKjwEawkgDgIB/DkSZHfPFGQ3Xscv4H+/Ury0AOeDBxYCtdgTqMQBzlNfAKGjThIQBJy3gXEgW4CIA50/BAHCn6IAwU8QlUEEAcqfAQrCSAOggNcs9aV37/s+oG9epbEdUUO11uBMHO6J4vupfqgUqqIg0pJcV/UBBAHUROlvaAEEAdBiV19P+JAxw9xoOCHOFDAI1RFAHGgwkewkgDioHKAx46L/Oa3Bdn3sZUEM6Z5ctcCzxcHS5e7snK1lQlt2og89EBRJk2k+qA1uoiD1gjx99UigDioFlnarZQA4qBSUs3fhzjQ8UMcKPghDhTwCFURQByo8BGsJIA4qAygkQIvv2rFQO9eJV8YjB93tRjYs9fxBcKHO6xYGDnCLF8oSrdulT0jj3chDvKY9WSMGXGQjDzkuReIA132EQc6fogDBT/EgQIeoSoCiAMVPoKVBBAH1wdYf8SR3zzhyoEDDUsRjDRo377luPUbXHl9uSunT9t75t/hyR23sXyhOWKIA+UPMOGhCSAOQqMjMCICiAMdSMSBjh/iQMEPcaCAR6iKAOJAhY9gJQHEQcsAl61w5bXXbZVBnz4luWu+J+PGVrb84PgJu3xh02Yb37NHSR58wJPhwyqLV6Y1NeGIg9SkKnMdRRxkLqWpGxDiQJcyxIGOH+JAwQ9xoIBHqIoA4kCFj2AlAcTBtQAPferI40+4cvCQrTKYNdPzpUG7dsFhb3/fLl/4eL9t6+bJJVl0bzFUW8GfnvwIxEHyc5TVHiIOsprZ9IwLcaDLFeJAxw9xoOCHOFDAI1RFAHGgwkewkgDi4GqAS5a6/gd9c/Xta/cyGDtGXyVgqhdMu8Wifd4DizyZPpXlC4gD5Q8w4aEJIA5CoyMwIgKIAx1IxIGOH+JAwQ9xoIBHqIoA4kCFj2AlAcSBBfjJJ4785klXDh+2lQGzZ3mycIEnbdsoATcKNxUMRh688659xpDBJVl8vyf9+urFRHS9rG1LiIPa8uZpDQQQB8yGuAkgDnQZQBzo+CEOFPwQBwp4hKoIIA5U+AhWEkAciLzymisrVtkqg/79bJXBmNHV+zC/ZasVCGbjRXPdOseTuxfms/oAcaD8ASY8NAHEQWh0BEZEAHGgA4k40PFDHCj4IQ4U8AhVEUAcqPARrCSQZ3Fg9h347e9cqa+3H+Dn1Hm+NCgUlFArCD93TsQsX1i1xgqLTp3EP7rxpgiWRVTw+MTcgjhITCpy1xHEQe5SnrgBIw50KUEc6PghDhT8EAcKeISqCCAOVPgIVhLIqzh48RVXVl/+0D6gv60yGD2qelUGLaXpo922+mDnLisvzKkN991TlG7dlIlNSTjiICWJymA3EQcZTGrKhoQ40CUMcaDjhzhQ8EMcKOARqiKAOFDhI1hJIG/iYM9eR5582pUjl5cJzJ1tqwxc+8V/bNfa9XbzxDNnbBfuudvzKyCyfiEOsp7h5I4PcZDc3OSlZ4gDXaYRBzp+iAMFP8SBAh6hKgKIAxU+gpUE8iQOXnjRFfMB3VwDbyjJwvmejBpZ+yqDllJ29Jgjy1Y4svkN28d+/UrywH2e3DgkOX1UTrdrwhEHUROlvUoJIA4qJcV91SKAONCRRRzo+CEOFPwQBwp4hKoIIA5U+AhWEsiDONj1kSNPP+vKkaN2OcC8uZ4vDczPXhKvbdvt8oX9B2wHZ0z35O4FnrRvn8Te6vqEONDxIzo8AcRBeHZERkMAcaDjiDjQ8UMcKPghDhTwCFURQByo8BGsJJB1cfDs865s2GS/wR800O5lMGJ48r/B9zyR5Svt8gXz/23aiDz4QFEmT0x+34NMScRBEFrcGyUBxEGUNGkrDAHEQRhqDTGIAx0/xIGCH+JAAY9QFQHEgQofwUoCWRUHH+5wxEgDU/5vrttutVUGabsOfOLIsuWuvLvNjmPk8JJ89jOev4whCxfiIAtZTOcYEAfpzFuWeo040GUTcaDjhzhQ8EMcKOARqiKAOFDhI1hJIIvi4KlnXNn8pq0yGDLY7mUwfFi6P2i/scUuXzh6ebnFnbd7Yn6l/UIcpD2D6e0/4iC9uctKzxEHukwiDnT8EAcKfogDBTxCVQQQByp8BCsJZEkcbP/AkedfKMix4xbK7fM8WXBn+j9cl1NsTlxYtsKVNeusFOnRXWTRvUUZMzq9UgRxoPwBJjw0AcRBaHQERkQAcaADiTjQ8UMcKPghDhTwCFURQByo8BGsJJAVcfDkUwV5c6st5zenEJgqg2FD0/uB+nppNZs9muoD819zTZlkxluU7t2VkyGGcMRBDNB5pE8AccBEiJsA4kCXAcSBjh/iQMEPcaCAR6iKAOJAhY9gJYG0i4P3tjnywosFOX7CgrjjNk/m35GdKoPrpddUHhiBcPasvev+ez3/BIY0XYiDNGUrW31FHGQrn2kcDeJAlzXEgY4f4kDBD3GggEeoigDiQIWPYCWBNIuDJ35XkC1v2W/dTXWBqTIw1QZ5uuqPOLJ8hStmDwRzDR5UknvuTg8HxEGeZmuyxoo4SFY+8tgbxIEu64gDHT/EgYIf4kABj1AVAcSBCh/BSgJpFAdvv+PIiy8X5MRJO3hTYWAqDfJ8vfue4+9/YE5hMNfc2Z7cfpsnHdonmwriINn5yXLvEAdZzm46xoY40OUJcaDjhzhQ8EMcKOARqiKAOFDhI1hJIE3ioFgU+d3TBdn6tv1wbE5KMFUG5uQELpFLl0SWr7TLF8zVsaPIfZ8tyuSJyeWDOGDmxkUAcRAXeZ5bJoA40M0FxIGOH+JAwQ9xoIBHqIoA4kCFj2AlgbSIgy1bHXn5tYKcPCniuuIfRWhOTeC6lsDH+231wbbtVrCMvankny7Rv1/yBALigBkcFwHEQVzkeS7iIJo5gDhQctxff3mHJGU7eQxHHOQx68kYM+IgGXnIay+SLg4uXBR5+tmCvHW5ymDkCPsh2Kzl57o+gc1vuLJ0hSvHjtn77lrgyby5yZItiANmcVwEEAdxkee5iINo5gDiQMkRcRAeIOIgPDsidQQQBzp+ROsIJFkcbH7TlVeXuHLqlEihYKsMbrs1WR98dfSrH23YmeULa9fb5Qv9+pbk7oWejBmdDPGCOKj+HOAJzRNAHDAz4ibAUgVdBhAHOn4sVVDwQxwo4BGqIoA4UOEjWEkgieLg3DmRZ54viNkE0VyjRpZk4Z2eDByYjA+7SuSxhH+4w/EFwke7LdPp06yE6dE9lu5ceSjiIF7+eX464iDP2U/G2BEHujwgDnT8EAcKfogDBTxCVQQQByp8BCsJJE0cbNjkypKlrpw+LdK2ra0yuHUOVQbKNF8JX7XGlWXLXTl33lZxfPYznsycHh9fxEFUmaWdoAQQB0GJcX/UBBAHOqKIAx0/xIGCH+JAAY9QFQHEgQofwUoCSREHRhQ89/uCvPOu/UbclNKbvQxuGECVgTLF14R/ethWH5gNJ801YnjJFzRDb6w9a8RB1NmlvUoJIA4qJcV91SKAONCRRRzo+CEOFPwQBwp4hKoIIA5U+AhWEkiCOFi3wZXXl7ly5oxIu3a2ymDu7Pi+BVciTU24WQqybKUrBw9agWA2TjS/OnSo3RAQB7VjzZOuJoA4YEbETQBxoMsA4kDHD3Gg4Ic4UMAjVEUAcaDCR7CSQJzi4MQJkRdeKsi7710+NnBMSebf6cmA/rX/5luJMbXhFy6IrFjl+sc3mqt7d5G75hdl8qTa5ABxkNqpk/qOIw5Sn8LUDwBxoEsh4kDHD3Gg4Ic4UMAjVEUAcaDCR7CSQFziwOzyb6oMzp4V/xvuO2/zZHYdVQbKdIYO37vPLl/Y/r6VOJMmlvzqg2pLHMRB6JQRqCSAOFACJFxNAHGgQ4g40PFDHCj4IQ4U8AhVEUAcqPARrCRQa3Fw9JgjL77synvb7AfUcWNLMv8OT/r3q8033EpcmQ83m1MuX+HK8RN2qAvn2+UL5t+palyIg2pQpc1KCCAOKqHEPdUkgDjQ0UUc6PghDhT8EAcKeISqCCAOVPgIVhKopThYs85WGZjjFjt2tHsZ1M2kykCZwsjDjTRYsdKV9Rvt8oVBA0tyx22e3DQmermDOIg8fTRYIQHEQYWguK1qBBAHOrSIAx0/xIGCH+JAAY9QFQHEgQofwUoCtRAHh+sdeflVV7Ztt19bTxhnqwz69o3+g6gSB+GNCLz/gV2+sGevzduMabb6oEeP6DAhDqJjSUvBCCAOgvHi7ugJIA50TBEHOn6IAwU/xIECHqEqAogDFT6ClQSqLQ5Wr3VlqakyOC/SubPdy2DmDKoMlGmraXh580SzkWLHDuIfkxlVDhEHNU0lD2tEAHHAdIibAOJAlwHEgY4f4kDBD3GggEeoigDiQIWPYCWBaomDQ4cceWVJw2Z7EyfYKoM+vakyUKYslvCDhxx/+cLWt231wehRdvPEYUN1+UQcxJJOHioiiAOmQdwEEAe6DOReHJw7d0H+/p9/LM+/uvYKyZ/+69dkxpSx/u937t4vf/HVf5H9B+uv/P3kcSPlu498SXp274o4UMw/xIECHqEqAogDFT6ClQSqIQ5WrbFVBucviHTtInLH7Z5f5s6VfgJb37LLFw59agXCrXPs8gWzZ0WYC3EQhhoxURBAHERBkTY0BBAHGnoiuRcHR4+flJ/8+kX54h8vlg4d2smGLdvk6998TL7/6F/LiKEDfXHw9Ud+KN/82p/6v2967a8/q8tAjqMRBzlOfsxDRxzEnICcPz5KcXDgE0eWvO7K9g/sh8rJE0ty5x2e9O6l+1Y65ylK3PDN5pbLV7mycpXdPLFvn5LcdqsnUyYHzzPiIHHpzU2HEAe5SXViB4o40KUm9+KgKT4jEr74tW/Ll//n5/2qA8SBboJdLxpxUD22tHx9AogDZkicBKISBytXu7J0uStmHXy3bnYvg2lTqTKIM7fVfvZHux0x+x988KEVRZMmlGTerZ4M6F+5QEAcVDtLtN8SAcQBcyNuAogDXQYQB034NRUFTZcqNF6mYEKpOAg/AREH4dkRqSOAONDxI1pHQCsO9n3s+MsS3r/84dF86zz/dk969qz8w6NuBETHTWDdBtdfvnDypIjr2mM2TQWC+bettQtx0Boh/r5aBBAH1SJLu5USQBxUSqr5+xAHjbiU9zuomzpBHr53XrPEvvWDx+WTQ/Xyja98wV/acOzUBV0Gchxt3jxfuOTJxUt8Q5bjaRDP0B2R7p3ayfHT/PzGk4B8P7V924L/Ye/s+WJgEK8vF3l5iSMXL4r07CFy1/ySzJwWuBkCMkDgyFGRJcscWbvBDmbojSLzbyvJhHHXH1yXjm3l7IWiFIu89mZgGqRqCK7riHnvd/LMxVT1m85mh0CPLu2yM5gYRoI4uAy9LA0G9OstX/7zz7eYClOB8E///iv55t/+mb854pkQb/xiyHMiH9m+rSuXiiUpenxLlsgEZbhT5ku5ju0L/PxmOMdJHpr51s11HF+cVnp9tEfk96+U5L3t9t/LWdMd+exdjvTqWWkL3JdVAm+9U5JXXi+JmSPmmjPLkbvudKR3r+ZH3KGdKxcvelLkpTerUyKx43IdESNOjbjigkAcBDq1L8Tx2Mw8E3EgIpVKA5P1puKApQrhfxZYqhCeHZE6AixV0PEjWkcg6FIFs6b99WWuXLok/nIEs5fBzVP41KfLQraiPU/8vQ/M8gVTjdKtq/h7H8yaca2cYqlCtnKfptGwVCFN2cpmX1mqoMtr7sVBa8sTXlq6QUYPH3TlRAWzVMFc5aoExEH4CYg4CM+OSB0BxIGOH9E6ApWKg717HXl9uSsf7rAL16fe4vlr2bt30z2f6OwSOHDA8U9feOddO2dGj7SbJw4b2iCaEAfZzX/SR4Y4SHqGst8/xIEux7kXB003Pyzj/JM/us+XA+Z4xv/+V49coXzfwror+xuYP0QchJ+AiIPw7IjUEUAc6PgRrSNQiTgw3xybKoNiUfyjFe+43ZMpk6gy0JHPT/QbWxxZsdKVw/VWIMyd48ltcz3p2FEEcZCfeZC0kSIOkpaR/PUHcaDLee7FgQ4f4kDDD3GgoUeshgDiQEOPWC2B64mDPabKYJkrO3baD3zTp9oqg65dtU8lPm8ETp8RXx6sXuv6Q+/btyTz5nqycF47OXH6YqA9NvLGjvFWhwDioDpcabVyAoiDylk1dyfiQMePigMFP8SBAh6hKgKIAxU+gpUEWhIHy1bYKgOzXr1PH7uXwaSJVBkocec+fOcux9//oCyjpt3syNzZRenTt/LNOXMPEQCREEAcRIKRRhQEEAcKeCKCONDxQxwo+CEOFPAIVRFAHKjwEawk0FQc7N5jqwzMBzxzzZju+dKgSxflgwiHQCMCa9a5fgXCqdMibdqIzJ3t+b86dAATBGpDAHFQG848pWUCiAPd7EAc6PghDhT8EAcKeISqCCAOVPgIVhJoLA6WLrdVBqWSSL++di+DieOpMlAiJrwFAvVHHNmwoY2sXmfnWN8+JZk7u+RvvMkFgWoTQBxUmzDtt0YAcdAaoev/PeJAxw9xoOCHOFDAI1RFAHGgwkewkoARBx/tduS5lzzZ9ZGtMjDH5hlp0LmTsnHCIdAKAbM54oY3LsmyVXKlymXMqJLMme3JiOFIKyZQ9QggDqrHlpYrI4A4qIxTS3chDnT8EAcKfogDBTxCVQQQByp8BCsInD0rsnlzG3npNdtI//52L4Px4/jApsBKaAACjU9VWL/BlVVrHDl6zAqsmTPM8oWS9OzBfAyAlFsrJIA4qBAUt1WNAOJAhxZxoOOHOFDwQxwo4BGqIoA4UOEjOCQB8yFtzXpH6i8fkVc3y+5lYI7I44JArQg0PY7x1CmRVWuMQLCnL5i9Ncr7H9SqTzwnHwQQB/nIc5JHiTjQZQdxoOOHOFDwQxwo4BGqIoA4UOEjOCCBt99xZO16V8xRi+YaPVLkjlsdGTL0YsCWuB0CegJNxUG5xb37HF8evPuenadDBpv9D6iG0ROnhTIBxAFzIW4CiANdBhAHOn6IAwU/xIECHqEqAogDFT6CKyRg9i8wO9lv224/iJllCbNnlmTebFfMG+jjpxEHFaLktggJtCQOyo/Y+rYVCAcO2Hk7eaIVCDfcwPKFCNOQy6YQB7lMe6IGjTjQpQNxoOOHOFDwQxwo4BGqIoA4UOEjuBUCBw85snadI5veaCj9nj3Lk7qZnrRtK9L0OEaAQqCWBFoTB6Yvly7Z5Qur17hy9lzD8Y1mA8WOHN9Yy3Rl6lmIg0ylM5WDQRzo0oY40PFDHCj4IQ4U8AhVEUAcqPAR3AIBs1Z8zXpX1q5z5eJFETPPfGEwy5Me3RuCEAdMoTgJVCIOyv379LAjq9c0SDBzfOOc2SWZxvGNcaYwtc9GHKQ2dZnpOOJAl0rEgY4f4kDBD3GggEeoigDiQIWP4CYEPE/8PQyMMDh23P7llEklXxgMGnhteTfigCkUJ4Eg4qDczw8+tMsXdu66vE/HKLt8geMb48xk+p6NOEhfzrLWY8SBLqOIAx0/xIGCH+JAAY9QFQHEgQofwY0IbNnq+FUG+/fbD1SjRlphMGZUy+vBEQdMoTgJhBEH5f6u33j5+Majl49vnH75+Mae7H8QZ07T8mzEQVoyld1+Ig50uUUc6M33EVQAACAASURBVPghDhT8EAcKeISqCCAOVPgIFhHzDaypMjD/NdcNA6wwuGVK6x+gEAdMoTgJaMSB6XdLxzfOqfP85TlcEGiJAOKAuRE3AcSBLgOIAx0/xIGCH+JAAY9QFQHEgQpfroNNZYGpMDCVBubq1k1k9ky7j0GhUBkaxEFlnLirOgS04qDcq+aObzSbJ04Y17o8q87IaDXpBBAHSc9Q9vuHONDlGHGg44c4UPBDHCjgEaoigDhQ4ctlsNm7wOxhYKoMzJ4GRhKUNz7s1jUYEsRBMF7cHS2BqMRBuVfm+EZz+sL+Rsc3GoEwkOMbo01cBlpDHGQgiSkfAuJAl0DEgY4f4kDBD3GggEeoigDiQIUvV8HmdAQjDEyVgSnRNpdZjmAqDMzyhDAX4iAMNWKiIhC1ODD9Msc3rl5r9j9w5exZkTYFESMPzAaKHTtG1XPaSTsBxEHaM5j+/iMOdDlEHOj4IQ4U/BAHCniEqgggDlT4chO86Q1zUoIjBw/ZZQljRpekbqbnb4CouRAHGnrEaglUQxyU+3T4sDl9oeH4xj59zOkLHN+ozVlW4hEHWclkeseBONDlDnGg44c4UPBDHCjgEaoigDhQ4ct88LbtjqxZ58quj6wwMEcqmgoDc8RiFBfiIAqKtBGWQDXFQblPHN8YNjvZjkMcZDu/aRgd4kCXJcSBjh/iQMEPcaCAR6iKAOJAhS+zwXv22pMS3n7HCoMePUoye6aVBlHuFo84yOwUSsXAaiEOyiDM8Y2r1zhypNHxjXNml6QXxzemYq5E3UnEQdREaS8oAcRBUGJX34840PFDHCj4IQ4U8AhVEUAcqPBlLri+3pyU4Mj6Da4/trZtL298ONOTLl2iHy7iIHqmtFg5gVqKA9OrU6fF3/vAbKBYKol06dyw/0GUQq5yAtwZFwHEQVzkeW6ZAOJANxcQBzp+iAMFP8SBAh6hKgKIAxW+zASbTdxMhYH5Zf7fXNNuMUcrlqR/v2iWJTQHC3GQmSmUyoHUWhyUIZnjG408eOc9W9EzeHBJ5tZ5MmF89X7WUpmgDHcacZDh5KZkaIgDXaIQBzp+iAMFP8SBAh6hKgKIAxW+TASb6gJTZWCqDcw19ia78eGI4dX/EIM4yMQUSu0g4hIHZWBvvW02UGw4vnHSRLOBIsc3pnZCBeg44iAALG6tCgHEgQ4r4kDHD3Gg4Ic4UMAjVEUAcaDCl+pgs3+BqTAw+xmYa8hgu4fBpAnVFwZlcIiDVE+h1Hc+bnFgABaLdvlC+fjGQkF8ecDxjamfXtcdAOIg2/lNw+gQB7osIQ50/BAHCn6IAwU8QlUEEAcqfKkMNickmJMSzIkJ5urVy1QY2CqDWl+Ig1oT53mNCSRBHJT7c7j+8vGNm+3+In16Xz6+cWrtfy6ZJdUngDioPmOecH0CiAPdDEEc6PghDhT8EAcKeISqCCAOVPhSFXzwkCNr1zWcK9++fcPGh506xTMUxEE83HmqJZAkcVDOiTm+0ex/sGOXFXujR5VkTp0nI0fUrhKI+VF9AoiD6jPmCYiDas4BxIGS7v76yztqKdvJYzjiII9ZT8aYEQfJyEM1e3HqlMgas/HhOlcuXrRPmjHNbnzYt0+8H0YQB9XMPG23RiCJ4qDc5w0bzfKFhuMbZ0w3yxc4vrG1nKbl7xEHaclUdvtJxYEut4gDHT8qDhT8EAcKeISqCCAOVPgSHex5l09KWOfKseO2q+PH2SUJw4bGKwzK4BAHiZ5Cme9cksWBgW+ObzTVB2b/A3N8Y+fODfsfcHxjuqcn4iDd+ctC7xEHuiwiDnT8EAcKfogDBTxCVQQQByp8iQ3estXxqwz277flzkNvtBsfThiXDGGAOEjs1MlVx5IuDsrJ2PexPX3hnXcvH984yJ6+wPGN6Z2uiIP05i4rPUcc6DKJONDxQxwo+CEOFPAIVRFAHKjwJS7YrI82JyWY/5rLbLBmliTMnJ7MDdaoOEjcFMpVh9IiDspJ8Y9vXNsgBP3jG+s8GTgwWUIwV5Mo5GARByHBERYZAcSBDiXiQMcPcaDghzhQwCNURQBxoMKXmGBTWWAqDEylgbk6dhR/ScLsWZ506JCYbl7TEcRBcnOTh56lTRyYnJSPbzRLGM6cFSkf3zhntiedOuYha9kYI+IgG3lM8ygQB7rsIQ50/BAHCn6IAwU8QlUEEAcqfLEHm70LzKaHpsrA7Glgrlkz7MaHvXsl/1tIxEHsUyjXHUijOCgnzBzfuHqNIxsbHd84Z3ZJpnN8YyrmNOIgFWnKdCcRB7r0Ig50/BAHCn6IAwU8QlUEEAcqfLEFm9MRjDAwVQbm1ARzTRxv9zG4cUjyhUEZHOIgtinEgxN6HGPQxHy4w+5/sGOnrTYaNdLuf8DxjUFJ1vZ+xEFtefO0awkgDnSzAnGg44c4UPBDHCjgEaoigDhQ4YsleNMb5mhFRw4esh8Uhg+zJyWMG5seYYA4iGXq8NAmBNJccdA0mf7xjWsdOXLE/rtgjlz1j29MQeVRHicm4iCPWU/WmBEHunwgDnT8EAcKfogDBTxCVQQQByp8NQ3ett2RNetc2fWR/WDQr6/d+DDNpclUHNR0CvGwDIsDM7TTp8WvPuD4xuRPdcRB8nOU9R4iDnQZRhzo+CEOFPwQBwp4hKoIIA5U+GoSvGevPSnh7XesMDBnuZc3PmzXriZdqNpDEAdVQ0vDFRDIUsVB4+FyfGMFyY/5FsRBzAng8YI40E0CxIGOH+JAwQ9xoIBHqIoA4kCFr6rB9fXmpARH1m9wrzzHnJJQN7MkPXumb1lCc7AQB1WdQjTeCoGsioPysN96x2yg6MrH+610nDShJOb0hUEc3xj7zwbiIPYU5L4DiAPdFEAc6PghDhT8EAcKeISqCCAOVPiqEnz2rPgVBuaX+X9zTZ5oNz4cPCgbwqAMDnFQlSlEoxUSyLo4MBjM8Y2r19rlC2fO2OMb59SZ/Q886dSpQlDcFjkBxEHkSGkwIAHEQUBgTW5HHOj4IQ4U/BAHCniEqgggDlT4Ig821QWmysBUG5jL7IxuliXcNCZbwgBxEPnUocEQBPIgDspYzL8pqxod39i7tzl9Id17pIRIeWJCEAeJSUVuO4I40KUecaDjhzhQ8EMcKOARqiKAOFDhiyzY7F9gKgzMfgbmGtDfbnw49WYvsmcksSEqDpKYlfz0KU/ioJxVjm9MxvxGHCQjD3nuBeJAl33EgY4f4kDBD3GggEeoigDiQIVPHWxOSDAnJZgTE8zVtWvDxodt2qibT3wDiIPEpyjTHcyjOCgndMMms3zh6uMb58wuSW+Ob6zJnEcc1AQzD7kOAcSBbnogDnT8EAcKfogDBTxCVQQQByp8oYMPHnJk7TpHNr1hNz50XfH3MJg905Pu3UM3m7pAxEHqUpapDudZHJhE+sc3rnX9DRQ9T6RzJ/E3TzT7H5h/k7iqRwBxUD22tFwZAcRBZZxaugtxoOOHOFDwQxwo4BGqIoA4UOELHHzqlMgas/HhOlcuXrThN0+2Gx8OvCGb+xhcDxLiIPAUIiBCAnkXB2WU5vhGIw/eftdWPplNWI1AmDg+f/8mRTi9rtsU4qBWpHlOSwQQB7q5gTjQ8UMcKPghDhTwCFURQByo8FUcbL7N809KWOfKseM2bPQou/Gh+W9eL8RBXjOfjHEjDq7Og9lrxZy+UD6+ceIEs4EixzdWY7YiDqpBlTaDEEAcBKF17b2IAx0/xIGCH+JAAY9QFQHEgQpfRcFbtjp+lcH+y2epm8oCU2FgKg3yfiEO8j4D4h0/4uBa/kZyGnlQPr7RLFkw8oDjG6Odq4iDaHnSWnACiIPgzBpHIA50/BAHCn6IAwU8QlUEEAcqfNcN/uBDe1KC+a+5une7vI/BLNYPl8EhDqo3/2i5dQKIg5YZ1R+5fHzjJrvZgdk00T++cVq2T3ppfdZEcwfiIBqOtBKeAOIgPDsTiTjQ8UMcKPghDhTwCFURQByo8DUbbCoLTIWBqTQwlzkdobzxoTk1gauBAOKA2RAnAcRB6/SbO77R7H8wagQVU63Ta/kOxIGGHrFREEAc6CgiDnT8EAcKfogDBTxCVQQQByp8VwWbvQvMHgamysCU+5rrlps9mT2rJAP68ya7OdKIg+jmHy0FJ4A4qJyZOb5x9RpHTCWCuUzlgalA4PjGyhk2vhNxEI4bUdERQBzoWCIOdPwQBwp+iAMFPEJVBBAHKnx+sDkdwQgDU2VgTk0w102j7T4GI/lW7rqAEQf6+UcL4QkgDoKxO31G/NMXzP4HRo526iRy5+2ezJrB8oVgJEUQB0GJcX/UBBAHOqKIAx0/xIGCH+JAAY9QFQHEgQqfvPW2I8tXunLwUMMxZuakhMmTqDCohCzioBJK3FMtAoiDcGTNqQtGHphTGMw1ZXJJFs4v+vu4cFVGAHFQGSfuqh4BxIGOLeJAxw9xoOCHOFDAI1RFAHEQHt/qta68+LLdOKxnD1NhUJLZs/jmLQhRxEEQWtwbNQHEgY7ops2uvLrEFVOJ0Lu3kQeeTBiHNK2EKuKgEkrcU00CiAMdXcSBjh/iQMEPcaCAR6iKAOIgHL6XXrHluua6ZUpJ7l5YlM6dw7WV5yjEQZ6zH//YEQf6HHxy0PHlwfsf2OqDuXM8uWs+J8e0RhZx0Boh/r7aBBAHOsKIAx0/xIGCH+JAAY9QFQHEQTB8Fy6KPPNcQba+Zd8k33ar53/LxhWOAOIgHDeioiGAOIiGo2ll6XJXliy1MnXYUFt9cOMQqg9aIow4iG7u0VI4AoiDcNzKUYgDHT/EgYIf4kABj1AVAcRB5fiOHHHk6edc2fWRlQaLPuvJTDYFqxxgM3ciDlT4CFYSQBwoATYJN0c3vrLElQMHHP8YWiMP5tQhVpujjDiIdu7RWnACiIPgzBpHIA50/BAHCn6IAwU8QlUEEAeV4du9x5FnnnPl08OOdOkscv99RRk3lm/TKqPX8l2IAy1B4jUEEAcaes3Hnj0r/tIFc3yjuSZOKMnCOz3p1Yt/LxsTQxxEP/doMRgBxEEwXk3vRhzo+CEOFPwQBwp4hKoIIA5ax2d2Dn/q2YJcuCByw4CSPHCfJ4MG8Sa4dXKt34E4aJ0Rd1SPAOKgemzfeNP1qw/MEbU9upvqgyKnzTTCjTio3tyj5coIIA4q49TSXbkXB+fOXZC//+cfy/Ovrr3C6Kf/+jWZMWXsld8/+cIK+btHf+T//r6FdfKNr3xBOnRo5/9+f/1ZXQZyHI04yHHyYx464uD6CVizzpXfv2S/ORszuiQPLCpKt64xJy1Dj0ccZCiZKRwK4qC6STv0qd04cdt2u7zLHFVrli+0s28bc30hDnKd/kQMHnGgS0PuxcHR4yflJ79+Ub74x4t9GbBhyzb5+jcfk+8/+tcyYuhA//ff+t7j8t1HviQ9u3eVb/3gcZ/4l//884gD3dwTxIESIOGhCSAOWkb38muurFxlpcH0qZ48sIi1uqEnWguBiIOoidJeEAKIgyC0wt+7fKU9ttFcgwfZjRNHDM931RbiIPx8IjIaAogDHcfci4Om+IxI+OLXvi1f/p+f96sOjCgYNniAPHzvPP/WpiKBioPwExBxEJ4dkToCiINr+V26ZE9OeHOr/Zbszts9/xdX9AQQB9EzpcXKCSAOKmelvXPHTlt98PF++++qkQfmVJq8XoiDvGY+OeNGHOhygThowm/n7v3y9Ud+KN/82p/KwP59/GUMdVMnXBEHjf/eVCQgDsJPQMRBeHZE6gggDq7md/SoI88874p5k2ve3poqg2lT8/vmVje7Wo9GHLTOiDuqRwBxUD22zbV8/rzdOHHdBlt9MO4mW33Qt2/+qg8QB7WdezztWgKIA92sQBw04lfe76AsCsq///z9d1zZ86CpOLh4iTfXYadgoeCI54mUSvl78QzLjLjoCLRt4wo/vyI7PirJfz5ekv2flKRnd5E/+rwrE8fZb8e4qkPAda2gKXr821cdwrR6PQJtCq4/93jtre08WbexJE+94Mmx4yLdu4ksvteV2TNy9m+tI9LGdeVSkffOtZ19PK1MwLz34wpPAHFwmV1ZEgzo1/vK/gVNRYK5tak4+PT4+fD0cx7ZvVNbOXexKOcv8gKS86lQ8+GbioPeXdvL4RP5/vk1Jyf86nFHzHu4IYNFHnrAkxsG1DwduXtgx3YFMeL01NlLuRs7A46fQI8ubeX02UtysYi4qnU2Pj0s8tKrjrzzrhUGs2aU5DMLS9KxY617Es/z2riOdOvcVo6cvBBPB3hq7gn07d4+9ww0ABAHItKcNChDZY8DzfS6fixLFarHlpavT4ClCiLr1rvy/IuXS2fHmuMWi9K5MzOnFgRYqlALyjyjJQIsVYh/bpgNaM2xjabg0hx3a5YujB6VfZHDUoX4517ee8BSBd0MyL04aK6qoDFSTlXQTbDrRSMOqseWlhEH1yNg1tuaHb/tN16e3PdZqn5q+TODOKglbZ7VlADiIBlzYtdHduPEvfvysyEt4iAZcy/PvUAc6LKfe3Fglh78xVf/RfYfrL+K5J/80X1Xliw8+cIK+btHf+T//X0L6+QbX/mCf3SjudgcMfwERByEZ0ekjkBeKw6KRfE3QXzjTSsN8r7Dt24WhY9GHIRnR6SeAOJAzzCqFi5etBsnrlln/002VQfm32VThZDFC3GQxayma0yIA12+ci8OdPgQBxp+iAMNPWI1BPIoDsyGXOa4xQ93OFIoiCxeVJSbp2TzzalmbtQiFnFQC8o8oyUCiIPkzY2tb5vqg4IcOyb+fgdGHsyYlr1KMMRB8uZe3nqEONBlHHGg40fFgYIf4kABj1AVgbyJg337HHniKVfqjzjSs0fJP25x5AikgWoSKYIRBwp4hKoJIA7UCKvSwJEjdunC25c3Tpx6s+cLhC5dqvK4WBpFHMSCnYc2IoA40E0HxIGOH+JAwQ9xoIBHqIpAnsTBe9sc+eVvCj6voTeW5P77POmXw/PDVRMm4mDEQcRAaS4QAcRBIFw1v3nVGtcXCGZpmfm32siDsTdlQ/QiDmo+nXhgEwKIA92UQBzo+CEOFPwQBwp4hKoI5EUcrN/oynMv2LWzEyfYkxM6dFChIzgCAoiDCCDSRGgCiIPQ6GoWuHuPrT4w/zXXbbfa6oO0X4iDtGcw/f1HHOhyiDjQ8UMcKPghDhTwCFURyIM4eO11V5atsNJgTp0n99yd/jedqqQnKBhxkKBk5LAriIN0JN1UHJgjG1evsf+Ojxhuqw8GD0pv9QHiIB1zL8u9RBzosos40PFDHCj4IQ4U8AhVEciyODDngj/9nCub37BvNj9zlydzZyMNVBMm4mDEQcRAaS4QAcRBIFyx3/z2O7b64MhRR9q1sxsn1s1M57/piIPYp1PuO4A40E0BxIGOH+JAwQ9xoIBHqIpAVsXBiRMiTz1rT04wbzAfWFSUyRPT++2UKskJDkYcJDg5Oega4iB9ST52zPGrD9562y5dmDzJVB8UpUf3dI0FcZCufGWxt4gDXVYRBzp+iAMFP8SBAh6hKgJZFAcf73fkV48X5PhxkT697ckJw4YiDVQTpUrBiIMqgaXZigggDirClMib1qyzGydevCjSq5ddujBxfHr+nUccJHJa5apTiANduhEHOn6IAwU/xIECHqEqAlkTB9u2O/Kfv7YnJwwfZqVB717peTOpSmYKgxEHKUxahrqMOEh3Mvfus0sXdn1kqw/MUjQjEAr2JSDRF+Ig0enJRecQB7o0Iw50/BAHCn6IAwU8QlUEsiQONmxy5dnn7X4GUyYZaVCUtm1VeAiuMgHEQZUB0/x1CSAO0j9BPE98ebBytf233xy1a+SB+W+SL8RBkrOTj74hDnR5jk0cHD1+Un7y6xfli3+8WDp0aHfVKM6duyDf/dnT8j/+6z3Ss3tX3QirHL2//myVn5Dd5hEH2c1t0keWFXHw+jJXzC9z3TrXk7sXpHPDrKTPl6j7hziImijtBSGAOAhCK9n3vvuerT44XO/4FQdGHiR5M1zEQbLnUx56hzjQZTk2cWDkwN//84/l+VfXyj989U/k4Xvn+SN58oUV8neP/kgmjxsp333kS4gDXX4THY04SHR6Mt25LIiDZ55zZeNmKw3uvSe9u2xneqK1MDjEQR6znpwxIw6Sk4soemI2xX1lSUG2bLVLFyaMt9UHSVyuhjiIIuO0oSGAONDQE4lNHJS73VggmD9LizAo95+Kg/ATEHEQnh2ROgJpFgcnT4k8/kRBPtrtSIcOIovvL8qEcckuT9VlK3vRiIPs5TRNI0IcpClblfd13QZXXn3NlfMXRLp3N9UHRX/5WpIuxEGSspHPviAOdHmPXRzs3L1f/uKr/yL7D9b7I7lvYZ184ytfuGb5gm6Y1YtGHIRnizgIz45IHYG0ioP9Bxz5+X8W5PRpkX59S7L4fk+GDE7WG0NdZvIRjTjIR56TOkrEQVIzo+/Xxx/bYxt37rLVB7Nm2o0T21+9Ilj/oJAtIA5CgiMsMgKIAx3K2MSB2ePgi1/7tmx9b0ezSxXSIhAQB+EnIOIgPDsidQTSKA7e/8CR//il3TZ71Ei7CWLazvDWZS070YiD7OQyjSNBHKQxa8H6bPY9WL7SLmUbNMguXRg5PH7JjDgIlkfujp4A4kDHNFZxwOaIuuSlPRpxkPYMprf/aRMHmza78vRz9k3g1Js9/7hF1/6WK4UEEAcpTFqGuow4yFAyrzMUc0yvqT749FNbfbDwTk9umxfvBrqIg3zMvSSPEnGgy05s4kDX7eREU3EQPheIg/DsiNQRSJM4WLrclSVLrSW4fZ4nC+6M942fjjzRhgDigHkQJwHEQZz0a/tssyeOqT544037GjJ2jK0+6NcvnuoDxEFt88/TriWAONDNCsSBjp8gDsIDRByEZ0ekjkBaxMGTTxfkzS3226L77/VkxnSkgS7zyYhGHCQjD3ntBeIgf5nfsNH1qw/OnRPp0tke2zj1ltq/niAO8jf3kjZixIEuI7GKg6YbIzYeSlpOV0AchJ+AiIPw7IjUEUi6ODCbH/7iVwXZ97EjnTuLLF5UlLE3xfMNkY400c0RQBwwL+IkgDiIk358zzab65rqgw93WBk9fardOLFTp9r1CXFQO9Y8qXkCiAPdzIhNHJSPYaybOkFunjBSfvHkq/I3f/mH/mkK3/rB4zJv1iSZMWWsbnQ1iEYchIeMOAjPjkgdgSSLg08OOvKjnxbk/HmRGwaUZPEiTwYORBroMp6saMRBsvKRt94gDvKW8avHa5a+mSVw5hrQ3y5dGDO6Nq8xiIN8z70kjB5xoMtCbOLAnKrw9X98zJcF5vqnf/+VfPNv/0x6du8qG7Zsk8efXZqKYxkRB+EnIOIgPDsidQSSKg4++NAet2ium0bbkxO6dtWNlejkEUAcJC8neeoR4iBP2W5+rNs/sNUHBw/a6oM7bvNk/h3VX7qAOGDuxU0AcaDLQCLEQc8eXeUfv/ML+dv/9d98cWCWMDQWCbohVjcacRCeL+IgPDsidQSSKA42v+nKU8/Yb4GmT/Pkgfuq/yZOR5HosAQQB2HJERcFAcRBFBTT34ZZEmfkwaY37OuOOebXVB8MvKF61QeIg/TPm7SPAHGgy2Bs4qDxUoWH753nL08YNniAmP9/8oUVsnbzO1Qc6HKb+GjEQeJTlNkOJk0cvL7MFfPLXOZbH/PtD1d2CSAOspvbNIwMcZCGLNWuj+a4X7Nx4pkzIh06iNw1v3ob8SIOapdXntQ8AcSBbmbEJg6adtssXfji174tW9/bIQP795bvP/rXMmLoQN3oahBNxUF4yIiD8OyI1BFIkjh4/ImCvPWOLRd98P54drrW0SQ6KAHEQVBi3B8lAcRBlDSz0ZbZW8dUH7z/gX0tumWKqT6Ifqkc4iAb8yXNo0Ac6LKXGHGgG0Z80YiD8OwRB+HZEakjkARxYL7d+enPC2LesHXrKrL4/qKMHlW9ElEdMaKjJIA4iJImbQUlgDgISiw/95tNE83miebq28cuXRg3NrrXJcRBfuZSUkeKONBlBnGg4yeIg/AAEQfh2RGpIxC3ODh4yJHvPVaQYlFk0CB7coLZ3ZorHwQQB/nIc1JHiThIamaS0S+zSa+pPjjwia0+mDfXHttoXje1F+JAS5B4LQHEgY4g4kDHD3Gg4Ic4UMAjVEUgTnHw4U5HfvYf9uQE803O4kXFmp6jrQJHcCQEEAeRYKSRkAQQByHB5Sjs7Fm7ceKGTbb6YPgwW30wZLBOcCMOcjSJEjpUxIEuMbGKA3N6wl989V9k/8H6a0YxedxI+e4jX/JPWUjyRcVB+OwgDsKzI1JHIC5x8OYWR5582kqDWTM8ue+zbIKoy2Q6oxEH6cxbVnqNOMhKJqs/DnPajxEIp06JtG0rvjyYPSv86xbioPo54wnXJ4A40M2Q2MRB01MVdMOILxpxEJ494iA8OyJ1BOIQB6+85sqKVfbbm7sWeH75J1c+CSAO8pn3pIwacZCUTKSjH4c+tUsXtm23axUmTbTVBz17BK8+QBykI+dZ7iXiQJfd2MSBOUXh6//4mPzNX/5hKk5PaAkz4iD8BEQchGdHpI5ArcXBL39dkPe2O1JwRRY/UJSbJwd/w6UbMdFJIoA4SFI28tcXxEH+ch7FiJetcOW116387tmz5B/bOHFCsNcyxEEUmaANDQHEgYaeSGzioFxx8Pn775AZU8bqRhFjNOIgPHzEQXh2ROoI1EocnD0n8tiPCnK43pEePUr+cYsjhgd7o6UbKdFJJIA4SGJW8tMnxEF+ch31SHfstNUHH++31Qdz6uzGiW3aVPYkxEFlnLiregQQBzq2sYkD0+0nX1ghaze/I9/4yhekQ4d2upHEFI04CA8ecRCeHZE6ArUQB59+6sh3/t3uZ3DjkJIsvt/zj7figgDigDkQJwHEQZz00//s8+dFXlniyvoNtvrAvL4ZhAxy4AAAIABJREFUeTBsaOuvb4iD9Oc/7SNAHOgyGKs4YHNEXfLSHo04SHsG09v/aouDnbsc+enPrTSYON5Ig6K0b59eXvQ8WgKIg2h50lowAoiDYLy4u3kCb2515NXXCnLipIjr2o0Tb51z/b17EAfMprgJIA50GYhNHLA5oi5xWYhGHGQhi+kcQzXFwcZNrjzzvP0mxpRx3nM3myCmc5ZUr9eIg+qxpeXWCSAOWmfEHZUROHzYLl14d5tdujB+nK0+6NO7+eoDxEFlXLmregQQBzq2sYkDNkfUJS4L0YiDLGQxnWOoljj4/UuurFlnpcFn7vJk7mykQTpnSHV7jTioLl9avz4BxAEzJGoC5sQgIxBKJZFu3Uz1QfObACMOoiZPe0EJIA6CErv6/tjEAZsj6hKXhWjEQRaymM4xVEMc/PwXBflgh+Ofdf3g/UX/yCouCDRHAHHAvIiTAOIgTvrZffauj2z1wd59tvpg5gy7cWKHRsv0EAfZzX9aRoY40GUqNnFgus3miLrkpT0acZD2DKa3/1GKA7NR1L99v40cOybSu1dJHnzAk6E3Ig3SOzuq33PEQfUZ84SWCSAOmB3VInDxot04ce3lyruBA+2xjSNH2NdExEG1yNNupQQQB5WSav6+2MSBWarwxa99W7a+t6PZnk0eN1K++8iXpGf3rroRVjmaUxXCA0YchGdHpI5AVOLAHLP4v//NboI4fJg9OaFXT6SBLjvZj0YcZD/HSR4h4iDJ2clG37a+ZaoPCnLsuB3Pgjs9uX2ehzjIRnpTPQrEgS59sYkDXbeTE404CJ8LxEF4dkTqCEQhDj7c6cjP/sNKg8mTSv7yhErPstb1nui0E0AcpD2D6e4/4iDd+UtL748ccfzqg3fetUsXbhpTks8sLMn4Ue3k0LFzaRkG/cwYAcSBLqE1FwdZ2RSxjB1xEH4CIg7CsyNSR0ArDtaud+WFF+0miOb4qbsXsgmiLiP5ikYc5CvfSRst4iBpGcl2f1atsRsnFosinTuLPHSfK2PGXsj2oBldYgkgDnSpQRzo+AniIDxAxEF4dkTqCGjEwbMvuLJho5UG997jSd1MpIEuG/mLRhzkL+dJGjHiIEnZyEdfdu+x1Qd79tjqg6m3eLLwTk+6dMnH+BllcgggDnS5QBzo+CEOFPwQBwp4hKoIhBUHP/lZQczO0R062JMTzJnVXBAISgBxEJQY90dJAHEQJU3aqpTApUsiS5YWZOVqKw/69i358mDcWF5HK2XIfXoCiAMdQ8SBjh/iQMEPcaCAR6iKQFBxcOGiyLe/00ZOnRLp19dugjhkMG92VEnIcTDiIMfJT8DQEQcJSEJOu2BOVfhoZzt58rlLYjYXNpdZ7mc2TyzYLYO4IFBVAogDHd5YxMH1TlMoD4dTFXSJTUM04iANWcpmH4OIg/ojjvzr/7HvaMyRUqbSoHv3bHJhVLUhgDioDWee0jwBxAEzIy4C5eMYP9x7Tl5bUpA3tlh5cOONtvpg2FCEfFy5yctzEQe6TMciDr7+j4/J3/zlH8qIoQN1vU9ANHschE8C4iA8OyJ1BCoVB9vfd+QXv7LS4JabPVm8yBPXbm/ABYHQBBAHodERGAEBxEEEEGkiFIGyOCifqrBxsyuvve7K6dMi5nV54XxP5s1l36BQcAmqiADioCJMLd6EONDxY6mCgh/iQAGPUBWBSsTBytWuvPyqtQTm/GlTSskFgSgIIA6ioEgbYQkgDsKSI05LoKk4MO0dPOT48mDbdlt9MHZMSRbM96R/P6oPtLyJv5YA4kA3KxAHOn6IAwU/xIECHqEqAq2Jg98948obb1ppcP+9nsyYjjRQASf4KgKIAyZEnAQQB3HSz/ezmxMHZSIrVtnqA88T6dRJ/KUL06fx2pvvGRP96BEHOqaIAx0/xIGCH+JAAY9QFYHriYPHflyQvfsc/42L2c9g7E1866GCTfA1BBAHTIo4CSAO4qSf72dfTxwYMubYxldfd2X3blt9cMuUkiy4syjduuWbG6OPjgDiQMey5uJA193kRbPHQficIA7CsyNSR6A5cWCOinr0W23k3DmRAf1L8uADngy8AWmgI010cwQQB8yLOAkgDuKkn+9ntyYODB1TcWAqD0wFgrn69DbywJMJ43k9zvfsiWb0iAMdR8SBjh8VBwp+iAMFPEJVBJqKA7PG8t++ZzdBHDPanpzQpYvqEQRDoEUCiAMmR5wEEAdx0s/3sysRB2VCZs8DIxDM67O55tTZvYbats03Q0avI4A40PFDHOj4IQ4U/BAHCniEqgg0FgfvvOvIr39rpcH0qZ48sIg1lSq4BLdKAHHQKiJuqCIBxEEV4dL0dQkEEQemIXPagpEH5vQFcw0ZbKsPRgyn+oCpFo4A4iAct3IU4kDHD3Gg4Ic4UMAjVEWgLA5++dR5WbLUviG583bP/8UFgWoTQBxUmzDtX48A4oD5EReBoOKg3M83ttiNE0+csH9i5IE57YgLAkEJIA6CErv6fsSBjh/iQMEPcaCAR6iKgBEHzz7bTtZvtm88Ft/vybRbeBOigkpwxQQQBxWj4sYqEEAcVAEqTVZEIKw4MI0frrdLF0yVoLnMskIjEG4YQPVBRfC5ySeAONBNBMSBjh/iQMEPcaCAR6iKQPnkhK5d7ckJo0fxxkMFlOBABBAHgXBxc8QEEAcRA6W5igloxEH5IavX2uqDixdFOnYQWTDfk5kcmVxxDvJ+I+JANwMQBzp+iAMFP8SBAh6hoQl8+zsFOXLUkSGDHHlg0SXp3x9pEBomgaEIIA5CYSMoIgKIg4hA0kxgAlGIA/PQfR878uoSV3bustUHUyaVZMH8ovToHrhLBOSMAOJAl3DEQSN+3/rB4zJs8AB5+N55V/505+798hdf/RfZf7D+yp9NHjdSvvvIl6Rn966IA8X8Qxwo4BEaisD//f+0kfPnRYbeWJK//B9t5ULpXKh2CIKAhgDiQEOPWC0BxIGWIPFhCUQlDsrPN3sULV1u9ynq1dMuXZg0kS8DwuYnD3GIA12WEQci8uQLK+TvHv2RT/Ifvvon14iDrz/yQ/nm1/5URgwdeA3t/fVndRnIcTTiIMfJr/HQz54T+cdH2/hPNesi/+Chogwf2FEOHOHnt8ap4HEigjhgGsRJAHEQJ/18PztqcWBofvCh3ftg/wFbfVA30x7b2L59vlkz+uYJIA50MwNx0IhfSxUHiAPdJGspGnFQHa60ejWB+npH/vXf7HGLEydYaVAoiAzoiThgrsRDAHEQD3eeagkgDpgJcRGohjgwYzl3zh7buG6DrT4YNNBWH4waSfVBXLlO6nMRB7rMIA4qEAeNlyo0XqZgQqk4CD8BEQfh2RFZGYE9ex354U+sNJg21ZPFi+zJCeXjGKk4qIwjd0VLAHEQLU9aC0YAcRCMF3dHR6Ba4qDcw61v2+qDo0dt9QHHLEeXu6y0hDjQZRJx0Io4aIrXVCV8cqhevvGVL0iHDu3k0+PndRnIcXT3Tm3l3MWinL/IMXg5ngZVG/q77zny81/aNw+3zinJffc0fPNgxEHvru3l8Al+fquWABpukUDHdgUpFBw5dfYSlCBQcwI9urSV02cvycUi38bWHH7OH9jGdaRb57Zy5OSFqpE4elTk5dcceXOrff03pybdvaAkgwdV7ZE0nCICfbuzhkWTLsRBQHFgNkv8p3//lXzzb//M3xzx4iU+9IadgOaNs+eJlEq8eQnLkLjmCaxcW5JfPG5/Nu+725VFn7FvIBpfbdu4/PwygWIh4LqOmBlZ9Pi3L5YE5PyhbQquP/d47c35RIhj+I5IG9eVS8Xqv3detqokz/zekzNnRTq0F3ngs67cOe/a9wJxYOCZ8REw7/24whNAHCjFAUsVwk8+liqEZ0dkywSWr3T9Y5rM9Zm7PJk7+9o3KCxVYAbFSYClCnHS59ksVWAOxEWg2ksVmo7rwAG7dOH9D60wMCcumL0PzAkMXPkkwFIFXd4RB62Ig5eWbpDRwwddOVHBLFUw15f//PP+fxEH4Scg4iA8OyKbJ/D7l11Zs9ZKgwcWeTJ9avPfaiAOmEFxEkAcxEmfZyMOmANxEai1OCiPc9kK1xcI5urRXWTB/KJMmYQ8iGsexPlcxIGOPuKgyXGMBufA/r3l+4/+tS8LNmzZJv/9rx65Qvm+hXVX9jdAHOgmH+JAx4/oqwk88buCbHnLEdcV+dyDxeue5Yw4YPbESQBxECd9no04YA7ERSAucWDGu3OXrT7Yu89WH8yc7smC+Z507BAXDZ4bBwHEgY464kDHj4oDBT/EgQIeoVcR+NkvCvLhDsd/A/C5h4oyZvT1v0lAHDCB4iSAOIiTPs9GHDAH4iIQpzgwY7540R7buPpyZeINA+zShdbeM8TFi+dGTwBxoGOKONDxQxwo+CEOFPAIvULge48VZP8BR7p3t5UGw4a2Xn6IOGACxUkAcRAnfZ6NOGAOxEUgbnFQHvc77zny2hJXDtfb6oPb53m+QODKPgHEgS7HiAMdP8SBgh/iQAGPUJ/At79TkCNHHenXtySfe8gT8+1BJRfioBJK3FMtAoiDapGl3UoIIA4qocQ91SCQFHFgxnbipK0+eONNu/fBiOG2+mDI4MreR1SDD21WnwDiQMcYcaDjhzhQ8EMcKODlPNSc4Pnot9rI6dPiv8gbaRBkl2TEQc4nUMzDRxzEnICcPx5xkPMJEOPwkyQOyhg2brYbJ5r3E23bii8P5tRRfRDjNKnqoxEHOryIAx0/xIGCH+JAAS/HoadOi/y//7uNv1Zx5IiS/MFDRencORgQxEEwXtwdLQHEQbQ8aS0YAcRBMF7cHR2BJIoDM7pDh+zGie9tt0sXJoy31Qd9elN9EF32k9ES4kCXB8SBjh/iQMEPcaCAl9NQ8+L+f75X8Ec/fpyVBm3aBIeBOAjOjIjoCCAOomNJS8EJIA6CMyMiGgJJFQfl0a1c7fp7HxQ9kW7dTPVBUW6ZgjyIJvvJaAVxoMsD4kDHD3Gg4Ic4UMDLYeiujxz5yc+sNDAv5A8tLoamgDgIjY7ACAggDiKASBOhCSAOQqMjUEkg6eLADG/3Hlt98NFuW30wfZonC+/0pFMn5eAJTwQBxIEuDYgDHT/EgYIf4kABL2ehb7/ryG9+a6VB3UxP7r1Ht/4QcZCzCZSw4SIOEpaQnHUHcZCzhCdouGkQBwaX59mNE1esshsn9u9XkgXzPRk7huqDBE2nUF1BHITCdiUIcaDjhzhQ8EMcKODlKHT9Blee+7198b5tnjX/2gtxoCVIvIYA4kBDj1gtAcSBliDxYQmkRRyUx7dtu60+OHjIVh/Mm+vJwvmemPcQXOkkgDjQ5Q1xoOOHOFDwQxwo4OUk9PVlrphf5rprgee/aEdxIQ6ioEgbYQkgDsKSIy4KAoiDKCjSRhgCaRMHZoynz9jqg42b7HuRYUNL/hcYN95I9UGYORB3DOJAlwHEgY4f4kDBD3GggJeDUFNlYKoNzLXoXk9mTo9GGpj2EAc5mEAJHiLiIMHJyUHXEAc5SHJCh5hGcVBG+eYWR159vSAnTogUCvbYxlvnRPe+JKEpy1y3EAe6lCIOdPwQBwp+iAMFvIyHmv0MzL4G5vrcg0WZMjlas484yPgESvjwEAcJT1DGu4c4yHiCEzy8NIsDg7W+3i5dKL8/GTfWVh/07Rvte5QEpzD1XUMc6FKIONDxQxwo+CEOFPAyHPqzXxTkwx2OtG8n8vBDRRl3U/QvyIiDDE+gFAwNcZCCJGW4i4iDDCc34UNLuzgo412zzh7beOGiSJcu4suDqbdQfZDw6ed3D3GgyxLiQMcPcaDghzhQwMto6A9/UpA9ex3p2tVWGowYHr00MOgQBxmdQCkZFuIgJYnKaDcRBxlNbAqGlRVxYFDv+9hWH+zYaasjjTgwAsGIBK7kEkAc6HKDONDxQxwo+CEOFPAyGPpv3yv4Oxf36V2Szz3kyaCB1ZEGiIMMTp6UDQlxkLKEZay7iIOMJTRFw8mSOChjX7LUlaXL7X5MZsmCkQdmCQNXMgkgDnR5QRzo+CEOFPwQBwp4GQq9dEnkO98tyNFjji8LPvegJ336VPdFl4qDDE2gFA4FcZDCpGWoy4iDDCUzZUPJojgwKfjgQ1t9sP+ArT4wmyaazRPNJopcySKAONDlA3Gg44c4UPBDHCjgZST0+AmRf/9BGzlzRmT4MFNpUJRuXas/OMRB9RnzhJYJIA6YHXESQBzEST/fz86qODBZPXfeHtu4br2tPjDHNZrqA3N8I1dyCCAOdLlAHOj4IQ4U/BAHCngZCD1wwJHHflIQU3Ew9iZTaVCU9u1rMzDEQW0485TmCSAOmBlxEkAcxEk/38/OsjgoZ/att82xja4cPer4+yktnO/JvLlsnJiUmY840GUCcaDjhzhQ8EMcKOClPNScmmBOTzDXlEm20qCWF+KglrR5VlMCiAPmRJwEEAdx0s/3s/MgDkyGjx2zSxe2vGWXLowdU5IF8z3p34/qg7h/AhAHugwgDnT8EAcKfogDBbwUh5oX0id+Z6XBjOme3H9v7U084iDFEygDXUccZCCJKR4C4iDFyUt51/MiDsppWr/B9QXC2XMinTrZYxunT6v9e56UT5tIu4840OFEHOj4IQ4U/BAHCngpDTVnH//+Jbv+z2wedPfCeF5AEQcpnUAZ6TbiICOJTOkwEAcpTVwGup03cWBSduATW33w/ge2+uCWKSVZcGdRunXLQEJTOATEgS5piAMdP8SBgh/iQAEvhaGvLnFl+UorDcxuw7fPi0camOcjDlI4gTLUZcRBhpKZwqEgDlKYtIx0OY/ioJy6ZSts9YG5zLHT5n3QhPEsXaj11EYc6IgjDnT8EAcKfogDBbyUhT73e1dMyZ657v2MJ3Wz4pMGiIOUTZ4MdhdxkMGkpmhIiIMUJStjXc2zODCp3LnLVh/s3WerD+bU2WMb27bNWKITPBzEgS45iAMdP8SBgh/iQAEvRaFPPlWQN7faF8kHH/Bk6s3xSgPEQYomT0a7ijjIaGJTMizEQUoSlcFu5l0cmJRevGSPbVy9xn6ZMmSwrT4YMZzqg1pMecSBjjLiQMcPcaDghzhQwEtJ6C9/U5D3tjm+TX/4waJMGJeMF0aWKqRkAmW0m4iDjCY2JcNCHKQkURnsJuKgIanvvmePbTx82H6xEvcSzgxOt2aHhDjQZRpxoOOHOFDwQxwo4KUg9P/7j4Ls2OlI584in3uwKKNGJkMaUHGQgsmT8S4iDjKe4IQPD3GQ8ARluHuIg6uTe/KkrT7Y/KatPhgz2lYf3DAgOe+XsjYdEQe6jCIOdPwQBwp+iAMFvISH/uDHBdm3z5FePUvyuYc8vxQvSRcVB0nKRv76gjjIX86TNGLEQZKyka++IA6az/emzXbjxFOnRTp2EFkw35OZ0+Nf1pnF2Yk40GUVcaDjhzhQ8EMcKOAlNPT8eZHHflyQQ586vjF/+EFP+vdLljSg4iChkydH3UIc5CjZCRwq4iCBSclJlxAHLSfavG8y8sAs7zTXlEklWTC/KD2652Ry1GiYiAMdaMSBjh/iQMEPcaCAl8DQI0cd+enPCnLsuMjQG02lQXJf8Kg4SOAEylGXEAc5SnYCh4o4SGBSctIlxEHriV652lYfFIviV22apQuTJibvC5jWR5LMOxAHurwgDnT8EAcKfogDBbyEhe772JGf/2dBzp61a/TMngYdOyask426gzhIbm7y0DPEQR6ynNwxIg6Sm5us9wxxUFmGd++x1Qcf7bbVB3Uz7bGN7dtXFs9dLRNAHOhmB+JAxw9xoOCHOFDAS1Do9vcd+dXjBd+OT5pgKw1cu89PYi/EQWJTk4uOIQ5ykebEDhJxkNjUZL5jiIPKU+yVRF5b4sqKVfYN1aCBtvogSRtNVz6a5NyJONDlAnGg44c4UPBDHCjgJSTU7AT81DP2RW3aVE8WL0rHZj6Ig4RMoJx2A3GQ08QnZNiIg4QkIofdQBwET7r5csYc23jwoK0+uPN2TwYPKvm/klzZGXyktYlAHOg4Iw50/BAHCn6IAwW8BISuXuvKiy9baTCnzpN77k6HNDD9RRwkYALluAuIgxwnPwFDRxwkIAk57QLiIFziz5yxxzZu2NRQztmmjVwRCEYiDBpUku7dwrWfpyjEgS7biAMdP8SBgh/iQAEv5tCly11ZstS+gBn7bX6l6UIcpClb2esr4iB7OU3TiBAHacpWtvqKONDl880tjrz/oesfd202om56meUM5WqEQYNE+vRmU8WmjBAHujmIONDxQxwo+CEOFPBiDH3pVVdWrbbS4J67PJkzO13SwPQbcRDjBOLRgjhgEsRJAHEQJ/18PxtxEF3+9x9wfIFgNqfe97HI4Xq7lKHx1a+vFQlGIpj/mmOy834hDnQzAHGg44c4UPBDHCjgxRT67PMNpXIPLPJk+tT0SQPEQUyTh8deIYA4YDLESQBxECf9fD8bcVC9/B881CARjFAwv2969exhRIL4yxqMSLhxSP5EAuJANwcRBzp+iAMFP8SBAl4MoU/8riBb3nKkUBB5eHEx1ecKU3EQwwTikYgD5kAiCCAOEpGGXHYCcVC7tNcfMRUJcrkiwZGP918rErp0bpAIRiSMHJF9kYA40M1BxIGOH+JAwQ9xoIBX49D//HVBtm13/B18P/dgUcaMTveLC+KgxhOIx11FgIoDJkScBBAHcdLP97MRB/Hl/+QpkT17bFXCXrO8YZ8jXpOi0fbtGkTCkMEluWlMut/rNUcbcaCbg4gDHT/EgYIf4kABr4ahP/15QXbucqRHD1tpMGxo+l9IEAc1nEA86hoCiAMmRZwEEAdx0s/3sxEHycn/hQviv7ezeyTYX+bPGl/mvVJ5s0WzrGH8uJK/R1SaL8SBLnuIAx0/xIGCH+JAAa8Goeb4n5//siAff+xI/34lefhBLzMb6yAOajCBeESLBBAHTI44CSAO4qSf72cjDpKd/x07Hdlb3nBxnyNnzl7b3wH9L++PcGNJJowrSdu2yR5T094hDnT5Qhzo+CEOFPwQBwp4VQ799LAjv/qNK+a/Q4aU5HMPetKrZ/orDcrYEAdVnkA0f10CiAMmSJwEEAdx0s/3sxEH6cq/kQgf7W6oSDh58tr+9+5lN1wcemNJxo/3pFPHZI8RcaDLD+JAxw9xoOCHOFDAq2Lo7j2O/PbJghw/ITJqpJEGRencuYoPjKFpxEEM0HnkFQKIAyZDnAQQB3HSz/ezEQfpzv+hQ47sKC9v2Cdy9Ni16xa6dbXLG4YOLcmE8Z6Y3yfpQhzosoE40PFDHCj4IQ4U8KoUuu19R558qiDnzolMGG+lQZs2VXpYjM0iDmKEz6MFccAkiJMA4iBO+vl+NuIgW/k/dkxkx05X9uw1VQniV6k2vcym2oMHlmTYMLu0oVeveKtXEQe6OYg40PFDHCj4IQ4U8KoQuvUtR558uuDvsjv1Zk8efKDJdrtVeGZcTSIO4iLPcw0BxAHzIE4CiIM46ef72YiDbOff7ImwY4cjuy4vb/jkk2tFgvkyatDAkowYbjdbNHto1fJCHOhoIw50/BAHCn6IAwW8iEM3bnLlmeddv9W6WZ7c+5nsSgMzRsRBxBOI5gIRQBwEwsXNERNAHEQMlOYqJoA4qBhVJm4sFkU+3On4MqF8ckNzAxt4Q0lGjLAVCUYqVPNCHOjoIg50/BAHCn6IAwW8CENXrXHlpVesNLh9nicL7sy2NEAcRDh5aCoUAcRBKGwERUQAcRARSJoJTABxEBhZ5gLMZovm9Aazn5bZfNHIhaZX374lGTnc7JFQ8jddjPJCHOhoIg50/BAHCn6IAwW8iEJfX+aK+WWuuxd4cuvc7EsDxEFEk4dmQhNAHIRGR2AEBBAHEUCkiVAEEAehsGU6aP8BKxJ2Xt508fz5a4fbo0dJRo2wSxvMpt2aC3GgoSeCONDxQxwo+CEOFPAiCH3xFVdWr7HSYNG9nsycng9pgDiIYPLQhIoA4kCFj2AlAcSBEiDhoQkgDkKjy01gfb1jlzfsdGTvXkdOn7l26OakLyMQJozzZOxNwUQC4kA3lRAHOn6IAwU/xIECnjL0medc2bjZ9df6P7y4KFMmB/uHV/n42MPZ4yD2FOS6A4iDXKc/9sEjDmJPQW47gDjIbepDD/zkKbvhojm9wWy6eOLEtU21aycyepSpSPD8fRJc+51YsxfiIHQq/EDEgY4f4kDBD3GggKcI/e2TBdn6tiPt24t/3GJQW6t4dGJCEQeJSUUuO4I4yGXaEzNoxEFiUpG7jiAOcpfyyAd84ULDhoumKuHI0WtPbjDv8cYYkTDeViUYsVC+EAe6lCAOdPwQBwp+iAMFvBCh5pjFX/6mINvfd6RbN1tpYI7DyeOFOMhj1pMzZsRBcnKRx54gDvKY9WSMGXGQjDxkrRdGIJRPb/jk4LUiwYzXvN811QiLP9M+a8Ov6XgQB0rc++vPKlvIbzjioHa5P3lS5Le/K8iujxzp26ckDz/oVf3Im9qNLviTEAfBmRERHQHEQXQsaSk4AcRBcGZEREMAcRANR1q5PgFzWkNZJuzZc7VI+OG/tgWfggDiQAHPhCIOwgNEHIRnFyTy008deeIpV8zOtYMHleThxZ706ZPPSoMyN8RBkBnEvVETQBxETZT2ghBAHAShxb1REkAcREmTtiolcOhQw4aL/9f/arRuodIGuO8KAcSBcjIgDsIDRByEZ1dp5L6PHXnyKVcO1zt+mdbDDxalW9dKo7N7H+Igu7lNw8gQB2nIUnb7iDjIbm6TPjLEQdIzlP3+sceBLseIAx0/Kg4U/BAHCngVhJozcZ94qiBmmcK4sabSoOhviMgl/mkSA3p2lANHWGrEfKg9AcRB7ZnzxAYCiANmQ1wEEAdxkee5ZQKIA91cQBzo+CEOFPwQBwp4rYS+t91UGhTk/HmRmyfbSgOuBgIDGUhfAAAgAElEQVSIA2ZDnAQQB3HS59mIA+ZAXAQQB3GR57mIg2jmAOKgEcdv/eBxGTZ4gDx877yr6D75wgr5u0d/5P/ZfQvr5Btf+YJ06GDXyLBUIfxERByEZ3e9yC1bHXny6YKUSiIzZ3iy6LNedR6U4lYRBylOXga6jjjIQBJTPATEQYqTl/KuIw5SnsAMdJ+KA10SEQci0lgM/MNX/+QqcbBhyzb51vcel+8+8iXp2b2rGLlgri//+ecRB7q5J4gDJcBmwjdsdOXZF1z/b+bN9eSuBUiD5igjDqKfe7RYOQHEQeWsuDN6AoiD6JnSYmUEEAeVceKu6hFAHOjYIg4a8Wuu4qDpnzUVCVQchJ+AiIPw7JqLXLnalZdftdJg4XxPbrsVadASYcRBtHOP1oIRQBwE48Xd0RJAHETLk9YqJ4A4qJwVd1aHAOJAxxVxcB1xcO7cBfn7f/6x1E2dcKUKYefu/fL1R34o3/zan8qIoQNZqqCYf4gDBbwmoUuWurJ0uZUG997jSd1MpMH16CIOopt7tBScAOIgODMioiOAOIiOJS0FI4A4CMaLu6MngDjQMUUcVCAOPn//HTJjylj/zqbi4Mx5Np0LOwXbt3XlUrEkRa8UtgnizFKbZ0uydIVl+N/+iyOzpjtwaYWAIdSxfUH4+WWqxEHAvHl2HUcuXELwxcE/78/s0M6Vixc9KfLSm/epUPPxu45I+7YFOXuB9841h88DfQKd2hcgoSCAOKhAHFyv4uDYqQsK/PkONd+6mTfOF3nzHHoiPP47R9ZtFGnXTuQP/6AkkyeEbipfgY5I907t5Phpfn7zlfhkjNa8cXZdkbOI52QkJGe96NKxrf/BrVhEXOUs9bEP13UdMe/9Tp65GHtf6EA+CfToYje35wpHAHFwHXFg/oo9DsJNrEqiWKpQCaXm79l/wBGzp8Hb7zjSpYv4xy2OGsHXR5USZalCpaS4rxoEWKpQDaq0WSkBlipUSor7oibAUoWoidJeUAIsVQhK7Or7EQetiIPWTlV4fc05uWkMH9jCTEPEQXBqRhhs3OzIxk12P4PevUry8IOeDBnMHAxCE3EQhBb3Rk0AcRA1UdoLQgBxEIQW90ZJAHEQJU3aCkMAcRCGWkMM4qDJcYwGzcD+veX7j/61v/mhuRof13jfwjr5xle+IB062FKXv3/kgnTpLDL1Fk/Gj+PDW5DpiDionNaBT4wscGTDZWFgIqdP86RuRkn69WPeVU7S3ok4CEqM+6MkgDiIkiZtBSWAOAhKjPujIoA4iIok7YQlgDgIS+7y++dSqcSnDgXDP/2rhnVaI4aXfIEweSJIK0GKOGidUkvCYPrUkgy8gXnWOsHm70AchCVHXBQEEAdRUKSNsAQQB2HJEaclgDjQEiReSwBxoCNIxYGOnyxbd042veHKu+817GQ/9EYjEEpyyxQ2HroeXsRBy3R8YbDZkQ0b7ZIEc82Y5okRBjcgDJQ/tVQcqAHSgIoA4kCFj2AlAcSBEiDhoQkgDkKjIzAiAogDHUjEgY6f7K8/67ew6yPzQc+Vt95uEAiDB5Vk6s0lv6Sc61oCiINrmXxyWRisbyoMppXkhgFUGET1c0TFQVQkaScMAcRBGGrEREUAcRAVSdoJSgBxEJQY90dNAHGgI4o40PG7Ig7KzezZawXCm1saBMKAAVYgzJzu+UdwcVkCiIOGmfDJQbuHwVXCYPrlCgOEQeQ/MoiDyJHSYAACiIMAsLg1cgKIg8iR0mCFBBAHFYLitqoRQBzo0CIOdPyuEQfl5j7e78imzeaXK+Xvifv2bRAIbdsqH5yBcMSBiC8MNjuyfkODUTKCySxJMMKJqzoEEAfV4UqrlRFAHFTGibuqQwBxUB2utNo6AcRB64y4o7oEEAc6vogDHb8WxUG5WfPB0BcIb7hy6ZL901497R4IM6Z70rGDsgMpDs+zODh4WRisayoMppVkQH+EQbWnNeKg2oRp/3oEEAfMjzgJIA7ipJ/vZyMO8p3/JIwecaDLAuJAx69VcVBu/vBhIw/sMobz5+2fdu9mj3E0m9516aLsSArD8ygODh6ySxKuEgYzLlcYIAxqNosRBzVDzYOaIYA4YFrESQBxECf9fD8bcZDv/Cdh9IgDXRYQBzp+FYuD8mOOHRfZuMn1lzCcPmP/tHNnKxBmTvOke3dlh1IUnidx4AuDzY6sW9+wJGHWZWHQH2FQ81mLOKg5ch7YiADigOkQJwHEQZz08/1sxEG+85+E0SMOdFlAHOj4BRYH5ccZaWDWtRuBcOKk/dMOHUSm3uzJzOkl6dUr++XqeRAHhy4Lg7VNhcG0kvTvl/0cK3+8qhaOOKgaWhqugADioAJI3FI1AoiDqqGl4VYIIA6YInETQBzoMoA40PELLQ7Kj71wQcR8qDTLGI4etScxmI0TjUCYMb0k/fpm98NllsXBoU/tkoSrhMFMuyQBYaD8oYsgHHEQAUSaCE0AcRAaHYEREEAcRACRJkIRQByEwkZQhAQQBzqYiAMdP7U4KD++VBJZs85UIDjy6WErEMzRjWWBcEMGd9jPojjwhcFmR9aua1iSUHdZGPSjwkD50xZdOOIgOpa0FJwA4iA4MyKiI4A4iI4lLQUjgDgIxou7oyeAONAxRRzo+EUmDhp3w2ycZwSCOZGhfN08pSTmmL7Bg7JTgZAlcfDpZWFg5E/58oXBtGxXjSh/fGILRxzEhp4Hm31tOrQR8wb6+OmL8IBAzQkgDmqOnAdeJoA4YCrETQBxoMsA4kDHryrioNwls/+B+fb64/0NAmHSxJJ/CsOwoekXCFkQB6Y6xCxJuEoYzLJLErK8zET5YxN7OOIg9hTkugOIg1ynP/bBIw5iT0FuO4A4yG3qEzNwxIEuFYgDHb+qioNy197c4sjGN1zZs6dBIIwfZwXCyBHpFQhpFgfNCYPZszyZhjBQ/kTVJhxxUBvOPKV5AogDZkacBBAHcdLP97MRB/nOfxJGjzjQZQFxoONXE3FQ7uJb7zj+KQw7dzUIhJtGl2TGdE/GjE6fQEijODhsKgw2O7J6bcOSBCMMTIVB3wxvZKn8MUlcOOIgcSnJVYcQB7lKd+IGizhIXEpy0yHEQW5SndiBIg50qUEc6PjVVByUu7rtfUc2bHTlgw8bBIKpPDB7IIwbmx6BkCZxcLjeLkm4ShjUXRYGfdLDXDndMxOOOMhMKlM5EMRBKtOWmU4jDjKTytQNBHGQupRlrsOIA11KEQc6frGIg3KXd+x0xGykuG17g0Awex+YCoRJE5L/YTYN4sAIgw1mD4NGFQZz6uyShL4IA+VPT3zhiIP42PNkNkdkDsRLAHEQL/88Px1xkOfsJ2PsiANdHhAHOn6xioNy1/fstcf/vf1ug0AYMtgKhJsnJ1cgJFkc1Nc7sn7j1ZseGmFgliT0QRgof2riD0ccxJ+DPPeAioM8Zz/+sSMO4s9BXnuAOMhr5pMzbsSBLheIAx2/RIiD8hAOfGJL6bdsbRAIN9xQkpnTSjJtqqccafThSRQH9UdMFYcVMeXL7GEwY3pJ+vROroSJPjvZbhFxkO38Jn10iIOkZyjb/UMcZDu/SR4d4iDJ2clH3xAHujwjDnT8EiUOykMxG/itWuPIpjcaPvyaowFnTi/JzBnJEQhJEge+MFjvyNr1CAPlj0QqwhEHqUhTZjuJOMhsalMxMMRBKtKUyU4iDjKZ1lQNCnGgSxfiQMcvkeKgPKRjx0VWrnL9kxiKl31B715mCUNJTNl93FcSxMGRI0YWXC0M6mZ5Mmt6SXpTYRD3FKna8xEHVUNLwxUQQBxUAIlbqkYAcVA1tDTcCgHEAVMkbgKIA10GEAc6fokWB+WhnT4jsnyF61cgXLhg/7RHd/H3QJg3Nz6BEKc4OHLU7F9gqgwaKgzqZnoya2ZJjFzhyjYBxEG285v00SEOkp6hbPcPcZDt/CZ5dIiDJGcnH31DHOjyjDjQ8UuFOCgP0UiDZStd2bjJlbNn7Z926SL+MY63z/PEfJiq5RWHOPCFwVp7GkX5QhjUMuvJeBbiIBl5yGsvEAd5zXwyxo04SEYe8tgLxEEes56sMSMOdPlAHOj4pUoclIdaKoksW+HKho2unDxl/7RjR1uBcMc8T9q0UUKpMLyW4uDoUUdWrXVkfSNhMGuGJ7NnlaQXFQYVZiw7tyEOspPLNI4EcZDGrGWnz4iD7OQybSNBHKQtY9nrL+JAl1PEgY5fKsVB4yGvWuP65fpmPwRztWsnMmOaJ3fc5kn79ko4rYTXQhz4wmCNOVqxocLAFwZ1JenVkyUJ1c1wcltHHCQ3N3noGeIgD1n+/9u7v1i7qjoP4KvXaBADLdYRUv8hMjM4ZBSKJAwdoBgTjQ1xYtJxwsNkFFGHlzHokNpEHzTpNCiNviCKqJkH49jExBiMDySiBUQREInS+IeBEWtL6NDSESsz3mvWuexzT8+c3nvO/u1791n7fPpGu39rr/35rZazv3edvaf3GgUH09ubrs9McND1Dk//9QkOYj0SHMT8ig8OqsvPN9b5O/+HDy9+X+EFc4s7EK64fD695NQg0knKVzM4ePrIunT3PScGBvmNEpcKDFanmYWNKjgorGEdm67goGMNLexyBAeFNaxD0xUcdKiZhV6K4CDWOMFBzK8zwUHF8OCP59I9965Lh55ceuBB3oGQn4Fw+ulBrKHy1QgOjhxZl/bds673NYzqV36Gw5a/WUhn2GHQbAMLHk1wUHDzOjB1wUEHmljwJQgOCm5e4VMXHBTewA5MX3AQa6LgIObXueCg4nj4p/kn9nPpwG+XAoQLL8jPQGjuBrzJ4ODIkZT23T2X7rt/KDC4dCGdscFXEoLLvHPlgoPOtbSoCxIcFNWuzk1WcNC5lhZzQYKDYlrV2YkKDmKtFRzE/DobHFQs+3++Lu27ay79+omlAOENf73Q24HwZy+L3ZA3ERzkZzN87/k3RVRzzl+x+FuBQXBld7tccNDt/k771QkOpr1D3Z6f4KDb/Z3mqxMcTHN3ZmNugoNYnwUHMb/OBwcVz68eXdd7E8Njjy8FCOf/1WKAcNaZ9QKESHBw9OjimyF+9MDSDoP8lYrLtiykDXYYBFd198sFB93v8TRfoeBgmrvT/bkJDrrf42m9QsHBtHZmduYlOIj1WnAQ85uZ4KBi+q9fLwYIv/jlUoBw3l8s9B6i+IpNkwUIdYKDUYHBmy6aT5dvmU8bNgSbqXxmBAQHM9PqqbxQwcFUtmVmJiU4mJlWT92FCg6mriUzNyHBQazlgoOY38wFBxXXbw8uBgg/e2QpQDj3dQu91zi++lXjBQiTBAdHn0npzu/NpfsHdhi8afN8uvyy+bRhfbCJymdOQHAwcy2fqgsWHExVO2ZuMoKDmWv51Fyw4GBqWjGzExEcxFovOIj5zWxwULE99dRigPDQw0sBwmvPXvwKwzmvXT5AGCc4eOaZlL7z3bl0/4NLX0nIgUEef73AILh6Z7dccDC7vZ+GKxccTEMXZncOgoPZ7X3bVy44aLsDzi84iK0BwUHMb+aDg4qv95DCoWcO5J0H+Qb/z88dHSAsFxzkHQY5MHhgIDC4aHN+q4PAILhklaeUBAeWQZsCgoM29Z1bcGANtCUgOGhL3nkrAcFBbC0IDmJ+goMhv989uxggfP8HSzsENm1a6N3wn/eXJwYIo4KD/AyDXmDw46X6iy6cT1uvmE/rTw82SzmB5wUEB5ZCmwKCgzb1nVtwYA20JSA4aEveeQUHzawBwUHQ8cDh3wdH6Gb5c8+l9N275tJdd8+lhefzgjNfvvgMhPw2hvxrMDjIOxbuHAoMNl84n958xXw6XWDQzUXS4lUJDlrEd+okOLAI2hQQHLSpP9vnFhzMdv+n4ertOIh1QXAQ87PjYAW/HBrkZyDsu2su/e//LR78so2Lb2G48tIXpt8c+mP69h0L6cGBHQabL5hPV261wyC4NJUvIyA4sDzaFBActKnv3IIDa6AtAcFBW/LOWwkIDmJrQXAQ8xMcTOB39/fneiHC8eOLRRtfmtLh/14aoBcY5K8keOjhBKoOrSMgOKijpqYpAcFBU5LGqSMgOKijpqYJAcFBE4rGiAgIDiJ6KQkOYn6Cgxp+P/zRYoBw7Nhi8YXPBwZeq1gDU0ktAcFBLTZFDQkIDhqCNEwtAcFBLTZFDQgIDhpANERIQHAQ4hMcxPiS4CAA+PP9L0yvevV8evGpfwyMopTA5AKCg8nNVDQnIDhoztJIkwsIDiY3U9GMgOCgGUej1BcQHNS3y5V2HMT8BAcBv+VexxgYVimBFQUEBysSOWAVBQQHq4hr6BUFBAcrEjlglQQEB6sEa9ixBQQHY1ONPFBwEPMTHAT8BAcBPKUhAcFBiE9xUEBwEARUHhIQHIT4FAcEBAcBPKWNCAgOYoyCg5if4CDgJzgI4CkNCQgOQnyKgwKCgyCg8pCA4CDEpzggIDgI4CltREBwEGMUHMT8BAcBP8FBAE9pSEBwEOJTHBQQHAQBlYcEBAchPsUBAcFBAE9pIwKCgxij4CDmJzgI+AkOAnhKQwKCgxCf4qCA4CAIqDwkIDgI8SkOCAgOAnhKGxEQHMQYBQcxP8FBwE9wEMBTGhIQHIT4FAcFBAdBQOUhAcFBiE9xQEBwEMBT2oiA4CDGKDiI+QkOAn6CgwCe0pCA4CDEpzgoIDgIAioPCQgOQnyKAwKCgwCe0kYEBAcxRsFBzE9wEPATHATwlIYEBAchPsVBAcFBEFB5SEBwEOJTHBAQHATwlDYiIDiIMQoOYn6Cg4Cf4CCApzQkIDgI8SkOCggOgoDKQwKCgxCf4oCA4CCAp7QRAcFBjFFwEPMTHAT8BAcBPKUhAcFBiE9xUEBwEARUHhIQHIT4FAcEBAcBPKWNCAgOYoyCg5if4CDgJzgI4CkNCQgOQnyKgwKCgyCg8pCA4CDEpzggIDgI4CltREBwEGMUHMT8BAcBP8FBAE9pSEBwEOJTHBQQHAQBlYcEBAchPsUBAcFBAE9pIwKCgxij4CDmJzgI+AkOAnhKQwKCgxCf4qCA4CAIqDwkIDgI8SkOCAgOAnhKGxEQHMQYBQcxP8FBwE9wEMBTGhIQHIT4FAcFBAdBQOUhAcFBiE9xQEBwEMBT2oiA4CDGKDiI+akmQIAAAQIECBAgQIAAAQKdFhAcdLq9Lo4AAQIECBAgQIAAAQIECMQEBAcxP9UECBAgQIAAAQIECBAgQKDTAoKDTrfXxREgQIAAAQIECBAgQIAAgZiA4CDmp7qGwJ7P7023feX2fuUnbrgmvfPtl9UYSQmB+gLHjz+XPvapL/YG+PiH35NOOeVF9QdTSWBMgWrd3X7Hvb0K//6NCeewsMDTR4+l63Z8Ov3kkV/1xrrm6m3p+vdtD49rAALLCeTPfGe/8qz/9znv69/alz5642290m1vucT/hy2jxgUeffxA+uRnv5p2feTadMb60/rjuw+pTy04qG+nsoZA/tB8879/I737XW/r/SXOf6nff8NNadfOa9PFbzyvxohKCEwuMHjz5gPL5H4q6glU6+6SzecLS+sRqqopMLz2rMWakMrGFhgMBoYD0vse2p/23LI33bz7g73PgvlGLv8SZI3N68BlBAZD0je8/nX9dZZL3IfElo7gIOanOijgw0sQUHktgeonILn43gd+6icdtRQVTSqQP0g/9sRBH44nhXN8WKD6IH39B7b3Q3o3a2FWA4whMGrHwfDvDQcJYwzrEAIrCpxsx8FgofuQFRlPOEBwMJmXoxsWGPVhpuFTGI7ACQKDH5bzjZzgwAJZK4Hh7ZGbztyYPnfjh9I5r9m0VlNwnhkWqH4C/OXP7Ejnnv2KtPPfbk3/+s//YP3N8JpYi0sfDglG3ajlG7ydu7+Qdu14r/W4Fk2ZkXOMExy4D5lsMQgOJvNydMMCfuLRMKjhlhUY/omv4MCCWSuB6sPy9qu29n/im9ff3m/eecI2yrWaj/PMnkB1c5av/OFHHvWMg9lbAq1c8cmCg8F/CwUHrbSm8ycdJzhwHzLZMhAcTObl6AYF8l/Wg08etk28QVNDLS8w/BPf6mjPObByVltgVHDgJx2rrW78SiCvtcEdBtV6POvlG311xjJZVQE7DlaV1+DLCKwUHLgPmXz5CA4mN1PRgIC/rA0gGiIsYMdBmNAAEwgMf4AevpmbYCiHEphIYNQHaP/+TUTo4JoCnnFQE05ZWGC54MB9SD1ewUE9N1UBAduCAnhKGxXwwblRToOtIJAfALZz16395xpYf5bMWglUu1vy9vD8+mM7DtZK3nlGBQfeqmBdrIXAcq9jzOf3Fo/JuyA4mNxMRUBg+D3S1VC2igdQldYWcONWm05hTYHBV5QNvyaq5pDKCIwlUL3++MChw73jr7l6mw/OY8k5qI7A4L91uX74YbCDf+4zYB1hNScTGHWvUf175z4ktm4EBzE/1QQIECBAgAABAgQIECBAoNMCgoNOt9fFESBAgAABAgQIECBAgACBmIDgIOanmgABAgQIECBAgAABAgQIdFpAcNDp9ro4AgQIECBAgAABAgQIECAQExAcxPxUEyBAgAABAgQIECBAgACBTgsIDjrdXhdHgAABAgQIECBAgAABAgRiAoKDmJ9qAgQIECBAgAABAgQIECDQaQHBQafb6+IIECBAgAABAgQIECBAgEBMQHAQ81NNgAABAgQIECBAgAABAgQ6LSA46HR7XRwBAgQIECBAgAABAgQIEIgJCA5ifqoJECBAgAABAgQIECBAgECnBQQHnW6viyNAgAABAgQIECBAgAABAjEBwUHMTzUBAgQIECBAgAABAgQIEOi0gOCg0+11cQQIECBAgAABAgQIECBAICYgOIj5qSZAgAABAgQIECBAgAABAp0WEBx0ur0ujgABAgQIECBAgAABAgQIxAQEBzE/1QQIECBAgEBK6fjx59LHPvXFdMnm89M7334ZEwIECBAgQKBDAoKDDjXTpRAgQIDA7Anc99D+9E//sjtte8sl6eMffk865ZQX9RGW+7OIVB53zy170827P5jOWH9abyjBQURULQECBAgQmG4BwcF098fsCBAgQIDAsgJVOLDpzI3pczd+KJ3zmk0n3Mjffse9I0OFCKvgIKKnlgABAgQIlCcgOCivZ2ZMgAABAgT6AtVN/JVbLkj/8+zxdP37tvf+LP/+3m/emU57yanp2O+ePWE3wp7P7023feX23nHDgUM13vUf2J527ro1HTh0uHfclz+zI138xvPSo48fSO+/4ab+7+c/u+bqbem6f3xH/6sKjz1xsD/+qJ0Q2keAAAECBAiUJSA4KKtfZkuAAAECBE4QGLzRv+mWr6VdO97b23WQw4GzX3lWyjfxB5883A8O8u8P/neuzwFBtVth1Ncbvv6tfb0QovpqwnI7DvIOhypkeProsXTdjk+n7Vdt9dwD65YAAQIECBQsIDgouHmmToAAAQIEBm/iv/Qf3+6B/N1bt6RPfvaraddHrk3596qg4Pd/+EPvRj7vJsi7B/Kv4WcTjAoF8i6Dnbu/0A8lJvmqQg4q8q9qJ4SOESBAgAABAuUJCA7K65kZEyBAgACBvsDgTfzTR471bvDzr7+/6sreT/kHdxgcOPRUP1CoHmqYj807CvLOhHxzLziwuAgQIECAAIFhAcGBNUGAAAECBAoWGL7Rz0HBfQ/u73+tQHBQcHNNnQABAgQITImA4GBKGmEaBAgQIECgjsBwcJC/VvCL//xNeuvWi3vDDQYHTX1VIZ+j+irESq9j9FWFOl1VQ4AAAQIEpktAcDBd/TAbAgQIECAwkcCorxYMDjD8MMRxHo6455a9/R0LeazhZxxUb1bYtfPakz4roZqD4GCidjqYAAECBAhMpYDgYCrbYlIECBAgQGA8gUmDgzzqOK9jrN6gMCo4yL+Xn4vw0Rtv601y+HWM+dkKgoPx+ucoAgQIECBQgoDgoIQumSMBAgQIECBAgAABAgQIEGhJQHDQErzTEiBAgAABAgQIECBAgACBEgQEByV0yRwJECBAgAABAgQIECBAgEBLAoKDluCdlgABAgQIECBAgAABAgQIlCAgOCihS+ZIgAABAgQIECBAgAABAgRaEhActATvtAQIECBAgAABAgQIECBAoAQBwUEJXTJHAgQIECBAgAABAgQIECDQkoDgoCV4pyVAgAABAgQIECBAgAABAiUICA5K6JI5EiBAgAABAgQIECBAgACBlgQEBy3BOy0BAgQIECBAgAABAgQIEChBQHBQQpfMkQABAgQIECBAgAABAgQItCQgOGgJ3mkJECBAgAABAgQIECBAgEAJAoKDErpkjgQIECBAgAABAgQIECBAoCUBwUFL8E5LgAABAgQIECBAgAABAgRKEBAclNAlcyRAgAABAgQIECBAgAABAi0JCA5agndaAgQIECBAgAABAgQIECBQgoDgoIQumSMBAgQIECBAgAABAgQIEGhJQHDQErzTEiBAgAABAgQIECBAgACBEgQEByV0yRwJECBAgAABAgQIECBAgEBLAoKDluCdlgABAgQIECBAgAABAgQIlCAgOCihS+ZIgAABAgQIECBAgAABAgRaEhActATvtAQIECBAgAABAgQIECBAoAQBwUEJXTJHAgQIECBAgAABAgQIECDQkoDgoCV4pyVAgAABAgQIECBAgAABAiUICA5K6JI5EiBAgAABAgQIECBAgACBlgQEBy3BOy0BAgQIECBAgAABAgQIEChBQHBQQpfMkQABAgQIECBAgAABAgQItCQgOGgJ3mkJECBAgAABAgQIECBAgEAJAoKDErpkjgQIECBAgAABAgQIECBAoCUBwUFL8E5LgAABAgQIECBAgAABAgRKEBAclNAlcyRAgAABAgQIECBAgAABAi0JCA5agndaAgQIECBAgAABAgQIECBQgoDgoIQumSMBAgQIECBAgAABAgQIEGhJQHDQEsu/fSwAAAChSURBVLzTEiBAgAABAgQIECBAgACBEgQEByV0yRwJECBAgAABAgQIECBAgEBLAoKDluCdlgABAgQIECBAgAABAgQIlCAgOCihS+ZIgAABAgQIECBAgAABAgRaEhActATvtAQIECBAgAABAgQIECBAoAQBwUEJXTJHAgQIECBAgAABAgQIECDQkoDgoCV4pyVAgAABAgQIECBAgAABAiUI/An2MXI/CRb8RQAAAABJRU5ErkJggg==",
      "text/html": [
       "<div>                            <div id=\"5740eeaa-d2a7-492b-846a-1a50fbdb9c23\" class=\"plotly-graph-div\" style=\"height:525px; width:100%;\"></div>            <script type=\"text/javascript\">                require([\"plotly\"], function(Plotly) {                    window.PLOTLYENV=window.PLOTLYENV || {};                                    if (document.getElementById(\"5740eeaa-d2a7-492b-846a-1a50fbdb9c23\")) {                    Plotly.newPlot(                        \"5740eeaa-d2a7-492b-846a-1a50fbdb9c23\",                        [{\"hovertemplate\":\"Month=%{x}<br>Tmax=%{y}<extra></extra>\",\"legendgroup\":\"\",\"line\":{\"color\":\"#636efa\",\"dash\":\"solid\"},\"marker\":{\"symbol\":\"circle\"},\"mode\":\"lines\",\"name\":\"\",\"orientation\":\"v\",\"showlegend\":false,\"type\":\"scatter\",\"x\":[1,2,3,4,5,6,7,8,9,10,11,12],\"xaxis\":\"x\",\"y\":[9.7,6.7,9.8,15.5,20.8,24.2,28.3,24.5,20.9,16.5,12.2,10.7],\"yaxis\":\"y\"}],                        {\"legend\":{\"tracegroupgap\":0},\"margin\":{\"t\":60},\"template\":{\"data\":{\"bar\":[{\"error_x\":{\"color\":\"#2a3f5f\"},\"error_y\":{\"color\":\"#2a3f5f\"},\"marker\":{\"line\":{\"color\":\"#E5ECF6\",\"width\":0.5},\"pattern\":{\"fillmode\":\"overlay\",\"size\":10,\"solidity\":0.2}},\"type\":\"bar\"}],\"barpolar\":[{\"marker\":{\"line\":{\"color\":\"#E5ECF6\",\"width\":0.5},\"pattern\":{\"fillmode\":\"overlay\",\"size\":10,\"solidity\":0.2}},\"type\":\"barpolar\"}],\"carpet\":[{\"aaxis\":{\"endlinecolor\":\"#2a3f5f\",\"gridcolor\":\"white\",\"linecolor\":\"white\",\"minorgridcolor\":\"white\",\"startlinecolor\":\"#2a3f5f\"},\"baxis\":{\"endlinecolor\":\"#2a3f5f\",\"gridcolor\":\"white\",\"linecolor\":\"white\",\"minorgridcolor\":\"white\",\"startlinecolor\":\"#2a3f5f\"},\"type\":\"carpet\"}],\"choropleth\":[{\"colorbar\":{\"outlinewidth\":0,\"ticks\":\"\"},\"type\":\"choropleth\"}],\"contour\":[{\"colorbar\":{\"outlinewidth\":0,\"ticks\":\"\"},\"colorscale\":[[0.0,\"#0d0887\"],[0.1111111111111111,\"#46039f\"],[0.2222222222222222,\"#7201a8\"],[0.3333333333333333,\"#9c179e\"],[0.4444444444444444,\"#bd3786\"],[0.5555555555555556,\"#d8576b\"],[0.6666666666666666,\"#ed7953\"],[0.7777777777777778,\"#fb9f3a\"],[0.8888888888888888,\"#fdca26\"],[1.0,\"#f0f921\"]],\"type\":\"contour\"}],\"contourcarpet\":[{\"colorbar\":{\"outlinewidth\":0,\"ticks\":\"\"},\"type\":\"contourcarpet\"}],\"heatmap\":[{\"colorbar\":{\"outlinewidth\":0,\"ticks\":\"\"},\"colorscale\":[[0.0,\"#0d0887\"],[0.1111111111111111,\"#46039f\"],[0.2222222222222222,\"#7201a8\"],[0.3333333333333333,\"#9c179e\"],[0.4444444444444444,\"#bd3786\"],[0.5555555555555556,\"#d8576b\"],[0.6666666666666666,\"#ed7953\"],[0.7777777777777778,\"#fb9f3a\"],[0.8888888888888888,\"#fdca26\"],[1.0,\"#f0f921\"]],\"type\":\"heatmap\"}],\"heatmapgl\":[{\"colorbar\":{\"outlinewidth\":0,\"ticks\":\"\"},\"colorscale\":[[0.0,\"#0d0887\"],[0.1111111111111111,\"#46039f\"],[0.2222222222222222,\"#7201a8\"],[0.3333333333333333,\"#9c179e\"],[0.4444444444444444,\"#bd3786\"],[0.5555555555555556,\"#d8576b\"],[0.6666666666666666,\"#ed7953\"],[0.7777777777777778,\"#fb9f3a\"],[0.8888888888888888,\"#fdca26\"],[1.0,\"#f0f921\"]],\"type\":\"heatmapgl\"}],\"histogram\":[{\"marker\":{\"pattern\":{\"fillmode\":\"overlay\",\"size\":10,\"solidity\":0.2}},\"type\":\"histogram\"}],\"histogram2d\":[{\"colorbar\":{\"outlinewidth\":0,\"ticks\":\"\"},\"colorscale\":[[0.0,\"#0d0887\"],[0.1111111111111111,\"#46039f\"],[0.2222222222222222,\"#7201a8\"],[0.3333333333333333,\"#9c179e\"],[0.4444444444444444,\"#bd3786\"],[0.5555555555555556,\"#d8576b\"],[0.6666666666666666,\"#ed7953\"],[0.7777777777777778,\"#fb9f3a\"],[0.8888888888888888,\"#fdca26\"],[1.0,\"#f0f921\"]],\"type\":\"histogram2d\"}],\"histogram2dcontour\":[{\"colorbar\":{\"outlinewidth\":0,\"ticks\":\"\"},\"colorscale\":[[0.0,\"#0d0887\"],[0.1111111111111111,\"#46039f\"],[0.2222222222222222,\"#7201a8\"],[0.3333333333333333,\"#9c179e\"],[0.4444444444444444,\"#bd3786\"],[0.5555555555555556,\"#d8576b\"],[0.6666666666666666,\"#ed7953\"],[0.7777777777777778,\"#fb9f3a\"],[0.8888888888888888,\"#fdca26\"],[1.0,\"#f0f921\"]],\"type\":\"histogram2dcontour\"}],\"mesh3d\":[{\"colorbar\":{\"outlinewidth\":0,\"ticks\":\"\"},\"type\":\"mesh3d\"}],\"parcoords\":[{\"line\":{\"colorbar\":{\"outlinewidth\":0,\"ticks\":\"\"}},\"type\":\"parcoords\"}],\"pie\":[{\"automargin\":true,\"type\":\"pie\"}],\"scatter\":[{\"marker\":{\"colorbar\":{\"outlinewidth\":0,\"ticks\":\"\"}},\"type\":\"scatter\"}],\"scatter3d\":[{\"line\":{\"colorbar\":{\"outlinewidth\":0,\"ticks\":\"\"}},\"marker\":{\"colorbar\":{\"outlinewidth\":0,\"ticks\":\"\"}},\"type\":\"scatter3d\"}],\"scattercarpet\":[{\"marker\":{\"colorbar\":{\"outlinewidth\":0,\"ticks\":\"\"}},\"type\":\"scattercarpet\"}],\"scattergeo\":[{\"marker\":{\"colorbar\":{\"outlinewidth\":0,\"ticks\":\"\"}},\"type\":\"scattergeo\"}],\"scattergl\":[{\"marker\":{\"colorbar\":{\"outlinewidth\":0,\"ticks\":\"\"}},\"type\":\"scattergl\"}],\"scattermapbox\":[{\"marker\":{\"colorbar\":{\"outlinewidth\":0,\"ticks\":\"\"}},\"type\":\"scattermapbox\"}],\"scatterpolar\":[{\"marker\":{\"colorbar\":{\"outlinewidth\":0,\"ticks\":\"\"}},\"type\":\"scatterpolar\"}],\"scatterpolargl\":[{\"marker\":{\"colorbar\":{\"outlinewidth\":0,\"ticks\":\"\"}},\"type\":\"scatterpolargl\"}],\"scatterternary\":[{\"marker\":{\"colorbar\":{\"outlinewidth\":0,\"ticks\":\"\"}},\"type\":\"scatterternary\"}],\"surface\":[{\"colorbar\":{\"outlinewidth\":0,\"ticks\":\"\"},\"colorscale\":[[0.0,\"#0d0887\"],[0.1111111111111111,\"#46039f\"],[0.2222222222222222,\"#7201a8\"],[0.3333333333333333,\"#9c179e\"],[0.4444444444444444,\"#bd3786\"],[0.5555555555555556,\"#d8576b\"],[0.6666666666666666,\"#ed7953\"],[0.7777777777777778,\"#fb9f3a\"],[0.8888888888888888,\"#fdca26\"],[1.0,\"#f0f921\"]],\"type\":\"surface\"}],\"table\":[{\"cells\":{\"fill\":{\"color\":\"#EBF0F8\"},\"line\":{\"color\":\"white\"}},\"header\":{\"fill\":{\"color\":\"#C8D4E3\"},\"line\":{\"color\":\"white\"}},\"type\":\"table\"}]},\"layout\":{\"annotationdefaults\":{\"arrowcolor\":\"#2a3f5f\",\"arrowhead\":0,\"arrowwidth\":1},\"autotypenumbers\":\"strict\",\"coloraxis\":{\"colorbar\":{\"outlinewidth\":0,\"ticks\":\"\"}},\"colorscale\":{\"diverging\":[[0,\"#8e0152\"],[0.1,\"#c51b7d\"],[0.2,\"#de77ae\"],[0.3,\"#f1b6da\"],[0.4,\"#fde0ef\"],[0.5,\"#f7f7f7\"],[0.6,\"#e6f5d0\"],[0.7,\"#b8e186\"],[0.8,\"#7fbc41\"],[0.9,\"#4d9221\"],[1,\"#276419\"]],\"sequential\":[[0.0,\"#0d0887\"],[0.1111111111111111,\"#46039f\"],[0.2222222222222222,\"#7201a8\"],[0.3333333333333333,\"#9c179e\"],[0.4444444444444444,\"#bd3786\"],[0.5555555555555556,\"#d8576b\"],[0.6666666666666666,\"#ed7953\"],[0.7777777777777778,\"#fb9f3a\"],[0.8888888888888888,\"#fdca26\"],[1.0,\"#f0f921\"]],\"sequentialminus\":[[0.0,\"#0d0887\"],[0.1111111111111111,\"#46039f\"],[0.2222222222222222,\"#7201a8\"],[0.3333333333333333,\"#9c179e\"],[0.4444444444444444,\"#bd3786\"],[0.5555555555555556,\"#d8576b\"],[0.6666666666666666,\"#ed7953\"],[0.7777777777777778,\"#fb9f3a\"],[0.8888888888888888,\"#fdca26\"],[1.0,\"#f0f921\"]]},\"colorway\":[\"#636efa\",\"#EF553B\",\"#00cc96\",\"#ab63fa\",\"#FFA15A\",\"#19d3f3\",\"#FF6692\",\"#B6E880\",\"#FF97FF\",\"#FECB52\"],\"font\":{\"color\":\"#2a3f5f\"},\"geo\":{\"bgcolor\":\"white\",\"lakecolor\":\"white\",\"landcolor\":\"#E5ECF6\",\"showlakes\":true,\"showland\":true,\"subunitcolor\":\"white\"},\"hoverlabel\":{\"align\":\"left\"},\"hovermode\":\"closest\",\"mapbox\":{\"style\":\"light\"},\"paper_bgcolor\":\"white\",\"plot_bgcolor\":\"#E5ECF6\",\"polar\":{\"angularaxis\":{\"gridcolor\":\"white\",\"linecolor\":\"white\",\"ticks\":\"\"},\"bgcolor\":\"#E5ECF6\",\"radialaxis\":{\"gridcolor\":\"white\",\"linecolor\":\"white\",\"ticks\":\"\"}},\"scene\":{\"xaxis\":{\"backgroundcolor\":\"#E5ECF6\",\"gridcolor\":\"white\",\"gridwidth\":2,\"linecolor\":\"white\",\"showbackground\":true,\"ticks\":\"\",\"zerolinecolor\":\"white\"},\"yaxis\":{\"backgroundcolor\":\"#E5ECF6\",\"gridcolor\":\"white\",\"gridwidth\":2,\"linecolor\":\"white\",\"showbackground\":true,\"ticks\":\"\",\"zerolinecolor\":\"white\"},\"zaxis\":{\"backgroundcolor\":\"#E5ECF6\",\"gridcolor\":\"white\",\"gridwidth\":2,\"linecolor\":\"white\",\"showbackground\":true,\"ticks\":\"\",\"zerolinecolor\":\"white\"}},\"shapedefaults\":{\"line\":{\"color\":\"#2a3f5f\"}},\"ternary\":{\"aaxis\":{\"gridcolor\":\"white\",\"linecolor\":\"white\",\"ticks\":\"\"},\"baxis\":{\"gridcolor\":\"white\",\"linecolor\":\"white\",\"ticks\":\"\"},\"bgcolor\":\"#E5ECF6\",\"caxis\":{\"gridcolor\":\"white\",\"linecolor\":\"white\",\"ticks\":\"\"}},\"title\":{\"x\":0.05},\"xaxis\":{\"automargin\":true,\"gridcolor\":\"white\",\"linecolor\":\"white\",\"ticks\":\"\",\"title\":{\"standoff\":15},\"zerolinecolor\":\"white\",\"zerolinewidth\":2},\"yaxis\":{\"automargin\":true,\"gridcolor\":\"white\",\"linecolor\":\"white\",\"ticks\":\"\",\"title\":{\"standoff\":15},\"zerolinecolor\":\"white\",\"zerolinewidth\":2}}},\"xaxis\":{\"anchor\":\"y\",\"domain\":[0.0,1.0],\"title\":{\"text\":\"Month\"}},\"yaxis\":{\"anchor\":\"x\",\"domain\":[0.0,1.0],\"title\":{\"text\":\"Tmax\"}}},                        {\"responsive\": true}                    ).then(function(){\n",
       "                            \n",
       "var gd = document.getElementById('5740eeaa-d2a7-492b-846a-1a50fbdb9c23');\n",
       "var x = new MutationObserver(function (mutations, observer) {{\n",
       "        var display = window.getComputedStyle(gd).display;\n",
       "        if (!display || display === 'none') {{\n",
       "            console.log([gd, 'removed!']);\n",
       "            Plotly.purge(gd);\n",
       "            observer.disconnect();\n",
       "        }}\n",
       "}});\n",
       "\n",
       "// Listen for the removal of the full notebook cells\n",
       "var notebookContainer = gd.closest('#notebook-container');\n",
       "if (notebookContainer) {{\n",
       "    x.observe(notebookContainer, {childList: true});\n",
       "}}\n",
       "\n",
       "// Listen for the clearing of the current output cell\n",
       "var outputEl = gd.closest('.output');\n",
       "if (outputEl) {{\n",
       "    x.observe(outputEl, {childList: true});\n",
       "}}\n",
       "\n",
       "                        })                };                });            </script>        </div>"
      ]
     },
     "metadata": {},
     "output_type": "display_data"
    }
   ],
   "source": [
    "# plot max temp. vs month\n",
    "\n",
    "max_temp_fig = px.line(weather, x='Month', y='Tmax')\n",
    "max_temp_fig.show()\n",
    "\n",
    "\n",
    "# you can compare this to the following line of code, which uses the more standard matplotlib library to plot the same data\n",
    "\n",
    "# weather.plot.line(y=’Tmax’, x=’Month’)"
   ]
  },
  {
   "cell_type": "markdown",
   "id": "07749c97",
   "metadata": {},
   "source": [
    "We can plot multiple lines on the same graph and edit the layout to make it look more sophisticated. We can also update the dataframe with the average temperature and show that on the graph too."
   ]
  },
  {
   "cell_type": "code",
   "execution_count": 7,
   "id": "5a168d51",
   "metadata": {},
   "outputs": [
    {
      ],
      "text/plain": [
       "   Year  Month  Tmax  Tmin  Rain    Sun   Tmed\n",
       "0  2018      1   9.7   3.8  58.0   46.5   6.75\n",
       "1  2018      2   6.7   0.6  29.0   92.0   3.65\n",
       "2  2018      3   9.8   3.0  81.2   70.3   6.40\n",
       "3  2018      4  15.5   7.9  65.2  113.4  11.70\n",
       "4  2018      5  20.8   9.8  58.4  248.3  15.30"
      ]
     },
     "execution_count": 7,
     "metadata": {},
     "output_type": "execute_result"
    }
   ],
   "source": [
    "# calculate ave. temp. and create a new column in the dataframe \n",
    "weather['Tmed'] = (weather['Tmax'] + weather['Tmin'])/2\n",
    "\n",
    "# inspect the first 5 rows\n",
    "weather.head()"
   ]
  },
  {
   "cell_type": "code",
   "execution_count": 8,
   "id": "c8ff6d32",
   "metadata": {},
   "outputs": [
    {
      ]
     },
     "metadata": {},
     "output_type": "display_data"
    }
   ],
   "source": [
    "# plot max and min temp. vs month\n",
    "min_temp = go.Scatter(x=weather['Month'], y=weather['Tmin'], name='Min Temp')\n",
    "med_temp = go.Scatter(x=weather['Month'], y=weather['Tmed'], name='Ave Temp')\n",
    "max_temp = go.Scatter(x=weather['Month'], y=weather['Tmax'], name='Max Temp')\n",
    "\n",
    "min_max_temp_fig = go.Figure()\n",
    "\n",
    "min_max_temp_fig.add_trace(min_temp)\n",
    "min_max_temp_fig.add_trace(med_temp)\n",
    "min_max_temp_fig.add_trace(max_temp)\n",
    "\n",
    "# edit the layout\n",
    "min_max_temp_fig.update_layout(title=\"Temperature Distribution\",\n",
    "                               xaxis_title='Month',\n",
    "                               yaxis_title='Temperature (Celsius)')\n",
    "\n",
    "min_max_temp_fig.show()\n"
   ]
  },
  {
   "cell_type": "markdown",
   "id": "8ea4b211",
   "metadata": {},
   "source": [
    "#### Bar Chart"
   ]
  },
  {
   "cell_type": "code",
   "execution_count": 9,
   "id": "1d33ba25",
   "metadata": {},
   "outputs": [
    {
      ]
     },
     "metadata": {},
     "output_type": "display_data"
    }
   ],
   "source": [
    "# lot rainfall vs month\n",
    "\n",
    "rainfall_fig = px.bar(weather, x='Month', y='Rain')\n",
    "rainfall_fig.update_layout(title=\"Rainfall Distribution\",\n",
    "                           xaxis_title=\"Month\",\n",
    "                           yaxis_title='Rain')\n",
    "rainfall_fig.show()\n",
    "\n",
    "# The following line of code achieves the same thing using Matplotlib\n",
    "\n",
    "# weather.plot.bar(y='Rain', x='Month')"
   ]
  },
  {
   "cell_type": "markdown",
   "id": "2ae08d9a",
   "metadata": {},
   "source": [
    "#### Histogram\n",
    "\n",
    "Histograms are useful for when you want to visualise the frequency distribution of the data."
   ]
  },
  {
   "cell_type": "code",
   "execution_count": 10,
   "id": "293dc65d",
   "metadata": {},
   "outputs": [
    {
     "data": {
      "application/vnd.plotly.v1+json": {
       "config": {
        "plotlyServerURL": "https://plot.ly"
       },
       "data": [
        {
         "alignmentgroup": "True",
         "bingroup": "x",
         "hovertemplate": "Rain=%{x}<br>count=%{y}<extra></extra>",
         "legendgroup": "",
         "marker": {
          "color": "#636efa",
          "pattern": {
           "shape": ""
          }
         },
         "name": "",
         "nbinsx": 10,
         "offsetgroup": "",
         "orientation": "v",
         "showlegend": false,
         "type": "histogram",
         "x": [
          58,
          29,
          81.2,
          65.2,
          58.4,
          0.4,
          14.8,
          48.2,
          29.4,
          61,
          73.8,
          60.6
         ],
         "xaxis": "x",
         "yaxis": "y"
        }
       ],
       "layout": {
        "autosize": true,
        "bargap": 0.1,
        "barmode": "relative",
        "legend": {
         "tracegroupgap": 0
        },
        "margin": {
         "t": 60
        },
        "template": {
         "data": {
          "bar": [
           {
            "error_x": {
             "color": "#2a3f5f"
            },
            "error_y": {
             "color": "#2a3f5f"
            },
            "marker": {
             "line": {
              "color": "#E5ECF6",
              "width": 0.5
             },
             "pattern": {
              "fillmode": "overlay",
              "size": 10,
              "solidity": 0.2
             }
            },
            "type": "bar"
           }
          ],
          "barpolar": [
           {
            "marker": {
             "line": {
              "color": "#E5ECF6",
              "width": 0.5
             },
             "pattern": {
              "fillmode": "overlay",
              "size": 10,
              "solidity": 0.2
             }
            },
            "type": "barpolar"
           }
          ],
          "carpet": [
           {
            "aaxis": {
             "endlinecolor": "#2a3f5f",
             "gridcolor": "white",
             "linecolor": "white",
             "minorgridcolor": "white",
             "startlinecolor": "#2a3f5f"
            },
            "baxis": {
             "endlinecolor": "#2a3f5f",
             "gridcolor": "white",
             "linecolor": "white",
             "minorgridcolor": "white",
             "startlinecolor": "#2a3f5f"
            },
            "type": "carpet"
           }
          ],
          "choropleth": [
           {
            "colorbar": {
             "outlinewidth": 0,
             "ticks": ""
            },
            "type": "choropleth"
           }
          ],
          "contour": [
           {
            "colorbar": {
             "outlinewidth": 0,
             "ticks": ""
            },
            "colorscale": [
             [
              0,
              "#0d0887"
             ],
             [
              0.1111111111111111,
              "#46039f"
             ],
             [
              0.2222222222222222,
              "#7201a8"
             ],
             [
              0.3333333333333333,
              "#9c179e"
             ],
             [
              0.4444444444444444,
              "#bd3786"
             ],
             [
              0.5555555555555556,
              "#d8576b"
             ],
             [
              0.6666666666666666,
              "#ed7953"
             ],
             [
              0.7777777777777778,
              "#fb9f3a"
             ],
             [
              0.8888888888888888,
              "#fdca26"
             ],
             [
              1,
              "#f0f921"
             ]
            ],
            "type": "contour"
           }
          ],
          "contourcarpet": [
           {
            "colorbar": {
             "outlinewidth": 0,
             "ticks": ""
            },
            "type": "contourcarpet"
           }
          ],
          "heatmap": [
           {
            "colorbar": {
             "outlinewidth": 0,
             "ticks": ""
            },
            "colorscale": [
             [
              0,
              "#0d0887"
             ],
             [
              0.1111111111111111,
              "#46039f"
             ],
             [
              0.2222222222222222,
              "#7201a8"
             ],
             [
              0.3333333333333333,
              "#9c179e"
             ],
             [
              0.4444444444444444,
              "#bd3786"
             ],
             [
              0.5555555555555556,
              "#d8576b"
             ],
             [
              0.6666666666666666,
              "#ed7953"
             ],
             [
              0.7777777777777778,
              "#fb9f3a"
             ],
             [
              0.8888888888888888,
              "#fdca26"
             ],
             [
              1,
              "#f0f921"
             ]
            ],
            "type": "heatmap"
           }
          ],
          "heatmapgl": [
           {
            "colorbar": {
             "outlinewidth": 0,
             "ticks": ""
            },
            "colorscale": [
             [
              0,
              "#0d0887"
             ],
             [
              0.1111111111111111,
              "#46039f"
             ],
             [
              0.2222222222222222,
              "#7201a8"
             ],
             [
              0.3333333333333333,
              "#9c179e"
             ],
             [
              0.4444444444444444,
              "#bd3786"
             ],
             [
              0.5555555555555556,
              "#d8576b"
             ],
             [
              0.6666666666666666,
              "#ed7953"
             ],
             [
              0.7777777777777778,
              "#fb9f3a"
             ],
             [
              0.8888888888888888,
              "#fdca26"
             ],
             [
              1,
              "#f0f921"
             ]
            ],
            "type": "heatmapgl"
           }
          ],
          "histogram": [
           {
            "marker": {
             "pattern": {
              "fillmode": "overlay",
              "size": 10,
              "solidity": 0.2
             }
            },
            "type": "histogram"
           }
          ],
          "histogram2d": [
           {
            "colorbar": {
             "outlinewidth": 0,
             "ticks": ""
            },
            "colorscale": [
             [
              0,
              "#0d0887"
             ],
             [
              0.1111111111111111,
              "#46039f"
             ],
             [
              0.2222222222222222,
              "#7201a8"
             ],
             [
              0.3333333333333333,
              "#9c179e"
             ],
             [
              0.4444444444444444,
              "#bd3786"
             ],
             [
              0.5555555555555556,
              "#d8576b"
             ],
             [
              0.6666666666666666,
              "#ed7953"
             ],
             [
              0.7777777777777778,
              "#fb9f3a"
             ],
             [
              0.8888888888888888,
              "#fdca26"
             ],
             [
              1,
              "#f0f921"
             ]
            ],
            "type": "histogram2d"
           }
          ],
          "histogram2dcontour": [
           {
            "colorbar": {
             "outlinewidth": 0,
             "ticks": ""
            },
            "colorscale": [
             [
              0,
              "#0d0887"
             ],
             [
              0.1111111111111111,
              "#46039f"
             ],
             [
              0.2222222222222222,
              "#7201a8"
             ],
             [
              0.3333333333333333,
              "#9c179e"
             ],
             [
              0.4444444444444444,
              "#bd3786"
             ],
             [
              0.5555555555555556,
              "#d8576b"
             ],
             [
              0.6666666666666666,
              "#ed7953"
             ],
             [
              0.7777777777777778,
              "#fb9f3a"
             ],
             [
              0.8888888888888888,
              "#fdca26"
             ],
             [
              1,
              "#f0f921"
             ]
            ],
            "type": "histogram2dcontour"
           }
          ],
          "mesh3d": [
           {
            "colorbar": {
             "outlinewidth": 0,
             "ticks": ""
            },
            "type": "mesh3d"
           }
          ],
          "parcoords": [
           {
            "line": {
             "colorbar": {
              "outlinewidth": 0,
              "ticks": ""
             }
            },
            "type": "parcoords"
           }
          ],
          "pie": [
           {
            "automargin": true,
            "type": "pie"
           }
          ],
          "scatter": [
           {
            "marker": {
             "colorbar": {
              "outlinewidth": 0,
              "ticks": ""
             }
            },
            "type": "scatter"
           }
          ],
          "scatter3d": [
           {
            "line": {
             "colorbar": {
              "outlinewidth": 0,
              "ticks": ""
             }
            },
            "marker": {
             "colorbar": {
              "outlinewidth": 0,
              "ticks": ""
             }
            },
            "type": "scatter3d"
           }
          ],
          "scattercarpet": [
           {
            "marker": {
             "colorbar": {
              "outlinewidth": 0,
              "ticks": ""
             }
            },
            "type": "scattercarpet"
           }
          ],
          "scattergeo": [
           {
            "marker": {
             "colorbar": {
              "outlinewidth": 0,
              "ticks": ""
             }
            },
            "type": "scattergeo"
           }
          ],
          "scattergl": [
           {
            "marker": {
             "colorbar": {
              "outlinewidth": 0,
              "ticks": ""
             }
            },
            "type": "scattergl"
           }
          ],
          "scattermapbox": [
           {
            "marker": {
             "colorbar": {
              "outlinewidth": 0,
              "ticks": ""
             }
            },
            "type": "scattermapbox"
           }
          ],
          "scatterpolar": [
           {
            "marker": {
             "colorbar": {
              "outlinewidth": 0,
              "ticks": ""
             }
            },
            "type": "scatterpolar"
           }
          ],
          "scatterpolargl": [
           {
            "marker": {
             "colorbar": {
              "outlinewidth": 0,
              "ticks": ""
             }
            },
            "type": "scatterpolargl"
           }
          ],
          "scatterternary": [
           {
            "marker": {
             "colorbar": {
              "outlinewidth": 0,
              "ticks": ""
             }
            },
            "type": "scatterternary"
           }
          ],
          "surface": [
           {
            "colorbar": {
             "outlinewidth": 0,
             "ticks": ""
            },
            "colorscale": [
             [
              0,
              "#0d0887"
             ],
             [
              0.1111111111111111,
              "#46039f"
             ],
             [
              0.2222222222222222,
              "#7201a8"
             ],
             [
              0.3333333333333333,
              "#9c179e"
             ],
             [
              0.4444444444444444,
              "#bd3786"
             ],
             [
              0.5555555555555556,
              "#d8576b"
             ],
             [
              0.6666666666666666,
              "#ed7953"
             ],
             [
              0.7777777777777778,
              "#fb9f3a"
             ],
             [
              0.8888888888888888,
              "#fdca26"
             ],
             [
              1,
              "#f0f921"
             ]
            ],
            "type": "surface"
           }
          ],
          "table": [
           {
            "cells": {
             "fill": {
              "color": "#EBF0F8"
             },
             "line": {
              "color": "white"
             }
            },
            "header": {
             "fill": {
              "color": "#C8D4E3"
             },
             "line": {
              "color": "white"
             }
            },
            "type": "table"
           }
          ]
         },
         "layout": {
          "annotationdefaults": {
           "arrowcolor": "#2a3f5f",
           "arrowhead": 0,
           "arrowwidth": 1
          },
          "autotypenumbers": "strict",
          "coloraxis": {
           "colorbar": {
            "outlinewidth": 0,
            "ticks": ""
           }
          },
          "colorscale": {
           "diverging": [
            [
             0,
             "#8e0152"
            ],
            [
             0.1,
             "#c51b7d"
            ],
            [
             0.2,
             "#de77ae"
            ],
            [
             0.3,
             "#f1b6da"
            ],
            [
             0.4,
             "#fde0ef"
            ],
            [
             0.5,
             "#f7f7f7"
            ],
            [
             0.6,
             "#e6f5d0"
            ],
            [
             0.7,
             "#b8e186"
            ],
            [
             0.8,
             "#7fbc41"
            ],
            [
             0.9,
             "#4d9221"
            ],
            [
             1,
             "#276419"
            ]
           ],
           "sequential": [
            [
             0,
             "#0d0887"
            ],
            [
             0.1111111111111111,
             "#46039f"
            ],
            [
             0.2222222222222222,
             "#7201a8"
            ],
            [
             0.3333333333333333,
             "#9c179e"
            ],
            [
             0.4444444444444444,
             "#bd3786"
            ],
            [
             0.5555555555555556,
             "#d8576b"
            ],
            [
             0.6666666666666666,
             "#ed7953"
            ],
            [
             0.7777777777777778,
             "#fb9f3a"
            ],
            [
             0.8888888888888888,
             "#fdca26"
            ],
            [
             1,
             "#f0f921"
            ]
           ],
           "sequentialminus": [
            [
             0,
             "#0d0887"
            ],
            [
             0.1111111111111111,
             "#46039f"
            ],
            [
             0.2222222222222222,
             "#7201a8"
            ],
            [
             0.3333333333333333,
             "#9c179e"
            ],
            [
             0.4444444444444444,
             "#bd3786"
            ],
            [
             0.5555555555555556,
             "#d8576b"
            ],
            [
             0.6666666666666666,
             "#ed7953"
            ],
            [
             0.7777777777777778,
             "#fb9f3a"
            ],
            [
             0.8888888888888888,
             "#fdca26"
            ],
            [
             1,
             "#f0f921"
            ]
           ]
          },
          "colorway": [
           "#636efa",
           "#EF553B",
           "#00cc96",
           "#ab63fa",
           "#FFA15A",
           "#19d3f3",
           "#FF6692",
           "#B6E880",
           "#FF97FF",
           "#FECB52"
          ],
          "font": {
           "color": "#2a3f5f"
          },
          "geo": {
           "bgcolor": "white",
           "lakecolor": "white",
           "landcolor": "#E5ECF6",
           "showlakes": true,
           "showland": true,
           "subunitcolor": "white"
          },
          "hoverlabel": {
           "align": "left"
          },
          "hovermode": "closest",
          "mapbox": {
           "style": "light"
          },
          "paper_bgcolor": "white",
          "plot_bgcolor": "#E5ECF6",
          "polar": {
           "angularaxis": {
            "gridcolor": "white",
            "linecolor": "white",
            "ticks": ""
           },
           "bgcolor": "#E5ECF6",
           "radialaxis": {
            "gridcolor": "white",
            "linecolor": "white",
            "ticks": ""
           }
          },
          "scene": {
           "xaxis": {
            "backgroundcolor": "#E5ECF6",
            "gridcolor": "white",
            "gridwidth": 2,
            "linecolor": "white",
            "showbackground": true,
            "ticks": "",
            "zerolinecolor": "white"
           },
           "yaxis": {
            "backgroundcolor": "#E5ECF6",
            "gridcolor": "white",
            "gridwidth": 2,
            "linecolor": "white",
            "showbackground": true,
            "ticks": "",
            "zerolinecolor": "white"
           },
           "zaxis": {
            "backgroundcolor": "#E5ECF6",
            "gridcolor": "white",
            "gridwidth": 2,
            "linecolor": "white",
            "showbackground": true,
            "ticks": "",
            "zerolinecolor": "white"
           }
          },
          "shapedefaults": {
           "line": {
            "color": "#2a3f5f"
           }
          },
          "ternary": {
           "aaxis": {
            "gridcolor": "white",
            "linecolor": "white",
            "ticks": ""
           },
           "baxis": {
            "gridcolor": "white",
            "linecolor": "white",
            "ticks": ""
           },
           "bgcolor": "#E5ECF6",
           "caxis": {
            "gridcolor": "white",
            "linecolor": "white",
            "ticks": ""
           }
          },
          "title": {
           "x": 0.05
          },
          "xaxis": {
           "automargin": true,
           "gridcolor": "white",
           "linecolor": "white",
           "ticks": "",
           "title": {
            "standoff": 15
           },
           "zerolinecolor": "white",
           "zerolinewidth": 2
          },
          "yaxis": {
           "automargin": true,
           "gridcolor": "white",
           "linecolor": "white",
           "ticks": "",
           "title": {
            "standoff": 15
           },
           "zerolinecolor": "white",
           "zerolinewidth": 2
          }
         }
        },
        "title": {
         "text": "Frequency of Rainfall Amount"
        },
        "xaxis": {
         "anchor": "y",
         "autorange": true,
         "domain": [
          0,
          1
         ],
         "range": [
          0,
          90
         ],
         "title": {
          "text": "Rain"
         },
         "type": "linear"
        },
        "yaxis": {
         "anchor": "x",
         "autorange": true,
         "domain": [
          0,
          1
         ],
         "range": [
          0,
          3.1578947368421053
         ],
         "title": {
          "text": "count"
         }
        }
       }
      },
      "image/png": "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",
      "text/html": [
       "<div>                            <div id=\"18764d24-ba5a-4594-a8e3-d38ea84ea2ca\" class=\"plotly-graph-div\" style=\"height:525px; width:100%;\"></div>            <script type=\"text/javascript\">                require([\"plotly\"], function(Plotly) {                    window.PLOTLYENV=window.PLOTLYENV || {};                                    if (document.getElementById(\"18764d24-ba5a-4594-a8e3-d38ea84ea2ca\")) {                    Plotly.newPlot(                        \"18764d24-ba5a-4594-a8e3-d38ea84ea2ca\",                        [{\"alignmentgroup\":\"True\",\"bingroup\":\"x\",\"hovertemplate\":\"Rain=%{x}<br>count=%{y}<extra></extra>\",\"legendgroup\":\"\",\"marker\":{\"color\":\"#636efa\",\"pattern\":{\"shape\":\"\"}},\"name\":\"\",\"nbinsx\":10,\"offsetgroup\":\"\",\"orientation\":\"v\",\"showlegend\":false,\"type\":\"histogram\",\"x\":[58.0,29.0,81.2,65.2,58.4,0.4,14.8,48.2,29.4,61.0,73.8,60.6],\"xaxis\":\"x\",\"yaxis\":\"y\"}],                        {\"bargap\":0.1,\"barmode\":\"relative\",\"legend\":{\"tracegroupgap\":0},\"margin\":{\"t\":60},\"template\":{\"data\":{\"bar\":[{\"error_x\":{\"color\":\"#2a3f5f\"},\"error_y\":{\"color\":\"#2a3f5f\"},\"marker\":{\"line\":{\"color\":\"#E5ECF6\",\"width\":0.5},\"pattern\":{\"fillmode\":\"overlay\",\"size\":10,\"solidity\":0.2}},\"type\":\"bar\"}],\"barpolar\":[{\"marker\":{\"line\":{\"color\":\"#E5ECF6\",\"width\":0.5},\"pattern\":{\"fillmode\":\"overlay\",\"size\":10,\"solidity\":0.2}},\"type\":\"barpolar\"}],\"carpet\":[{\"aaxis\":{\"endlinecolor\":\"#2a3f5f\",\"gridcolor\":\"white\",\"linecolor\":\"white\",\"minorgridcolor\":\"white\",\"startlinecolor\":\"#2a3f5f\"},\"baxis\":{\"endlinecolor\":\"#2a3f5f\",\"gridcolor\":\"white\",\"linecolor\":\"white\",\"minorgridcolor\":\"white\",\"startlinecolor\":\"#2a3f5f\"},\"type\":\"carpet\"}],\"choropleth\":[{\"colorbar\":{\"outlinewidth\":0,\"ticks\":\"\"},\"type\":\"choropleth\"}],\"contour\":[{\"colorbar\":{\"outlinewidth\":0,\"ticks\":\"\"},\"colorscale\":[[0.0,\"#0d0887\"],[0.1111111111111111,\"#46039f\"],[0.2222222222222222,\"#7201a8\"],[0.3333333333333333,\"#9c179e\"],[0.4444444444444444,\"#bd3786\"],[0.5555555555555556,\"#d8576b\"],[0.6666666666666666,\"#ed7953\"],[0.7777777777777778,\"#fb9f3a\"],[0.8888888888888888,\"#fdca26\"],[1.0,\"#f0f921\"]],\"type\":\"contour\"}],\"contourcarpet\":[{\"colorbar\":{\"outlinewidth\":0,\"ticks\":\"\"},\"type\":\"contourcarpet\"}],\"heatmap\":[{\"colorbar\":{\"outlinewidth\":0,\"ticks\":\"\"},\"colorscale\":[[0.0,\"#0d0887\"],[0.1111111111111111,\"#46039f\"],[0.2222222222222222,\"#7201a8\"],[0.3333333333333333,\"#9c179e\"],[0.4444444444444444,\"#bd3786\"],[0.5555555555555556,\"#d8576b\"],[0.6666666666666666,\"#ed7953\"],[0.7777777777777778,\"#fb9f3a\"],[0.8888888888888888,\"#fdca26\"],[1.0,\"#f0f921\"]],\"type\":\"heatmap\"}],\"heatmapgl\":[{\"colorbar\":{\"outlinewidth\":0,\"ticks\":\"\"},\"colorscale\":[[0.0,\"#0d0887\"],[0.1111111111111111,\"#46039f\"],[0.2222222222222222,\"#7201a8\"],[0.3333333333333333,\"#9c179e\"],[0.4444444444444444,\"#bd3786\"],[0.5555555555555556,\"#d8576b\"],[0.6666666666666666,\"#ed7953\"],[0.7777777777777778,\"#fb9f3a\"],[0.8888888888888888,\"#fdca26\"],[1.0,\"#f0f921\"]],\"type\":\"heatmapgl\"}],\"histogram\":[{\"marker\":{\"pattern\":{\"fillmode\":\"overlay\",\"size\":10,\"solidity\":0.2}},\"type\":\"histogram\"}],\"histogram2d\":[{\"colorbar\":{\"outlinewidth\":0,\"ticks\":\"\"},\"colorscale\":[[0.0,\"#0d0887\"],[0.1111111111111111,\"#46039f\"],[0.2222222222222222,\"#7201a8\"],[0.3333333333333333,\"#9c179e\"],[0.4444444444444444,\"#bd3786\"],[0.5555555555555556,\"#d8576b\"],[0.6666666666666666,\"#ed7953\"],[0.7777777777777778,\"#fb9f3a\"],[0.8888888888888888,\"#fdca26\"],[1.0,\"#f0f921\"]],\"type\":\"histogram2d\"}],\"histogram2dcontour\":[{\"colorbar\":{\"outlinewidth\":0,\"ticks\":\"\"},\"colorscale\":[[0.0,\"#0d0887\"],[0.1111111111111111,\"#46039f\"],[0.2222222222222222,\"#7201a8\"],[0.3333333333333333,\"#9c179e\"],[0.4444444444444444,\"#bd3786\"],[0.5555555555555556,\"#d8576b\"],[0.6666666666666666,\"#ed7953\"],[0.7777777777777778,\"#fb9f3a\"],[0.8888888888888888,\"#fdca26\"],[1.0,\"#f0f921\"]],\"type\":\"histogram2dcontour\"}],\"mesh3d\":[{\"colorbar\":{\"outlinewidth\":0,\"ticks\":\"\"},\"type\":\"mesh3d\"}],\"parcoords\":[{\"line\":{\"colorbar\":{\"outlinewidth\":0,\"ticks\":\"\"}},\"type\":\"parcoords\"}],\"pie\":[{\"automargin\":true,\"type\":\"pie\"}],\"scatter\":[{\"marker\":{\"colorbar\":{\"outlinewidth\":0,\"ticks\":\"\"}},\"type\":\"scatter\"}],\"scatter3d\":[{\"line\":{\"colorbar\":{\"outlinewidth\":0,\"ticks\":\"\"}},\"marker\":{\"colorbar\":{\"outlinewidth\":0,\"ticks\":\"\"}},\"type\":\"scatter3d\"}],\"scattercarpet\":[{\"marker\":{\"colorbar\":{\"outlinewidth\":0,\"ticks\":\"\"}},\"type\":\"scattercarpet\"}],\"scattergeo\":[{\"marker\":{\"colorbar\":{\"outlinewidth\":0,\"ticks\":\"\"}},\"type\":\"scattergeo\"}],\"scattergl\":[{\"marker\":{\"colorbar\":{\"outlinewidth\":0,\"ticks\":\"\"}},\"type\":\"scattergl\"}],\"scattermapbox\":[{\"marker\":{\"colorbar\":{\"outlinewidth\":0,\"ticks\":\"\"}},\"type\":\"scattermapbox\"}],\"scatterpolar\":[{\"marker\":{\"colorbar\":{\"outlinewidth\":0,\"ticks\":\"\"}},\"type\":\"scatterpolar\"}],\"scatterpolargl\":[{\"marker\":{\"colorbar\":{\"outlinewidth\":0,\"ticks\":\"\"}},\"type\":\"scatterpolargl\"}],\"scatterternary\":[{\"marker\":{\"colorbar\":{\"outlinewidth\":0,\"ticks\":\"\"}},\"type\":\"scatterternary\"}],\"surface\":[{\"colorbar\":{\"outlinewidth\":0,\"ticks\":\"\"},\"colorscale\":[[0.0,\"#0d0887\"],[0.1111111111111111,\"#46039f\"],[0.2222222222222222,\"#7201a8\"],[0.3333333333333333,\"#9c179e\"],[0.4444444444444444,\"#bd3786\"],[0.5555555555555556,\"#d8576b\"],[0.6666666666666666,\"#ed7953\"],[0.7777777777777778,\"#fb9f3a\"],[0.8888888888888888,\"#fdca26\"],[1.0,\"#f0f921\"]],\"type\":\"surface\"}],\"table\":[{\"cells\":{\"fill\":{\"color\":\"#EBF0F8\"},\"line\":{\"color\":\"white\"}},\"header\":{\"fill\":{\"color\":\"#C8D4E3\"},\"line\":{\"color\":\"white\"}},\"type\":\"table\"}]},\"layout\":{\"annotationdefaults\":{\"arrowcolor\":\"#2a3f5f\",\"arrowhead\":0,\"arrowwidth\":1},\"autotypenumbers\":\"strict\",\"coloraxis\":{\"colorbar\":{\"outlinewidth\":0,\"ticks\":\"\"}},\"colorscale\":{\"diverging\":[[0,\"#8e0152\"],[0.1,\"#c51b7d\"],[0.2,\"#de77ae\"],[0.3,\"#f1b6da\"],[0.4,\"#fde0ef\"],[0.5,\"#f7f7f7\"],[0.6,\"#e6f5d0\"],[0.7,\"#b8e186\"],[0.8,\"#7fbc41\"],[0.9,\"#4d9221\"],[1,\"#276419\"]],\"sequential\":[[0.0,\"#0d0887\"],[0.1111111111111111,\"#46039f\"],[0.2222222222222222,\"#7201a8\"],[0.3333333333333333,\"#9c179e\"],[0.4444444444444444,\"#bd3786\"],[0.5555555555555556,\"#d8576b\"],[0.6666666666666666,\"#ed7953\"],[0.7777777777777778,\"#fb9f3a\"],[0.8888888888888888,\"#fdca26\"],[1.0,\"#f0f921\"]],\"sequentialminus\":[[0.0,\"#0d0887\"],[0.1111111111111111,\"#46039f\"],[0.2222222222222222,\"#7201a8\"],[0.3333333333333333,\"#9c179e\"],[0.4444444444444444,\"#bd3786\"],[0.5555555555555556,\"#d8576b\"],[0.6666666666666666,\"#ed7953\"],[0.7777777777777778,\"#fb9f3a\"],[0.8888888888888888,\"#fdca26\"],[1.0,\"#f0f921\"]]},\"colorway\":[\"#636efa\",\"#EF553B\",\"#00cc96\",\"#ab63fa\",\"#FFA15A\",\"#19d3f3\",\"#FF6692\",\"#B6E880\",\"#FF97FF\",\"#FECB52\"],\"font\":{\"color\":\"#2a3f5f\"},\"geo\":{\"bgcolor\":\"white\",\"lakecolor\":\"white\",\"landcolor\":\"#E5ECF6\",\"showlakes\":true,\"showland\":true,\"subunitcolor\":\"white\"},\"hoverlabel\":{\"align\":\"left\"},\"hovermode\":\"closest\",\"mapbox\":{\"style\":\"light\"},\"paper_bgcolor\":\"white\",\"plot_bgcolor\":\"#E5ECF6\",\"polar\":{\"angularaxis\":{\"gridcolor\":\"white\",\"linecolor\":\"white\",\"ticks\":\"\"},\"bgcolor\":\"#E5ECF6\",\"radialaxis\":{\"gridcolor\":\"white\",\"linecolor\":\"white\",\"ticks\":\"\"}},\"scene\":{\"xaxis\":{\"backgroundcolor\":\"#E5ECF6\",\"gridcolor\":\"white\",\"gridwidth\":2,\"linecolor\":\"white\",\"showbackground\":true,\"ticks\":\"\",\"zerolinecolor\":\"white\"},\"yaxis\":{\"backgroundcolor\":\"#E5ECF6\",\"gridcolor\":\"white\",\"gridwidth\":2,\"linecolor\":\"white\",\"showbackground\":true,\"ticks\":\"\",\"zerolinecolor\":\"white\"},\"zaxis\":{\"backgroundcolor\":\"#E5ECF6\",\"gridcolor\":\"white\",\"gridwidth\":2,\"linecolor\":\"white\",\"showbackground\":true,\"ticks\":\"\",\"zerolinecolor\":\"white\"}},\"shapedefaults\":{\"line\":{\"color\":\"#2a3f5f\"}},\"ternary\":{\"aaxis\":{\"gridcolor\":\"white\",\"linecolor\":\"white\",\"ticks\":\"\"},\"baxis\":{\"gridcolor\":\"white\",\"linecolor\":\"white\",\"ticks\":\"\"},\"bgcolor\":\"#E5ECF6\",\"caxis\":{\"gridcolor\":\"white\",\"linecolor\":\"white\",\"ticks\":\"\"}},\"title\":{\"x\":0.05},\"xaxis\":{\"automargin\":true,\"gridcolor\":\"white\",\"linecolor\":\"white\",\"ticks\":\"\",\"title\":{\"standoff\":15},\"zerolinecolor\":\"white\",\"zerolinewidth\":2},\"yaxis\":{\"automargin\":true,\"gridcolor\":\"white\",\"linecolor\":\"white\",\"ticks\":\"\",\"title\":{\"standoff\":15},\"zerolinecolor\":\"white\",\"zerolinewidth\":2}}},\"title\":{\"text\":\"Frequency of Rainfall Amount\"},\"xaxis\":{\"anchor\":\"y\",\"domain\":[0.0,1.0],\"title\":{\"text\":\"Rain\"}},\"yaxis\":{\"anchor\":\"x\",\"domain\":[0.0,1.0],\"title\":{\"text\":\"count\"}}},                        {\"responsive\": true}                    ).then(function(){\n",
       "                            \n",
       "var gd = document.getElementById('18764d24-ba5a-4594-a8e3-d38ea84ea2ca');\n",
       "var x = new MutationObserver(function (mutations, observer) {{\n",
       "        var display = window.getComputedStyle(gd).display;\n",
       "        if (!display || display === 'none') {{\n",
       "            console.log([gd, 'removed!']);\n",
       "            Plotly.purge(gd);\n",
       "            observer.disconnect();\n",
       "        }}\n",
       "}});\n",
       "\n",
       "// Listen for the removal of the full notebook cells\n",
       "var notebookContainer = gd.closest('#notebook-container');\n",
       "if (notebookContainer) {{\n",
       "    x.observe(notebookContainer, {childList: true});\n",
       "}}\n",
       "\n",
       "// Listen for the clearing of the current output cell\n",
       "var outputEl = gd.closest('.output');\n",
       "if (outputEl) {{\n",
       "    x.observe(outputEl, {childList: true});\n",
       "}}\n",
       "\n",
       "                        })                };                });            </script>        </div>"
      ]
     },
     "metadata": {},
     "output_type": "display_data"
    }
   ],
   "source": [
    "rainfall_hist = px.histogram(weather, x='Rain', nbins=10) # you can specify the number of bins\n",
    "rainfall_hist.update_layout(title=\"Frequency of Rainfall Amount\",\n",
    "                            bargap=0.1) # you can specify a gap between bars\n",
    "rainfall_hist.show()"
   ]
  },
  {
   "cell_type": "markdown",
   "id": "71f381e9",
   "metadata": {},
   "source": [
    "#### Multiple Charts\n",
    "\n",
    "You can also create separate charts for each column of data. The following example shows separate line graphs of the four columns."
   ]
  },
  {
   "cell_type": "code",
   "execution_count": 11,
   "id": "536a2178",
   "metadata": {},
   "outputs": [
      ]
     },
     "metadata": {},
     "output_type": "display_data"
    }
   ],
   "source": [
    "# multiple line charts \n",
    "rain = go.Scatter(x=weather['Month'], y=weather['Rain'], name=\"Rain\")\n",
    "sun = go.Scatter(x=weather['Month'], y=weather['Sun'], name=\"Sun\")\n",
    "\n",
    "subplots_fig = make_subplots(rows=2, cols=2,\n",
    "                             subplot_titles=(\"Min Temp\", \"Max Temp\", \"Rain\", \"Sun\"))\n",
    "\n",
    "# use min_temp and max_temp plots from before\n",
    "subplots_fig.add_trace(min_temp, row=1, col=1)\n",
    "subplots_fig.add_trace(max_temp, row=2, col=1)\n",
    "subplots_fig.add_trace(rain, row=1, col=2)\n",
    "subplots_fig.add_trace(sun, row=2, col=2)\n",
    "\n",
    "subplots_fig.update_layout(height=600, width=800, title_text=\"Subplots Demo\")\n",
    "\n",
    "subplots_fig.show()\n"
   ]
  },
  {
   "cell_type": "markdown",
   "id": "eddb9da5",
   "metadata": {},
   "source": [
    "## Introducing Jupyter Dash\n",
    "\n",
    "Dash is Plotly's open source Python framework for building full stack analytic web applications using pure Python. The JupyterDash library makes these features available from the jupyter notebook."
   ]
  },
  {
   "cell_type": "code",
   "execution_count": 12,
   "id": "7f830387",
   "metadata": {},
   "outputs": [],
   "source": [
    "### Run ngrok to tunnel Dash app port 8050 to the outside world. \n",
    "### This command runs in the background.\n",
    "get_ipython().system_raw('./ngrok http 8050 &')"
   ]
  },
  {
   "cell_type": "code",
   "execution_count": 13,
   "id": "63687a85",
   "metadata": {},
   "outputs": [],
   "source": [
    "# get ID of the most recent \n",
    "last_text_id = list(data.keys())[0]\n",
    "\n",
    "app = JupyterDash(__name__)\n",
    "\n",
    "app.layout = html.Div([\n",
    "    html.H1(\"JupyterDash Demo\"),\n",
    "    \n",
    "    \n",
    "    # THESE LINES DISPLAY THE OUTPUT OF NLP API\n",
    "    html.P(\"Most Recent Text ID: {}\".format(last_text_id)),\n",
    "    html.P(\"Text Analysed: {}\".format(data[last_text_id][\"text\"])),\n",
    "    html.P(\"Sentiment: {}\".format(data[last_text_id][\"sentiment\"])),\n",
    "  \n",
    "    # THESE LINES DEMO ONE OF THE DASH CORE COMPONENT(dcc) i.e. dcc.Input\n",
    "    html.H3(\"Change the value in the text box to see callbacks in action!\"),\n",
    "    html.Div([\n",
    "        \"Input: \",\n",
    "        dcc.Input(id='my-input', value='initial value', type='text')\n",
    "    ]),\n",
    "    html.Br(),\n",
    "    html.Div(id='my-output'),\n",
    "    \n",
    "    # THESE LINES DEMO THE INTEGRATION OF PLOTLY GRAPHS WITH DASH\n",
    "    dcc.Graph(figure=subplots_fig),\n",
    "\n",
    "])\n",
    "\n",
    "\n",
    "@app.callback(\n",
    "    Output(component_id='my-output', component_property='children'),\n",
    "    Input(component_id='my-input', component_property='value')\n",
    ")\n",
    "def update_output_div(input_value):\n",
    "    return 'Output: {}'.format(input_value)\n"
   ]
  },
  {
   "cell_type": "code",
   "execution_count": 14,
   "id": "928b561b",
   "metadata": {},
   "outputs": [
    {
     "name": "stdout",
     "output_type": "stream",
     "text": [
      "Dash app running on http://127.0.0.1:8050/\n"
     ]
    }
   ],
   "source": [
    "app.run_server(mode=\"external\", port=8050)"
   ]
  },
  {
   "cell_type": "markdown",
   "id": "40b36aff",
   "metadata": {},
   "source": [
    "#### In case the below cell has errors, please rerun it"
   ]
  },
  {
   "cell_type": "code",
   "execution_count": 16,
   "id": "ddc38fcd",
   "metadata": {},
   "outputs": [
    {
     "name": "stdout",
     "output_type": "stream",
     "text": [
      "https://e3d1-34-127-100-104.ngrok.io\n"
     ]
    }
   ],
   "source": [
    "### Get the public URL where you can access the Dash app. Copy this URL.\n",
    "! curl -s http://localhost:4040/api/tunnels | python3 -c \\\n",
    "    \"import sys, json; print(json.load(sys.stdin)['tunnels'][0]['public_url'])\""
   ]
  },
  {
   "cell_type": "code",
   "execution_count": null,
   "id": "7f45f323",
   "metadata": {},
   "outputs": [],
   "source": []
  }
 ],
 "metadata": {
  "environment": {
   "name": "common-cpu.m79",
   "type": "gcloud",
   "uri": "gcr.io/deeplearning-platform-release/base-cpu:m79"
  },
  "kernelspec": {
   "display_name": "Python 3",
   "language": "python",
   "name": "python3"
  },
  "language_info": {
   "codemirror_mode": {
    "name": "ipython",
    "version": 3
   },
   "file_extension": ".py",
   "mimetype": "text/x-python",
   "name": "python",
   "nbconvert_exporter": "python",
   "pygments_lexer": "ipython3",
   "version": "3.7.10"
  }
 },
 "nbformat": 4,
 "nbformat_minor": 5
}
