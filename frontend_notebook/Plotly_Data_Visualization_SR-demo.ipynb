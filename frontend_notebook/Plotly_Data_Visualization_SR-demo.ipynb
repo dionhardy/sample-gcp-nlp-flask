{
 "cells": [
  {
   "cell_type": "markdown",
   "id": "62b7257d",
   "metadata": {},
   "source": [
    "# Data Visualization with Plotly Demo\n",
    "\n",
    "## Introduction to Jupyter Notebook\n",
    "Jupyter Notebooks are a staple in any data scientist's toolkit. It is a free, open source, interactive data science environment that can function as both an IDE and a visualisation tool. A Jupyter Notebook is a single document where you can run code, display the output and add equations and explainations. Each notebook is a `.ipynb` file, which is a text file that describes the content of the notebook in JSON format.\n",
    "\n",
    "Each Jupter Notebook contains a kernal that can be thought of as a \"computational engine\" that executes the code within the notebook. Notebooks are made up of a number of cells. For example, this piece of text you are reading resides in the first cell of this notebook. They can be markdown cells that display text in-place or code cells. When a code cell is run, the output is displayed below the cell. The order in which cells are run matters! Cells containing functions or variables have to be run before those same functions or variables can be called from a subsequent cell. \n",
    "\n",
    "How to use a Jupyter Notebook:\n",
    "- To run a cell, either click the arrow to the left of the cell or press `ctrl + Enter` after selecting the cell. When a cell is run, a number will appear in square brackets (e.g. [1]) telling you the order in which each cell is run.\n",
    "- To interrupt a cell while it is running, press the button with the black square in the toolbar at the top\n",
    "- To restart the kernal, right-click `kernel` and choose from the list of restart options available\n",
    "\n",
    "\n",
    "## Introduction to Plotly\n",
    "\n",
    "Pandas is an open source library providing data structure and data analysis tools for the Python language. Plotly is another open source that allows you to put together high quality graphs to faciliate the visualisation of the data. Plotly Dash (written on top of Plotly.js and React.js) allows one to quickly build data apps that are rendered in the browser. \n",
    "\n",
    "This notebook contains examples of how each of these libraries can be leveraged to analyse and visualise data. For more information, please check out the official documentation listed below.\n",
    "\n",
    "#### Further Documentation\n",
    "https://pandas.pydata.org/docs/ \\\n",
    "https://plot.ly/python/ \\\n",
    "https://dash.plotly.com/introduction "
   ]
  },
  {
   "cell_type": "markdown",
   "id": "e3e9b749",
   "metadata": {},
   "source": [
    "## Setting Up\n",
    "\n",
    "You can install the libraries using pip or conda. \n",
    "\n",
    "**N.B.** you may have to restart the kernel after installing these packages for your first run."
   ]
  },
  {
   "cell_type": "code",
   "execution_count": 1,
   "id": "a6ccdd82",
   "metadata": {},
   "outputs": [],
   "source": [
    "#!/bin/env python\n",
    "\n",
    "# install packages\n",
    "# !pip3 install --user pandas\n",
    "# !pip3 install --user numpy\n",
    "# !pip3 install --user matplotlib\n",
    "# !pip3 install --user plotly\n",
    "# !pip3 install --user jupyter-dash"
   ]
  },
  {
   "cell_type": "markdown",
   "id": "575d5f13",
   "metadata": {},
   "source": [
    "Having installed the libraries, you can import them as follows."
   ]
  },
  {
   "cell_type": "code",
   "execution_count": 2,
   "id": "16a4f920",
   "metadata": {},
   "outputs": [],
   "source": [
    "# import libraries\n",
    "%matplotlib inline\n",
    "\n",
    "#!pip3 install --user plotly\n",
    "import plotly\n",
    "import requests\n",
    "import json\n",
    "import os\n",
    "import pandas as pd\n",
    "import numpy as np\n",
    "import matplotlib.pyplot as plt\n",
    "from plotly import express as px\n",
    "import plotly.graph_objects as go\n",
    "from plotly.subplots import make_subplots\n",
    "from jupyter_dash import JupyterDash\n",
    "from dash import dcc\n",
    "from dash import html\n",
    "from dash.dependencies import Input, Output, State\n",
    "#pip install plotnine\n",
    "from plotnine import ggplot, aes, geom_line,geom_bar, theme, element_text, ggtitle, geom_text, after_stat\n",
    "\n",
    "# Set display row/column to show all data\n",
    "pd.set_option('display.max_rows', None)\n",
    "pd.set_option('display.max_columns', None)"
   ]
  },
  {
   "cell_type": "markdown",
   "id": "2c8adbeb",
   "metadata": {},
   "source": [
    "## Access Data From Endpoint\n",
    "\n",
    "#### Further Documentation\n",
    "https://docs.python-requests.org/en/master/\n",
    "\n",
    "**N.B.** the url used in this example is from the demo project we have set up. Please replace it with your own url."
   ]
  },
  {
   "cell_type": "code",
   "execution_count": 3,
   "id": "a5eeb964-aad4-4b7d-ac45-338937ad4a8f",
   "metadata": {},
   "outputs": [],
   "source": [
    "# url = 'https://dbgee-mar22-12.ew.r.appspot.com/api/text'\n",
    "url = 'https://dbgee-mar22-12.ew.r.appspot.com/api/analyze'\n",
    "\n",
    "article3 = []  \n",
    "with open(\"articles/article3.txt\", \"r\") as file:\n",
    "    article3=file.read().splitlines() # splitlines method splits lines into list without new line\n",
    "while(\"\" in article3) :\n",
    "    article3.remove(\"\") # remove empty strings from list of strings 'article2'\n",
    "\n",
    "art3_post = []\n",
    "\n",
    "for i in range(len(article3)):\n",
    "    myobj = {'text': article3[i]}\n",
    "    x = requests.post(url,  data = myobj)\n",
    "    art3_post.append(x.json())"
   ]
  },
  {
   "cell_type": "code",
   "execution_count": 4,
   "id": "ca348717-df48-4f75-8112-bf4e33d83b4c",
   "metadata": {},
   "outputs": [
    {
      ]
     },
     "execution_count": 4,
     "metadata": {},
     "output_type": "execute_result"
    }
   ],
   "source": [
    "art3_post[10]"
   ]
  },
  {
   "cell_type": "markdown",
   "id": "7e371a74-b9f9-461e-b96b-fb591b1322cf",
   "metadata": {},
   "source": [
    "## Data Preparation\n",
    "\n",
    "Prepare the data from the API call, getting it in the right shape for Visualization"
   ]
  },
  {
   "cell_type": "code",
   "execution_count": 5,
   "id": "04d8dae9-620f-4f08-b00e-16f51e4671d0",
   "metadata": {},
   "outputs": [],
   "source": [
    "## Entity & ESG Preparation ##\n",
    "entity_name=[]\n",
    "entity_type = []\n",
    "entity_score = []\n",
    "entity_sentim = []\n",
    "\n",
    "entity_lst = []\n",
    "entity_esg = []\n",
    "    \n",
    "# extracting entity and ESG from results:    \n",
    "for result in art3_post:\n",
    "    for key in result.keys():\n",
    "        entity_lst.append(result.get(key).get('entities'))\n",
    "        entity_esg.append(result.get(key).get('entities_esg'))\n",
    "    \n",
    "# reduce to 1 a list of lists, flattening :\n",
    "entity_lst_flat = [item for sublist in entity_lst for item in sublist]\n",
    "entity_esg_flat = [item for sublist in entity_esg for item in sublist]"
   ]
  },
  {
   "cell_type": "code",
   "execution_count": 6,
   "id": "9ae916c2-e700-4795-9664-b848f24510f4",
   "metadata": {},
   "outputs": [
    {
     "data": {
      "text/plain": [
       "[{'name': 'oversight',\n",
       "  'entitytype': 'OTHER',\n",
       "  'score': 0.10000000149011612,\n",
       "  'sentiment': 'positive'},\n",
       " {'name': 'Data',\n",
       "  'entitytype': 'OTHER',\n",
       "  'score': 0.20000000298023224,\n",
       "  'sentiment': 'positive'},\n",
       " {'name': 'Data',\n",
       "  'entitytype': 'OTHER',\n",
       "  'score': 0.10000000149011612,\n",
       "  'sentiment': 'positive'},\n",
       " {'name': 'environment',\n",
       "  'entitytype': 'OTHER',\n",
       "  'score': 0.0,\n",
       "  'sentiment': 'neutral'}]"
      ]
     },
     "execution_count": 6,
     "metadata": {},
     "output_type": "execute_result"
    }
   ],
   "source": [
    "entity_esg_flat"
   ]
  },
  {
   "cell_type": "code",
   "execution_count": 7,
   "id": "d059890f-4fca-4b00-bdaa-822af273820b",
   "metadata": {},
   "outputs": [
    {
     "data": {
      "text/plain": [
       "{'name': 'Deutsche Bank Partners',\n",
       " 'entitytype': 'ORGANIZATION',\n",
       " 'score': 0.10000000149011612,\n",
       " 'sentiment': 'positive'}"
      ]
     },
     "execution_count": 7,
     "metadata": {},
     "output_type": "execute_result"
    }
   ],
   "source": [
    "entity_lst_flat[0]"
   ]
  },
  {
   "cell_type": "code",
   "execution_count": 8,
   "id": "4a9181a2-beb5-4204-a021-f710859fafa9",
   "metadata": {},
   "outputs": [],
   "source": [
    "#len(entity_lst_flat)\n",
    "for i in range(0,len(entity_lst_flat)):\n",
    "    entity_name.append([i[\"name\"] for i in entity_lst_flat])\n",
    "    entity_type.append([i[\"entitytype\"] for i in entity_lst_flat])\n",
    "    entity_score.append([i[\"score\"] for i in entity_lst_flat])\n",
    "    entity_sentim.append([i[\"sentiment\"] for i in entity_lst_flat])"
   ]
  },
  {
   "cell_type": "code",
   "execution_count": 9,
   "id": "3d8a4fb0-1d46-4d9e-aef2-ab0babe60035",
   "metadata": {},
   "outputs": [],
   "source": [
    "# entities that have a ESG match, unique list\n",
    "entity_esg = [i[\"name\"] for i in entity_esg_flat]\n",
    "# list to dataframe\n",
    "entity_esg = pd.DataFrame(list(zip(entity_esg)),  columns = [\"entity\"])\n",
    "# drop duplicates for unique list:\n",
    "entity_esg = entity_esg.drop_duplicates()"
   ]
  },
  {
   "cell_type": "code",
   "execution_count": 10,
   "id": "ea735064-bcda-479d-b2c4-cc545924f67b",
   "metadata": {},
   "outputs": [],
   "source": [
    "# reduce to 1 a list of lists, flattening :\n",
    "entity_name = [item for sublist in entity_name for item in sublist]\n",
    "entity_type = [item for sublist in entity_type for item in sublist]\n",
    "entity_score = [item for sublist in entity_score for item in sublist]\n",
    "entity_sentim = [item for sublist in entity_sentim for item in sublist]"
   ]
  },
  {
   "cell_type": "code",
   "execution_count": 11,
   "id": "61a73c1e-c6da-4c32-a2e3-050c2b355040",
   "metadata": {},
   "outputs": [],
   "source": [
    "entity_df = pd.DataFrame(list(zip(entity_name, entity_type, entity_score,entity_sentim)),  columns = [\"entity\",\"type\",\"score\",\"sentiment\"])"
   ]
  },
  {
   "cell_type": "code",
   "execution_count": 12,
   "id": "2e431207-7f5e-4dab-a8ea-019bfc754252",
   "metadata": {},
   "outputs": [],
   "source": [
    "# number of duplicates for each entry, reducing df to unique df:\n",
    "entity_df_count = entity_df.groupby(entity_df.columns.tolist(),as_index=False).size()"
   ]
  },
  {
   "cell_type": "code",
   "execution_count": 13,
   "id": "23853d6a-93bb-4c04-a014-1c78f0c5fdff",
   "metadata": {},
   "outputs": [],
   "source": [
    "# sort values by score\n",
    "most_scored = entity_df_count.sort_values(by=['score'],  ascending=False)"
   ]
  },
  {
   "cell_type": "code",
   "execution_count": 14,
   "id": "f8dc7d6c-c92e-4fd5-aaea-4da642487fa7",
   "metadata": {},
   "outputs": [
      ],
      "text/plain": [
       "                          entity           type  score sentiment  size\n",
       "11                 Deutsche Bank   ORGANIZATION    0.4  positive   152\n",
       "90                   partnership          OTHER    0.3  positive   152\n",
       "58   data residency requirements          OTHER    0.2  positive   152\n",
       "37                          bank   ORGANIZATION    0.2  positive   152\n",
       "109                     services          OTHER    0.2  positive   152\n",
       "98                      products  CONSUMER_GOOD    0.2  positive   152\n",
       "115                      systems          OTHER    0.2  positive   152\n",
       "71                   flexibility          OTHER    0.2  positive   152\n",
       "33                  applications          OTHER    0.2  positive   152\n",
       "94                      platform          OTHER    0.2  positive   304\n",
       "16        Exadata Cloud@Customer         PERSON    0.2  positive   304\n",
       "104                      servers          OTHER    0.2  positive   152\n",
       "7                           Data          OTHER    0.2  positive   152\n",
       "56                 data insights          OTHER    0.2  positive   152\n",
       "41               business models  CONSUMER_GOOD    0.1  positive   152\n",
       "87                 organizations   ORGANIZATION    0.1  positive   152\n",
       "64                     databases          OTHER    0.1  positive   152\n",
       "36                          bank   ORGANIZATION    0.1  positive   152\n",
       "57              data integration          OTHER    0.1  positive   152\n",
       "88                     oversight          OTHER    0.1  positive   152"
      ]
     },
     "execution_count": 14,
     "metadata": {},
     "output_type": "execute_result"
    }
   ],
   "source": [
    "most_scored[0:20]"
   ]
  },
  {
   "cell_type": "code",
   "execution_count": 15,
   "id": "761f3f0a-7c89-4c89-8968-1c2416a68bf0",
   "metadata": {},
   "outputs": [
      ],
      "text/plain": [
       "             type                                  entity sentiment  obs\n",
       "0   CONSUMER_GOOD                         business models  positive  152\n",
       "1   CONSUMER_GOOD                                products   neutral  152\n",
       "2   CONSUMER_GOOD                                products  positive  304\n",
       "3        LOCATION                                  Austin   neutral  152\n",
       "4        LOCATION                               Frankfurt   neutral  152\n",
       "5        LOCATION                                 Germany   neutral  152\n",
       "6        LOCATION                                   Texas   neutral  152\n",
       "7        LOCATION                 cloud co-location sites   neutral  152\n",
       "8        LOCATION                            data centers   neutral  152\n",
       "9        LOCATION                            data centers  positive  152\n",
       "10       LOCATION                                  estate   neutral  152\n",
       "11       LOCATION                                   world   neutral  152\n",
       "12   ORGANIZATION                        Chief Technology   neutral  152\n",
       "13   ORGANIZATION                               Companies  positive  152\n",
       "14   ORGANIZATION                           Deutsche Bank   neutral  912\n",
       "15   ORGANIZATION                           Deutsche Bank  positive  608\n",
       "16   ORGANIZATION                  Deutsche Bank Partners  positive  152\n",
       "17   ORGANIZATION  Mission-Critical Database Technologies   neutral  152\n",
       "18   ORGANIZATION                                  Oracle   neutral  760\n",
       "19   ORGANIZATION                                  Oracle  positive  456\n",
       "20   ORGANIZATION                                     TDI   neutral  152\n",
       "21   ORGANIZATION                                    bank   neutral  304\n",
       "22   ORGANIZATION                                    bank  positive  304\n",
       "23   ORGANIZATION                               companies   neutral  152\n",
       "24   ORGANIZATION                                division   neutral  152\n",
       "25   ORGANIZATION                  innovation partnership  positive  152\n",
       "26   ORGANIZATION                           organizations   neutral  152\n",
       "27   ORGANIZATION                           organizations  positive  152\n",
       "28   ORGANIZATION                                   teams   neutral  152\n",
       "29          OTHER                                      AI   neutral  152\n",
       "30          OTHER     Accelerate Technology Modernization  positive  152\n",
       "31          OTHER                                    Data  positive  304\n",
       "32          OTHER                     Data and Innovation   neutral  152\n",
       "33          OTHER                   Exadata Cloud Service   neutral  152\n",
       "34          OTHER                  Exadata Cloud@Customer   neutral  304\n",
       "35          OTHER                         Oracle Database   neutral  152\n",
       "36          OTHER                              Technology   neutral  152\n",
       "37          OTHER                               agreement   neutral  152\n",
       "38          OTHER                               analytics   neutral  152\n",
       "39          OTHER                            applications   neutral  152\n",
       "40          OTHER                            applications  positive  608\n",
       "41          OTHER                                 balance   neutral  152\n",
       "42          OTHER                              blockchain   neutral  152\n",
       "43          OTHER                                    bulk   neutral  152\n",
       "44          OTHER                                business   neutral  152\n",
       "45          OTHER                                 capital  positive  152\n",
       "46          OTHER                                   cloud   neutral  304\n",
       "47          OTHER                                   cloud  positive  152\n",
       "48          OTHER                          cloud strategy   neutral  152"
      ]
     },
     "execution_count": 15,
     "metadata": {},
     "output_type": "execute_result"
    }
   ],
   "source": [
    "# Entity list, showing type and sentiment\n",
    "entity_df.groupby(['type', 'entity','sentiment']).size().reset_index(name='obs')[0:49]"
   ]
  },
  {
   "cell_type": "code",
   "execution_count": 16,
   "id": "1f988210-0403-4512-b6d3-994ac3fbd39a",
   "metadata": {},
   "outputs": [],
   "source": [
    "# Aggregations for Viz\n",
    "ent_all_stats = entity_df.groupby(['type', 'entity','sentiment']).size().reset_index(name='obs')\n",
    "ent_tot = entity_df.groupby(['type', 'entity']).size().groupby(level=1).max().sort_values(ascending=False).reset_index(name='Frequency')\n",
    "sentim_tot = entity_df.groupby(['sentiment']).size().reset_index(name='obs')"
   ]
  },
  {
   "cell_type": "code",
   "execution_count": 17,
   "id": "0ee4baa5-03f4-4382-8944-47fc4cf83bac",
   "metadata": {},
   "outputs": [
    {
     "name": "stdout",
     "output_type": "stream",
     "text": [
      "  sentiment    obs\n",
      "0   neutral  13680\n",
      "1  positive   9424\n",
      "\n",
      "Total Obvs:  23104\n"
     ]
    }
   ],
   "source": [
    "# Sentiment Totals\n",
    "print(sentim_tot)\n",
    "print()\n",
    "print('Total Obvs: ' , sentim_tot['obs'].sum())"
   ]
  },
  {
   "cell_type": "code",
   "execution_count": 18,
   "id": "557ac8a3-c04b-4349-80f0-e426240090ec",
   "metadata": {},
   "outputs": [],
   "source": [
    "## Percentage String Function\n",
    "def percentage(part, whole):\n",
    "    percentage = round(100 * float(part)/float(whole),2)\n",
    "    return str(percentage) + \"%\""
   ]
  },
  {
   "cell_type": "code",
   "execution_count": 19,
   "id": "f29f8a22-8092-410e-9567-6f09673bfbda",
   "metadata": {},
   "outputs": [
    {
     "name": "stdout",
     "output_type": "stream",
     "text": [
      "Neutral Sentiment: 59.21%\n",
      "Positive Sentiment: 40.79%\n",
      "Negative Sentiment: 0%\n"
     ]
    }
   ],
   "source": [
    "if 'neutral' in sentim_tot['sentiment'].values:\n",
    "    print('Neutral Sentiment: ' + percentage(sentim_tot[sentim_tot['sentiment'] == 'neutral']['obs'],sentim_tot['obs'].sum()))\n",
    "else:\n",
    "    print('Neutral Sentiment: 0%')\n",
    "if 'positive' in sentim_tot['sentiment'].values:\n",
    "    print('Positive Sentiment: ' +  percentage(sentim_tot[sentim_tot['sentiment'] == 'positive']['obs'],sentim_tot['obs'].sum()))\n",
    "else:\n",
    "    print('Positive Sentiment: 0%')\n",
    "if 'negative' in sentim_tot['sentiment'].values:\n",
    "    print('Negative Sentiment: ' + percentage(sentim_tot[sentim_tot['sentiment'] == 'negative']['obs'],sentim_tot['obs'].sum()))\n",
    "else:\n",
    "    print('Negative Sentiment: 0%')"
   ]
  },
  {
   "cell_type": "code",
   "execution_count": 20,
   "id": "5e4aa703-cabe-4aa8-add1-dfa5b443fed0",
   "metadata": {},
   "outputs": [],
   "source": [
    "#ent_tot\n",
    "ent_tot.rename(columns = {'entity':'Entity'}, inplace = True)"
   ]
  },
  {
   "cell_type": "code",
   "execution_count": 21,
   "id": "21f5cf32-def1-4a0b-916f-a70c7b057f6a",
   "metadata": {},
   "outputs": [
      ],
      "text/plain": [
       "         Frequency\n",
       "count    99.000000\n",
       "mean    227.232323\n",
       "std     216.461847\n",
       "min     152.000000\n",
       "25%     152.000000\n",
       "50%     152.000000\n",
       "75%     152.000000\n",
       "max    1520.000000"
      ]
     },
     "execution_count": 21,
     "metadata": {},
     "output_type": "execute_result"
    }
   ],
   "source": [
    "# For Stats: Describe 'Frequency' column for Entities\n",
    "ent_tot.describe()"
   ]
  },
  {
   "cell_type": "code",
   "execution_count": 22,
   "id": "7ef8be49-636c-4169-a247-47fac9e703bc",
   "metadata": {},
   "outputs": [],
   "source": [
    "esg_matches = pd.merge(ent_all_stats, entity_esg, how='inner', on = 'entity')"
   ]
  },
  {
   "cell_type": "code",
   "execution_count": 23,
   "id": "838683c2-b644-4508-87d2-a0b041bea7d2",
   "metadata": {},
   "outputs": [
      ],
      "text/plain": [
       "    type       entity sentiment  obs\n",
       "0  OTHER         Data  positive  304\n",
       "1  OTHER  environment   neutral  152\n",
       "2  OTHER    oversight  positive  152"
      ]
     },
     "execution_count": 23,
     "metadata": {},
     "output_type": "execute_result"
    }
   ],
   "source": [
    "esg_matches"
   ]
  },
  {
   "cell_type": "markdown",
   "id": "bdb589bd-69b4-41e6-99e0-603d2ffdd890",
   "metadata": {},
   "source": [
    "## Data Visualisation\n",
    "\n",
    "Plotly is a commonly-used data visualisation library. The following examples will show you how to create different graphs from the sample data.\n",
    "\n",
    "We can first read the sample data into a dataframe. The sample data is taken from the UK Met Office and shows the maximum and minimum temperature, the rainfall and the number of hours of sunlight for each month in 2018."
   ]
  },
  {
   "cell_type": "code",
   "execution_count": 24,
   "id": "6d7a300e-2f2c-4eed-b7d2-c6327c54b176",
   "metadata": {},
   "outputs": [
      ]
     },
     "metadata": {},
     "output_type": "display_data"
    },
      ]
     },
     "metadata": {},
     "output_type": "display_data"
    },
    {
     "name": "stdout",
     "output_type": "stream",
     "text": [
      "\n"
     ]
    },
    {
     "data": {
      "text/plain": [
       "<Figure size 640x480 with 1 Axes>"
      ]
     },
     "metadata": {},
     "output_type": "display_data"
    },
    {
     "name": "stdout",
     "output_type": "stream",
     "text": [
      "\n",
      "\n"
     ]
    },
    {
     "data": {
      "text/plain": [
       "<Figure size 640x480 with 1 Axes>"
      ]
     },
     "metadata": {},
     "output_type": "display_data"
    },
    {
     "name": "stdout",
     "output_type": "stream",
     "text": [
      "\n"
     ]
    },
    {
     "data": {
      "text/plain": [
       "<Figure size 640x480 with 1 Axes>"
      ]
     },
     "metadata": {},
     "output_type": "display_data"
    },
    {
     "name": "stdout",
     "output_type": "stream",
     "text": [
      "\n"
     ]
    }
   ],
   "source": [
    "# Named entity extraction – table of most important/frequently used entities referenced.\n",
    "px.bar(ent_tot, x='Entity', y='Frequency', title= \"Most Frequently used Entities - Article 3\").show()\n",
    "print()\n",
    "\n",
    "# Entity All Stats\n",
    "# Entities grouped by Type and Sentiment\n",
    "gg2 = ggplot(ent_all_stats, aes(x='type', y = \"obs\" ,fill = 'sentiment'))+ geom_bar(stat=\"identity\",position=\"dodge\") + theme(axis_text_x=element_text(angle=90)) + ggtitle(\"Entities by Type and Sentiment - Article 3\")\n",
    "print(gg2)\n",
    "print()\n",
    "\n",
    "# ESG Matches\n",
    "gg4 = ggplot(esg_matches, aes(x='entity', y ='obs' ,fill = 'sentiment')) + geom_bar(stat=\"identity\",position=\"dodge\") + ggtitle(\"ESG Keywords Match - Article 3\")\n",
    "print(gg4)\n",
    "\n",
    "# Sentiment Analysis\n",
    "gg3 = ggplot(sentim_tot, aes(x='sentiment', y='obs')) + geom_bar(stat=\"identity\",position=\"dodge\") + ggtitle(\"Overall Sentiment - Article 3\")\n",
    "print(gg3)       "
   ]
  },
  {
   "cell_type": "code",
   "execution_count": 25,
   "id": "6fbda0be-52a5-4929-89db-d6972a8198c2",
   "metadata": {},
   "outputs": [
    {
     "name": "stdout",
     "output_type": "stream",
     "text": [
      "Neutral Sentiment: 59.21%\n",
      "Positive Sentiment: 40.79%\n",
      "Negative Sentiment: 0%\n"
     ]
    }
   ],
   "source": [
    "if 'neutral' in sentim_tot['sentiment'].values:\n",
    "    print('Neutral Sentiment: ' + percentage(sentim_tot[sentim_tot['sentiment'] == 'neutral']['obs'],sentim_tot['obs'].sum()))\n",
    "else:\n",
    "    print('Neutral Sentiment: 0%')\n",
    "if 'positive' in sentim_tot['sentiment'].values:\n",
    "    print('Positive Sentiment: ' +  percentage(sentim_tot[sentim_tot['sentiment'] == 'positive']['obs'],sentim_tot['obs'].sum()))\n",
    "else:\n",
    "    print('Positive Sentiment: 0%')\n",
    "if 'negative' in sentim_tot['sentiment'].values:\n",
    "    print('Negative Sentiment: ' + percentage(sentim_tot[sentim_tot['sentiment'] == 'negative']['obs'],sentim_tot['obs'].sum()))\n",
    "else:\n",
    "    print('Negative Sentiment: 0%')"
   ]
  },
  {
   "cell_type": "markdown",
   "id": "8cca14ef",
   "metadata": {},
   "source": [
    "To gain more insight into a particular column, you can use the *describe()* method on the dataframe column name."
   ]
  }
 ],
 "metadata": {
  "environment": {
   "kernel": "python3",
   "name": "common-cpu.m91",
   "type": "gcloud",
   "uri": "gcr.io/deeplearning-platform-release/base-cpu:m91"
  },
  "kernelspec": {
   "display_name": "Python 3",
   "language": "python",
   "name": "python3"
  },
  "language_info": {
   "codemirror_mode": {
    "name": "ipython",
    "version": 3
   },
   "file_extension": ".py",
   "mimetype": "text/x-python",
   "name": "python",
   "nbconvert_exporter": "python",
   "pygments_lexer": "ipython3",
   "version": "3.7.12"
  }
 },
 "nbformat": 4,
 "nbformat_minor": 5
}
