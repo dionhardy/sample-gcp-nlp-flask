{
 "cells": [
  {
   "cell_type": "markdown",
   "id": "62b7257d",
   "metadata": {},
   "source": [
    "# Data Visualization with Plotly Demo\n",
    "\n",
    "## Introduction to Jupyter Notebook\n",
    "Jupyter Notebooks are a staple in any data scientist's toolkit. It is a free, open source, interactive data science environment that can function as both an IDE and a visualisation tool. A Jupyter Notebook is a single document where you can run code, display the output and add equations and explainations. Each notebook is a `.ipynb` file, which is a text file that describes the content of the notebook in JSON format.\n",
    "\n",
    "Each Jupter Notebook contains a kernal that can be thought of as a \"computational engine\" that executes the code within the notebook. Notebooks are made up of a number of cells. For example, this piece of text you are reading resides in the first cell of this notebook. They can be markdown cells that display text in-place or code cells. When a code cell is run, the output is displayed below the cell. The order in which cells are run matters! Cells containing functions or variables have to be run before those same functions or variables can be called from a subsequent cell. \n",
    "\n",
    "How to use a Jupyter Notebook:\n",
    "- To run a cell, either click the arrow to the left of the cell or press `ctrl + Enter` after selecting the cell. When a cell is run, a number will appear in square brackets (e.g. [1]) telling you the order in which each cell is run.\n",
    "- To interrupt a cell while it is running, press the button with the black square in the toolbar at the top\n",
    "- To restart the kernal, right-click `kernel` and choose from the list of restart options available\n",
    "\n",
    "\n",
    "## Introduction to Plotly\n",
    "\n",
    "Pandas is an open source library providing data structure and data analysis tools for the Python language. Plotly is another open source that allows you to put together high quality graphs to faciliate the visualisation of the data. Plotly Dash (written on top of Plotly.js and React.js) allows one to quickly build data apps that are rendered in the browser. \n",
    "\n",
    "This notebook contains examples of how each of these libraries can be leveraged to analyse and visualise data. For more information, please check out the official documentation listed below.\n",
    "\n",
    "#### Further Documentation\n",
    "https://pandas.pydata.org/docs/ \\\n",
    "https://plot.ly/python/ \\\n",
    "https://dash.plotly.com/introduction "
   ]
  },
  {
   "cell_type": "markdown",
   "id": "e3e9b749",
   "metadata": {},
   "source": [
    "## Setting Up\n",
    "\n",
    "You can install the libraries using pip or conda. \n",
    "\n",
    "**N.B.** you may have to restart the kernel after installing these packages for your first run."
   ]
  },
  {
   "cell_type": "code",
   "execution_count": null,
   "id": "a6ccdd82",
   "metadata": {},
   "outputs": [
    {
     "name": "stdout",
     "output_type": "stream",
     "text": [
     ]
    }
   ],
   "source": [
    "#!/bin/env python\n",
    "\n",
    "# install packages\n",
    "!pip3 install --user pandas\n",
    "!pip3 install --user numpy\n",
    "!pip3 install --user matplotlib\n",
    "!pip3 install --user plotly\n",
    "!pip3 install --user jupyter-dash"
   ]
  },
  {
   "cell_type": "markdown",
   "id": "575d5f13",
   "metadata": {},
   "source": [
    "Having installed the libraries, you can import them as follows."
   ]
  },
  {
   "cell_type": "code",
   "execution_count": 17,
   "id": "16a4f920",
   "metadata": {},
   "outputs": [],
   "source": [
    "# import libraries\n",
    "%matplotlib inline\n",
    "\n",
    "#import plotly\n",
    "import requests\n",
    "import json\n",
    "import pandas as pd\n",
    "import numpy as np\n",
    "import matplotlib.pyplot as plt\n",
    "from plotly import express as px\n",
    "import plotly.graph_objects as go\n",
    "from plotly.subplots import make_subplots\n",
    "from jupyter_dash import JupyterDash\n",
    "from dash import dcc\n",
    "from dash import html\n",
    "from dash.dependencies import Input, Output, State\n",
    "\n",
    "# Set display row/column to show all data\n",
    "pd.set_option('display.max_rows', None)\n",
    "pd.set_option('display.max_columns', None)"
   ]
  },
  {
   "cell_type": "code",
   "execution_count": 18,
   "id": "388e38c6-63e0-4c31-a8ff-f35c5a9b4a2d",
   "metadata": {},
   "outputs": [],
   "source": [
    "#!pip3 install --user plotly\n",
    "#import plotly\n"
   ]
  },
  {
   "cell_type": "markdown",
   "id": "2c8adbeb",
   "metadata": {},
   "source": [
    "## Access Data From Endpoint\n",
    "\n",
    "#### Further Documentation\n",
    "https://docs.python-requests.org/en/master/\n",
    "\n",
    "**N.B.** the url used in this example is from the demo project we have set up. Please replace it with your own url."
   ]
  },
  {
   "cell_type": "code",
   "execution_count": 40,
   "id": "f3c61d47",
   "metadata": {},
   "outputs": [
    {
     "data": {
      "text/plain": [
       "{'5631671361601536': {'text': 'it is sunny and bright outside and it will be colder overnight',\n",
       "  'timestamp': '2022-03-23 10:47:54.162574+00:00',\n",
       "  'sentiment': 'positive'},\n",
       " '5632499082330112': {'text': 'it is sunny and birght',\n",
       "  'timestamp': '2022-03-23 10:46:37.100192+00:00',\n",
       "  'sentiment': 'neutral'},\n",
       " '5634161670881280': {'text': 'sell horrible trees for money',\n",
       "  'timestamp': '2022-03-22 19:18:03.117197+00:00',\n",
       "  'sentiment': 'negative'},\n",
       " '5635008819625984': {'text': 'Sell trees',\n",
       "  'timestamp': '2022-03-23 19:04:12.857337+00:00',\n",
       "  'sentiment': 'neutral'},\n",
       " '5636645067948032': {'text': 'it is sunny and bright outside and it will be cold overnight',\n",
       "  'timestamp': '2022-03-23 10:47:23.058599+00:00',\n",
       "  'sentiment': 'positive'},\n",
       " '5638358357245952': {'text': 'it is sunny and raining outside and it will be colder overnight',\n",
       "  'timestamp': '2022-03-23 10:48:02.497649+00:00',\n",
       "  'sentiment': 'negative'},\n",
       " '5642368648740864': {'text': 'it is sunny and bright',\n",
       "  'timestamp': '2022-03-23 10:46:59.488532+00:00',\n",
       "  'sentiment': 'positive'},\n",
       " '5643280054222848': {'text': \"buy flowers for the weekend cos it's mother's day\",\n",
       "  'timestamp': '2022-03-23 19:04:23.600202+00:00',\n",
       "  'sentiment': 'positive'},\n",
       " '5644004762845184': {'text': 'seel beautiful trees for dreams',\n",
       "  'timestamp': '2022-03-22 19:18:45.523808+00:00',\n",
       "  'sentiment': 'positive'},\n",
       " '5646488461901824': {'text': 'it is sunny and bright outside and it will be freezing overnight',\n",
       "  'timestamp': '2022-03-23 10:47:36.200417+00:00',\n",
       "  'sentiment': 'negative'},\n",
       " '5704568633556992': {'text': 'Do trees like sunshine',\n",
       "  'timestamp': '2022-03-23 11:14:19.595612+00:00',\n",
       "  'sentiment': 'positive'}}"
      ]
     },
     "execution_count": 40,
     "metadata": {},
     "output_type": "execute_result"
    }
   ],
   "source": [
    "# define endpoint url\n",
    "url = \"https://dbgee-mar22-12.ew.r.appspot.com/api/text\"\n",
    "\n",
    "# use requests library to send HTTP requests\n",
    "# in this example, GET sentiment analysis data\n",
    "data = json.loads(requests.get(url).text)\n",
    "\n",
    "# examine data\n",
    "data"
   ]
  },
  {
   "cell_type": "markdown",
   "id": "15e94864",
   "metadata": {},
   "source": [
    "## Data Visualisation\n",
    "\n",
    "Plotly is a commonly-used data visualisation library. The following examples will show you how to create different graphs from the sample data.\n",
    "\n",
    "We can first read the sample data into a dataframe. The sample data is taken from the UK Met Office and shows the maximum and minimum temperature, the rainfall and the number of hours of sunlight for each month in 2018."
   ]
  },
  {
   "cell_type": "code",
   "execution_count": 48,
   "id": "7865a104-acdc-46ff-b25f-07ff1d093028",
   "metadata": {},
   "outputs": [],
   "source": [
    "from google.cloud import language_v1\n",
    "\n",
    "def sample_analyze_entities(text_content):\n",
    "    \"\"\"\n",
    "    Analyzing Entities in a String\n",
    "\n",
    "    Args:\n",
    "      text_content The text content to analyze\n",
    "    \"\"\"\n",
    "\n",
    "    client = language_v1.LanguageServiceClient()\n",
    "\n",
    "    # text_content = 'California is a state.'\n",
    "\n",
    "    # Available types: PLAIN_TEXT, HTML\n",
    "    type_ = language_v1.Document.Type.PLAIN_TEXT\n",
    "\n",
    "    # Optional. If not specified, the language is automatically detected.\n",
    "    # For list of supported languages:\n",
    "    # https://cloud.google.com/natural-language/docs/languages\n",
    "    language = \"en\"\n",
    "    document = {\"content\": text_content, \"type_\": type_, \"language\": language}\n",
    "\n",
    "    # Available values: NONE, UTF8, UTF16, UTF32\n",
    "    encoding_type = language_v1.EncodingType.UTF8\n",
    "\n",
    "    response = client.analyze_entities(request = {'document': document, 'encoding_type': encoding_type})\n",
    "    \n",
    "    # TODO add in the filter file here\n",
    "    filterEsgWords = open('articles/'+ file, \"r\")\n",
    "    \n",
    "    # Loop through entitites returned from the API\n",
    "    for entity in response.entities:\n",
    "        print(u\"Representative name for the entity: {}\".format(entity.name))\n",
    "\n",
    "        # Get entity type, e.g. PERSON, LOCATION, ADDRESS, NUMBER, et al\n",
    "        print(u\"Entity type: {}\".format(language_v1.Entity.Type(entity.type_).name))\n",
    "\n",
    "        # Get the salience score associated with the entity in the [0, 1.0] range\n",
    "        print(u\"Salience score: {}\".format(entity.salience))\n",
    "\n",
    "        # Loop over the metadata associated with entity. For many known entities,\n",
    "        # the metadata is a Wikipedia URL (wikipedia_url) and Knowledge Graph MID (mid).\n",
    "        # Some entity types may have additional metadata, e.g. ADDRESS entities\n",
    "        # may have metadata for the address street_name, postal_code, et al.\n",
    "        for metadata_name, metadata_value in entity.metadata.items():\n",
    "            print(u\"{}: {}\".format(metadata_name, metadata_value))\n",
    "\n",
    "        # Loop over the mentions of this entity in the input document.\n",
    "        # The API currently supports proper noun mentions.\n",
    "        for mention in entity.mentions:\n",
    "            print(u\"Mention text: {}\".format(mention.text.content))\n",
    "\n",
    "            # Get the mention type, e.g. PROPER for proper noun\n",
    "            print(\n",
    "                u\"Mention type: {}\".format(language_v1.EntityMention.Type(mention.type_).name)\n",
    "            )\n",
    "\n",
    "    # Get the language of the text, which will be the same as\n",
    "    # the language specified in the request or, if not specified,\n",
    "    # the automatically-detected language.\n",
    "    print(u\"Language of the text: {}\".format(response.language))\n",
    "\n"
   ]
  },
  {
   "cell_type": "code",
   "execution_count": 30,
   "id": "1336d0db-c380-447a-9015-6197abe2cf2c",
   "metadata": {},
   "outputs": [],
   "source": [
    "import os"
   ]
  },
  {
   "cell_type": "code",
   "execution_count": 50,
   "id": "5f2c7515",
   "metadata": {},
   "outputs": [
    {
     "name": "stdout",
     "output_type": "stream",
     "text": [
     ]
    }
   ],
   "source": []
  },
  {
   "cell_type": "code",
   "execution_count": 22,
   "id": "58d48ab3",
   "metadata": {},
   "outputs": [
    {
     "name": "stdout",
     "output_type": "stream",
     "text": [
      "count    12.000000\n",
      "mean     48.333333\n",
      "std      24.630555\n",
      "min       0.400000\n",
      "25%      29.300000\n",
      "50%      58.200000\n",
      "75%      62.050000\n",
      "max      81.200000\n",
      "Name: Rain, dtype: float64\n"
     ]
    }
   ],
   "source": [
    "# describe the monthly rainfall\n",
    "rain_data = weather.Rain.describe()\n",
    "print(rain_data)"
   ]
  },
  {
   "cell_type": "markdown",
   "id": "190b793c",
   "metadata": {},
   "source": [
    "#### 1D Line Graph"
   ]
  },
  {
   "cell_type": "code",
   "execution_count": 23,
   "id": "5eee88bf",
   "metadata": {},
   "outputs": [
    {
      ]
     },
     "metadata": {},
     "output_type": "display_data"
    },
    {
     "data": {
      "text/plain": [
       "<AxesSubplot:xlabel='Month'>"
      ]
     },
     "execution_count": 23,
     "metadata": {},
     "output_type": "execute_result"
    },
    {
     "data": {
      "image/png": "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\n",
      "text/plain": [
       "<Figure size 432x288 with 1 Axes>"
      ]
     },
     "metadata": {
      "needs_background": "light"
     },
     "output_type": "display_data"
    }
   ],
   "source": [
    "# plot max temp. vs month\n",
    "\n",
    "max_temp_fig = px.line(weather, x='Month', y='Tmax')\n",
    "max_temp_fig.show()\n",
    "\n",
    "\n",
    "# you can compare this to the following line of code, which uses the more standard matplotlib library to plot the same data\n",
    "\n",
    "weather.plot.line(y='Tmax', x='Month')"
   ]
  },
  {
   "cell_type": "markdown",
   "id": "07749c97",
   "metadata": {},
   "source": [
    "We can plot multiple lines on the same graph and edit the layout to make it look more sophisticated. We can also update the dataframe with the average temperature and show that on the graph too."
   ]
  },
  {
   "cell_type": "code",
   "execution_count": 28,
   "id": "5a168d51",
   "metadata": {},
   "outputs": [
    {
      ],
      "text/plain": [
       "   Year  Month  Tmax  Tmin  Rain    Sun   Tmed\n",
       "0  2018      1   9.7   3.8  58.0   46.5   6.75\n",
       "1  2018      2   6.7   0.6  29.0   92.0   3.65\n",
       "2  2018      3   9.8   3.0  81.2   70.3   6.40\n",
       "3  2018      4  15.5   7.9  65.2  113.4  11.70\n",
       "4  2018      5  20.8   9.8  58.4  248.3  15.30"
      ]
     },
     "execution_count": 28,
     "metadata": {},
     "output_type": "execute_result"
    }
   ],
   "source": [
    "# calculate ave. temp. and create a new column in the dataframe \n",
    "weather['Tmed'] = (weather['Tmax'] + weather['Tmin'])/2\n",
    "\n",
    "# inspect the first 5 rows\n",
    "weather.head()"
   ]
  },
  {
   "cell_type": "code",
   "execution_count": 29,
   "id": "c8ff6d32",
   "metadata": {},
   "outputs": [
    {
      ]
     },
     "metadata": {},
     "output_type": "display_data"
    }
   ],
   "source": [
    "# plot max and min temp. vs month\n",
    "min_temp = go.Scatter(x=weather['Month'], y=weather['Tmin'], name='Min Temp')\n",
    "med_temp = go.Scatter(x=weather['Month'], y=weather['Tmed'], name='Ave Temp')\n",
    "max_temp = go.Scatter(x=weather['Month'], y=weather['Tmax'], name='Max Temp')\n",
    "\n",
    "min_max_temp_fig = go.Figure()\n",
    "\n",
    "min_max_temp_fig.add_trace(min_temp)\n",
    "min_max_temp_fig.add_trace(med_temp)\n",
    "min_max_temp_fig.add_trace(max_temp)\n",
    "\n",
    "# edit the layout\n",
    "min_max_temp_fig.update_layout(title=\"Temperature Distribution\",\n",
    "                               xaxis_title='Month',\n",
    "                               yaxis_title='Temperature (Celsius)')\n",
    "\n",
    "min_max_temp_fig.show()\n"
   ]
  },
  {
   "cell_type": "markdown",
   "id": "8ea4b211",
   "metadata": {},
   "source": [
    "#### Bar Chart"
   ]
  },
  {
   "cell_type": "code",
   "execution_count": null,
   "id": "1d33ba25",
   "metadata": {},
   "outputs": [],
   "source": [
    "# lot rainfall vs month\n",
    "\n",
    "rainfall_fig = px.bar(weather, x='Month', y='Rain')\n",
    "rainfall_fig.update_layout(title=\"Rainfall Distribution\",\n",
    "                           xaxis_title=\"Month\",\n",
    "                           yaxis_title='Rain')\n",
    "rainfall_fig.show()\n",
    "\n",
    "# The following line of code achieves the same thing using Matplotlib\n",
    "\n",
    "# weather.plot.bar(y='Rain', x='Month')"
   ]
  },
  {
   "cell_type": "markdown",
   "id": "2ae08d9a",
   "metadata": {},
   "source": [
    "#### Histogram\n",
    "\n",
    "Histograms are useful for when you want to visualise the frequency distribution of the data."
   ]
  },
  {
   "cell_type": "code",
   "execution_count": null,
   "id": "293dc65d",
   "metadata": {},
   "outputs": [],
   "source": [
    "rainfall_hist = px.histogram(weather, x='Rain', nbins=10) # you can specify the number of bins\n",
    "rainfall_hist.update_layout(title=\"Frequency of Rainfall Amount\",\n",
    "                            bargap=0.1) # you can specify a gap between bars\n",
    "rainfall_hist.show()"
   ]
  },
  {
   "cell_type": "markdown",
   "id": "71f381e9",
   "metadata": {},
   "source": [
    "#### Multiple Charts\n",
    "\n",
    "You can also create separate charts for each column of data. The following example shows separate line graphs of the four columns."
   ]
  },
  {
   "cell_type": "code",
   "execution_count": null,
   "id": "536a2178",
   "metadata": {},
   "outputs": [],
   "source": [
    "# multiple line charts \n",
    "rain = go.Scatter(x=weather['Month'], y=weather['Rain'], name=\"Rain\")\n",
    "sun = go.Scatter(x=weather['Month'], y=weather['Sun'], name=\"Sun\")\n",
    "\n",
    "subplots_fig = make_subplots(rows=2, cols=2,\n",
    "                             subplot_titles=(\"Min Temp\", \"Max Temp\", \"Rain\", \"Sun\"))\n",
    "\n",
    "# use min_temp and max_temp plots from before\n",
    "subplots_fig.add_trace(min_temp, row=1, col=1)\n",
    "subplots_fig.add_trace(max_temp, row=2, col=1)\n",
    "subplots_fig.add_trace(rain, row=1, col=2)\n",
    "subplots_fig.add_trace(sun, row=2, col=2)\n",
    "\n",
    "subplots_fig.update_layout(height=600, width=800, title_text=\"Subplots Demo\")\n",
    "\n",
    "subplots_fig.show()\n"
   ]
  },
  {
   "cell_type": "markdown",
   "id": "eddb9da5",
   "metadata": {},
   "source": [
    "## Introducing Jupyter Dash\n",
    "\n",
    "Dash is Plotly's open source Python framework for building full stack analytic web applications using pure Python. The JupyterDash library makes these features available from the jupyter notebook."
   ]
  },
  {
   "cell_type": "code",
   "execution_count": null,
   "id": "7f830387",
   "metadata": {},
   "outputs": [],
   "source": [
    "### Run ngrok to tunnel Dash app port 8050 to the outside world. \n",
    "### This command runs in the background.\n",
    "get_ipython().system_raw('./ngrok http 8050 &')"
   ]
  },
  {
   "cell_type": "code",
   "execution_count": null,
   "id": "63687a85",
   "metadata": {},
   "outputs": [],
   "source": [
    "# get ID of the most recent \n",
    "last_text_id = list(data.keys())[0]\n",
    "\n",
    "app = JupyterDash(__name__)\n",
    "\n",
    "app.layout = html.Div([\n",
    "    html.H1(\"JupyterDash Demo\"),\n",
    "    \n",
    "    \n",
    "    # THESE LINES DISPLAY THE OUTPUT OF NLP API\n",
    "    html.P(\"Most Recent Text ID: {}\".format(last_text_id)),\n",
    "    html.P(\"Text Analysed: {}\".format(data[last_text_id][\"text\"])),\n",
    "    html.P(\"Sentiment: {}\".format(data[last_text_id][\"sentiment\"])),\n",
    "  \n",
    "    # THESE LINES DEMO ONE OF THE DASH CORE COMPONENT(dcc) i.e. dcc.Input\n",
    "    html.H3(\"Change the value in the text box to see callbacks in action!\"),\n",
    "    html.Div([\n",
    "        \"Input: \",\n",
    "        dcc.Input(id='my-input', value='initial value', type='text')\n",
    "    ]),\n",
    "    html.Br(),\n",
    "    html.Div(id='my-output'),\n",
    "    \n",
    "    # THESE LINES DEMO THE INTEGRATION OF PLOTLY GRAPHS WITH DASH\n",
    "    dcc.Graph(figure=subplots_fig),\n",
    "\n",
    "])\n",
    "\n",
    "\n",
    "@app.callback(\n",
    "    Output(component_id='my-output', component_property='children'),\n",
    "    Input(component_id='my-input', component_property='value')\n",
    ")\n",
    "def update_output_div(input_value):\n",
    "    return 'Output: {}'.format(input_value)\n"
   ]
  },
  {
   "cell_type": "code",
   "execution_count": null,
   "id": "928b561b",
   "metadata": {},
   "outputs": [],
   "source": [
    "app.run_server(mode=\"external\", port=8050)"
   ]
  },
  {
   "cell_type": "markdown",
   "id": "40b36aff",
   "metadata": {},
   "source": [
    "#### In case the below cell has errors, please rerun it"
   ]
  },
  {
   "cell_type": "code",
   "execution_count": null,
   "id": "ddc38fcd",
   "metadata": {},
   "outputs": [],
   "source": [
    "### Get the public URL where you can access the Dash app. Copy this URL.\n",
    "! curl -s http://localhost:4040/api/tunnels | python3 -c \\\n",
    "    \"import sys, json; print(json.load(sys.stdin)['tunnels'][0]['public_url'])\""
   ]
  },
  {
   "cell_type": "code",
   "execution_count": null,
   "id": "7f45f323",
   "metadata": {},
   "outputs": [],
   "source": []
  }
 ],
 "metadata": {
  "environment": {
   "kernel": "python3",
   "name": "common-cpu.m91",
   "type": "gcloud",
   "uri": "gcr.io/deeplearning-platform-release/base-cpu:m91"
  },
  "kernelspec": {
   "display_name": "Python 3",
   "language": "python",
   "name": "python3"
  },
  "language_info": {
   "codemirror_mode": {
    "name": "ipython",
    "version": 3
   },
   "file_extension": ".py",
   "mimetype": "text/x-python",
   "name": "python",
   "nbconvert_exporter": "python",
   "pygments_lexer": "ipython3",
   "version": "3.7.12"
  }
 },
 "nbformat": 4,
 "nbformat_minor": 5
}
